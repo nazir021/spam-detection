{
  "nbformat": 4,
  "nbformat_minor": 0,
  "metadata": {
    "colab": {
      "provenance": []
    },
    "kernelspec": {
      "name": "python3",
      "display_name": "Python 3"
    },
    "accelerator": "GPU"
  },
  "cells": [
    {
      "cell_type": "markdown",
      "metadata": {
        "id": "elqe9PQrVH6P"
      },
      "source": [
        "### Performing checks for the resources available"
      ]
    },
    {
      "cell_type": "code",
      "metadata": {
        "colab": {
          "base_uri": "https://localhost:8080/"
        },
        "id": "fSELLChxa5su",
        "outputId": "34ac98bf-ba37-49ee-e4dd-22f40fb7aa7d"
      },
      "source": [
        "import torch\n",
        "\n",
        "# If there's a GPU available...\n",
        "if torch.cuda.is_available():\n",
        "\n",
        "    # Tell PyTorch to use the GPU.\n",
        "    device = torch.device(\"cuda\")\n",
        "\n",
        "    print('There are %d GPU(s) available.' % torch.cuda.device_count())\n",
        "\n",
        "    print('We will use the GPU:', torch.cuda.get_device_name(0))\n",
        "\n",
        "# If not...\n",
        "else:\n",
        "    print('No GPU available, using the CPU instead.')\n",
        "    device = torch.device(\"cpu\")"
      ],
      "execution_count": 115,
      "outputs": [
        {
          "output_type": "stream",
          "name": "stdout",
          "text": [
            "There are 1 GPU(s) available.\n",
            "We will use the GPU: Tesla T4\n"
          ]
        }
      ]
    },
    {
      "cell_type": "markdown",
      "metadata": {
        "id": "K-gbOgflVRxg"
      },
      "source": [
        "### Installing huggingface transformers library"
      ]
    },
    {
      "cell_type": "code",
      "metadata": {
        "colab": {
          "base_uri": "https://localhost:8080/"
        },
        "id": "DbDuxKy0a9Zl",
        "outputId": "2449234d-0fd3-4bbb-f6b4-7f38351c9a00"
      },
      "source": [
        "!pip install transformers"
      ],
      "execution_count": 116,
      "outputs": [
        {
          "output_type": "stream",
          "name": "stdout",
          "text": [
            "Requirement already satisfied: transformers in /usr/local/lib/python3.10/dist-packages (4.44.2)\n",
            "Requirement already satisfied: filelock in /usr/local/lib/python3.10/dist-packages (from transformers) (3.16.1)\n",
            "Requirement already satisfied: huggingface-hub<1.0,>=0.23.2 in /usr/local/lib/python3.10/dist-packages (from transformers) (0.24.7)\n",
            "Requirement already satisfied: numpy>=1.17 in /usr/local/lib/python3.10/dist-packages (from transformers) (1.26.4)\n",
            "Requirement already satisfied: packaging>=20.0 in /usr/local/lib/python3.10/dist-packages (from transformers) (24.1)\n",
            "Requirement already satisfied: pyyaml>=5.1 in /usr/local/lib/python3.10/dist-packages (from transformers) (6.0.2)\n",
            "Requirement already satisfied: regex!=2019.12.17 in /usr/local/lib/python3.10/dist-packages (from transformers) (2024.9.11)\n",
            "Requirement already satisfied: requests in /usr/local/lib/python3.10/dist-packages (from transformers) (2.32.3)\n",
            "Requirement already satisfied: safetensors>=0.4.1 in /usr/local/lib/python3.10/dist-packages (from transformers) (0.4.5)\n",
            "Requirement already satisfied: tokenizers<0.20,>=0.19 in /usr/local/lib/python3.10/dist-packages (from transformers) (0.19.1)\n",
            "Requirement already satisfied: tqdm>=4.27 in /usr/local/lib/python3.10/dist-packages (from transformers) (4.66.5)\n",
            "Requirement already satisfied: fsspec>=2023.5.0 in /usr/local/lib/python3.10/dist-packages (from huggingface-hub<1.0,>=0.23.2->transformers) (2024.6.1)\n",
            "Requirement already satisfied: typing-extensions>=3.7.4.3 in /usr/local/lib/python3.10/dist-packages (from huggingface-hub<1.0,>=0.23.2->transformers) (4.12.2)\n",
            "Requirement already satisfied: charset-normalizer<4,>=2 in /usr/local/lib/python3.10/dist-packages (from requests->transformers) (3.4.0)\n",
            "Requirement already satisfied: idna<4,>=2.5 in /usr/local/lib/python3.10/dist-packages (from requests->transformers) (3.10)\n",
            "Requirement already satisfied: urllib3<3,>=1.21.1 in /usr/local/lib/python3.10/dist-packages (from requests->transformers) (2.2.3)\n",
            "Requirement already satisfied: certifi>=2017.4.17 in /usr/local/lib/python3.10/dist-packages (from requests->transformers) (2024.8.30)\n"
          ]
        }
      ]
    },
    {
      "cell_type": "markdown",
      "metadata": {
        "id": "bPwaYLiRSNPC"
      },
      "source": [
        "## Importing necessary packages"
      ]
    },
    {
      "cell_type": "code",
      "metadata": {
        "id": "0XdFrhr8SRG0"
      },
      "source": [
        "import pandas as pd\n",
        "import numpy as np\n",
        "import random\n",
        "from sklearn.preprocessing import LabelEncoder\n",
        "from sklearn.utils.class_weight import compute_class_weight\n",
        "import time\n",
        "import datetime\n",
        "from sklearn.metrics import classification_report,confusion_matrix\n",
        "import random\n",
        "import time\n",
        "import torch.nn as nn\n",
        "from transformers import AutoModel , AutoModelForSequenceClassification, AutoConfig , AutoTokenizer , AdamW ,get_linear_schedule_with_warmup\n",
        "import torch\n",
        "import matplotlib.pyplot as plt\n",
        "import seaborn as sns\n",
        "from matplotlib import rc\n",
        "from matplotlib.ticker import MaxNLocator"
      ],
      "execution_count": 117,
      "outputs": []
    },
    {
      "cell_type": "markdown",
      "metadata": {
        "id": "dROX3juhVCxC"
      },
      "source": [
        "## Setting some configuration values"
      ]
    },
    {
      "cell_type": "code",
      "metadata": {
        "id": "Kzafv4BzVCC9"
      },
      "source": [
        "# Use plot styling from seaborn.\n",
        "sns.set(style='darkgrid')\n",
        "\n",
        "# Increase the plot size and font size.\n",
        "sns.set(font_scale=1.5)\n",
        "plt.rcParams[\"figure.figsize\"] = (16,12)\n",
        "\n",
        "# Set the seed value all over the place to make this reproducible.\n",
        "seed_val = 42\n",
        "\n",
        "random.seed(seed_val)\n",
        "np.random.seed(seed_val)\n",
        "torch.manual_seed(seed_val)\n",
        "torch.cuda.manual_seed_all(seed_val)"
      ],
      "execution_count": 118,
      "outputs": []
    },
    {
      "cell_type": "markdown",
      "metadata": {
        "id": "2v1AIN_OVX4t"
      },
      "source": [
        "## Importing drive into the colaboratory"
      ]
    },
    {
      "cell_type": "code",
      "metadata": {
        "colab": {
          "base_uri": "https://localhost:8080/"
        },
        "id": "Lofimyh2a_tp",
        "outputId": "d3c243d2-6023-4d97-eb33-96f06a80a470"
      },
      "source": [
        "from google.colab import drive\n",
        "drive.mount('/content/drive')"
      ],
      "execution_count": 119,
      "outputs": [
        {
          "output_type": "stream",
          "name": "stdout",
          "text": [
            "Drive already mounted at /content/drive; to attempt to forcibly remount, call drive.mount(\"/content/drive\", force_remount=True).\n"
          ]
        }
      ]
    },
    {
      "cell_type": "markdown",
      "metadata": {
        "id": "FUPkZxjLVjLK"
      },
      "source": [
        "## Loading training data"
      ]
    },
    {
      "cell_type": "code",
      "metadata": {
        "colab": {
          "base_uri": "https://localhost:8080/"
        },
        "id": "joone3H4bINR",
        "outputId": "b896304d-a543-482d-d78c-fa62e5f6cf83"
      },
      "source": [
        "import pandas as pd\n",
        "\n",
        "# Attempt to read the file with ISO-8859-1 encoding\n",
        "data = pd.read_csv('/content/drive/MyDrive/Colab Notebooks/Nazir Sir/spam - spam.csv', encoding='ISO-8859-1')\n",
        "\n",
        "# Keep only the specified three columns\n",
        "# Replace 'column1', 'column2', 'column3' with your actual column names\n",
        "data = data[['PID', 'text ', 'labels']]\n",
        "\n",
        "# Report the number of sentences\n",
        "print('Number of training sentences: {:,}\\n'.format(data.shape[0]))\n",
        "\n",
        "# Display 10 random rows from the data\n",
        "print(data.sample(10))\n"
      ],
      "execution_count": 120,
      "outputs": [
        {
          "output_type": "stream",
          "name": "stdout",
          "text": [
            "Number of training sentences: 5,572\n",
            "\n",
            "       PID                                              text  labels\n",
            "3245  3246  Funny fact Nobody teaches volcanoes 2 erupt, t...    ham\n",
            "944    945  I sent my scores to sophas and i had to do sec...    ham\n",
            "1044  1045  We know someone who you know that fancies you....   spam\n",
            "2484  2485  Only if you promise your getting out as SOON a...    ham\n",
            "812    813  Congratulations ur awarded either ï¿½500 of CD...   spam\n",
            "2973  2974         I'll text carlos and let you know, hang on    ham\n",
            "2991  2992          K.i did't see you.:)k:)where are you now?    ham\n",
            "2942  2943             No message..no responce..what happend?    ham\n",
            "230    231  Get down in gandhipuram and walk to cross cut ...    ham\n",
            "1181  1182                         You flippin your shit yet?    ham\n"
          ]
        }
      ]
    },
    {
      "cell_type": "code",
      "source": [
        "import pandas as pd\n",
        "from sklearn.model_selection import train_test_split\n",
        "\n",
        "# # Read the file with ISO-8859-1 encoding\n",
        "# train_df = pd.read_csv('/content/drive/MyDrive/Colab Notebooks/Nazir Sir/spam - spam.csv', encoding='ISO-8859-1')\n",
        "\n",
        "# First, split the data into training and temp (test + validation)\n",
        "train_df, temp_df = train_test_split(data, test_size=0.2, random_state=42)\n",
        "\n",
        "# Then split temp_data into test and validation sets (50% each of temp_data, so 15% of the total for each)\n",
        "test_df, val_df = train_test_split(temp_df, test_size=0.5, random_state=42)"
      ],
      "metadata": {
        "id": "hCC1mJq8pXxF"
      },
      "execution_count": 121,
      "outputs": []
    },
    {
      "cell_type": "code",
      "source": [
        "train_df"
      ],
      "metadata": {
        "colab": {
          "base_uri": "https://localhost:8080/",
          "height": 424
        },
        "id": "GNakCSLC7cIb",
        "outputId": "abd3be0c-956a-42ba-e64d-f0e8fc3dd40c"
      },
      "execution_count": 122,
      "outputs": [
        {
          "output_type": "execute_result",
          "data": {
            "text/plain": [
              "       PID                                              text  labels\n",
              "1978  1979  No I'm in the same boat. Still here at my moms...    ham\n",
              "3989  3990  (Bank of Granite issues Strong-Buy) EXPLOSIVE ...   spam\n",
              "3935  3936     They r giving a second chance to rahul dengra.    ham\n",
              "4078  4079     O i played smash bros  &lt;#&gt;  religiously.    ham\n",
              "4086  4087  PRIVATE! Your 2003 Account Statement for 07973...   spam\n",
              "...    ...                                                ...    ...\n",
              "3772  3773  I came hostel. I m going to sleep. Plz call me...    ham\n",
              "5191  5192                             Sorry, I'll call later    ham\n",
              "5226  5227      Prabha..i'm soryda..realy..frm heart i'm sory    ham\n",
              "5390  5391                         Nt joking seriously i told    ham\n",
              "860    861                In work now. Going have in few min.    ham\n",
              "\n",
              "[4457 rows x 3 columns]"
            ],
            "text/html": [
              "\n",
              "  <div id=\"df-17c49138-05ad-4617-a026-3167ee6ab19d\" class=\"colab-df-container\">\n",
              "    <div>\n",
              "<style scoped>\n",
              "    .dataframe tbody tr th:only-of-type {\n",
              "        vertical-align: middle;\n",
              "    }\n",
              "\n",
              "    .dataframe tbody tr th {\n",
              "        vertical-align: top;\n",
              "    }\n",
              "\n",
              "    .dataframe thead th {\n",
              "        text-align: right;\n",
              "    }\n",
              "</style>\n",
              "<table border=\"1\" class=\"dataframe\">\n",
              "  <thead>\n",
              "    <tr style=\"text-align: right;\">\n",
              "      <th></th>\n",
              "      <th>PID</th>\n",
              "      <th>text</th>\n",
              "      <th>labels</th>\n",
              "    </tr>\n",
              "  </thead>\n",
              "  <tbody>\n",
              "    <tr>\n",
              "      <th>1978</th>\n",
              "      <td>1979</td>\n",
              "      <td>No I'm in the same boat. Still here at my moms...</td>\n",
              "      <td>ham</td>\n",
              "    </tr>\n",
              "    <tr>\n",
              "      <th>3989</th>\n",
              "      <td>3990</td>\n",
              "      <td>(Bank of Granite issues Strong-Buy) EXPLOSIVE ...</td>\n",
              "      <td>spam</td>\n",
              "    </tr>\n",
              "    <tr>\n",
              "      <th>3935</th>\n",
              "      <td>3936</td>\n",
              "      <td>They r giving a second chance to rahul dengra.</td>\n",
              "      <td>ham</td>\n",
              "    </tr>\n",
              "    <tr>\n",
              "      <th>4078</th>\n",
              "      <td>4079</td>\n",
              "      <td>O i played smash bros  &amp;lt;#&amp;gt;  religiously.</td>\n",
              "      <td>ham</td>\n",
              "    </tr>\n",
              "    <tr>\n",
              "      <th>4086</th>\n",
              "      <td>4087</td>\n",
              "      <td>PRIVATE! Your 2003 Account Statement for 07973...</td>\n",
              "      <td>spam</td>\n",
              "    </tr>\n",
              "    <tr>\n",
              "      <th>...</th>\n",
              "      <td>...</td>\n",
              "      <td>...</td>\n",
              "      <td>...</td>\n",
              "    </tr>\n",
              "    <tr>\n",
              "      <th>3772</th>\n",
              "      <td>3773</td>\n",
              "      <td>I came hostel. I m going to sleep. Plz call me...</td>\n",
              "      <td>ham</td>\n",
              "    </tr>\n",
              "    <tr>\n",
              "      <th>5191</th>\n",
              "      <td>5192</td>\n",
              "      <td>Sorry, I'll call later</td>\n",
              "      <td>ham</td>\n",
              "    </tr>\n",
              "    <tr>\n",
              "      <th>5226</th>\n",
              "      <td>5227</td>\n",
              "      <td>Prabha..i'm soryda..realy..frm heart i'm sory</td>\n",
              "      <td>ham</td>\n",
              "    </tr>\n",
              "    <tr>\n",
              "      <th>5390</th>\n",
              "      <td>5391</td>\n",
              "      <td>Nt joking seriously i told</td>\n",
              "      <td>ham</td>\n",
              "    </tr>\n",
              "    <tr>\n",
              "      <th>860</th>\n",
              "      <td>861</td>\n",
              "      <td>In work now. Going have in few min.</td>\n",
              "      <td>ham</td>\n",
              "    </tr>\n",
              "  </tbody>\n",
              "</table>\n",
              "<p>4457 rows × 3 columns</p>\n",
              "</div>\n",
              "    <div class=\"colab-df-buttons\">\n",
              "\n",
              "  <div class=\"colab-df-container\">\n",
              "    <button class=\"colab-df-convert\" onclick=\"convertToInteractive('df-17c49138-05ad-4617-a026-3167ee6ab19d')\"\n",
              "            title=\"Convert this dataframe to an interactive table.\"\n",
              "            style=\"display:none;\">\n",
              "\n",
              "  <svg xmlns=\"http://www.w3.org/2000/svg\" height=\"24px\" viewBox=\"0 -960 960 960\">\n",
              "    <path d=\"M120-120v-720h720v720H120Zm60-500h600v-160H180v160Zm220 220h160v-160H400v160Zm0 220h160v-160H400v160ZM180-400h160v-160H180v160Zm440 0h160v-160H620v160ZM180-180h160v-160H180v160Zm440 0h160v-160H620v160Z\"/>\n",
              "  </svg>\n",
              "    </button>\n",
              "\n",
              "  <style>\n",
              "    .colab-df-container {\n",
              "      display:flex;\n",
              "      gap: 12px;\n",
              "    }\n",
              "\n",
              "    .colab-df-convert {\n",
              "      background-color: #E8F0FE;\n",
              "      border: none;\n",
              "      border-radius: 50%;\n",
              "      cursor: pointer;\n",
              "      display: none;\n",
              "      fill: #1967D2;\n",
              "      height: 32px;\n",
              "      padding: 0 0 0 0;\n",
              "      width: 32px;\n",
              "    }\n",
              "\n",
              "    .colab-df-convert:hover {\n",
              "      background-color: #E2EBFA;\n",
              "      box-shadow: 0px 1px 2px rgba(60, 64, 67, 0.3), 0px 1px 3px 1px rgba(60, 64, 67, 0.15);\n",
              "      fill: #174EA6;\n",
              "    }\n",
              "\n",
              "    .colab-df-buttons div {\n",
              "      margin-bottom: 4px;\n",
              "    }\n",
              "\n",
              "    [theme=dark] .colab-df-convert {\n",
              "      background-color: #3B4455;\n",
              "      fill: #D2E3FC;\n",
              "    }\n",
              "\n",
              "    [theme=dark] .colab-df-convert:hover {\n",
              "      background-color: #434B5C;\n",
              "      box-shadow: 0px 1px 3px 1px rgba(0, 0, 0, 0.15);\n",
              "      filter: drop-shadow(0px 1px 2px rgba(0, 0, 0, 0.3));\n",
              "      fill: #FFFFFF;\n",
              "    }\n",
              "  </style>\n",
              "\n",
              "    <script>\n",
              "      const buttonEl =\n",
              "        document.querySelector('#df-17c49138-05ad-4617-a026-3167ee6ab19d button.colab-df-convert');\n",
              "      buttonEl.style.display =\n",
              "        google.colab.kernel.accessAllowed ? 'block' : 'none';\n",
              "\n",
              "      async function convertToInteractive(key) {\n",
              "        const element = document.querySelector('#df-17c49138-05ad-4617-a026-3167ee6ab19d');\n",
              "        const dataTable =\n",
              "          await google.colab.kernel.invokeFunction('convertToInteractive',\n",
              "                                                    [key], {});\n",
              "        if (!dataTable) return;\n",
              "\n",
              "        const docLinkHtml = 'Like what you see? Visit the ' +\n",
              "          '<a target=\"_blank\" href=https://colab.research.google.com/notebooks/data_table.ipynb>data table notebook</a>'\n",
              "          + ' to learn more about interactive tables.';\n",
              "        element.innerHTML = '';\n",
              "        dataTable['output_type'] = 'display_data';\n",
              "        await google.colab.output.renderOutput(dataTable, element);\n",
              "        const docLink = document.createElement('div');\n",
              "        docLink.innerHTML = docLinkHtml;\n",
              "        element.appendChild(docLink);\n",
              "      }\n",
              "    </script>\n",
              "  </div>\n",
              "\n",
              "\n",
              "<div id=\"df-a1020eb8-31dd-4ee0-abe2-aa9318b0205e\">\n",
              "  <button class=\"colab-df-quickchart\" onclick=\"quickchart('df-a1020eb8-31dd-4ee0-abe2-aa9318b0205e')\"\n",
              "            title=\"Suggest charts\"\n",
              "            style=\"display:none;\">\n",
              "\n",
              "<svg xmlns=\"http://www.w3.org/2000/svg\" height=\"24px\"viewBox=\"0 0 24 24\"\n",
              "     width=\"24px\">\n",
              "    <g>\n",
              "        <path d=\"M19 3H5c-1.1 0-2 .9-2 2v14c0 1.1.9 2 2 2h14c1.1 0 2-.9 2-2V5c0-1.1-.9-2-2-2zM9 17H7v-7h2v7zm4 0h-2V7h2v10zm4 0h-2v-4h2v4z\"/>\n",
              "    </g>\n",
              "</svg>\n",
              "  </button>\n",
              "\n",
              "<style>\n",
              "  .colab-df-quickchart {\n",
              "      --bg-color: #E8F0FE;\n",
              "      --fill-color: #1967D2;\n",
              "      --hover-bg-color: #E2EBFA;\n",
              "      --hover-fill-color: #174EA6;\n",
              "      --disabled-fill-color: #AAA;\n",
              "      --disabled-bg-color: #DDD;\n",
              "  }\n",
              "\n",
              "  [theme=dark] .colab-df-quickchart {\n",
              "      --bg-color: #3B4455;\n",
              "      --fill-color: #D2E3FC;\n",
              "      --hover-bg-color: #434B5C;\n",
              "      --hover-fill-color: #FFFFFF;\n",
              "      --disabled-bg-color: #3B4455;\n",
              "      --disabled-fill-color: #666;\n",
              "  }\n",
              "\n",
              "  .colab-df-quickchart {\n",
              "    background-color: var(--bg-color);\n",
              "    border: none;\n",
              "    border-radius: 50%;\n",
              "    cursor: pointer;\n",
              "    display: none;\n",
              "    fill: var(--fill-color);\n",
              "    height: 32px;\n",
              "    padding: 0;\n",
              "    width: 32px;\n",
              "  }\n",
              "\n",
              "  .colab-df-quickchart:hover {\n",
              "    background-color: var(--hover-bg-color);\n",
              "    box-shadow: 0 1px 2px rgba(60, 64, 67, 0.3), 0 1px 3px 1px rgba(60, 64, 67, 0.15);\n",
              "    fill: var(--button-hover-fill-color);\n",
              "  }\n",
              "\n",
              "  .colab-df-quickchart-complete:disabled,\n",
              "  .colab-df-quickchart-complete:disabled:hover {\n",
              "    background-color: var(--disabled-bg-color);\n",
              "    fill: var(--disabled-fill-color);\n",
              "    box-shadow: none;\n",
              "  }\n",
              "\n",
              "  .colab-df-spinner {\n",
              "    border: 2px solid var(--fill-color);\n",
              "    border-color: transparent;\n",
              "    border-bottom-color: var(--fill-color);\n",
              "    animation:\n",
              "      spin 1s steps(1) infinite;\n",
              "  }\n",
              "\n",
              "  @keyframes spin {\n",
              "    0% {\n",
              "      border-color: transparent;\n",
              "      border-bottom-color: var(--fill-color);\n",
              "      border-left-color: var(--fill-color);\n",
              "    }\n",
              "    20% {\n",
              "      border-color: transparent;\n",
              "      border-left-color: var(--fill-color);\n",
              "      border-top-color: var(--fill-color);\n",
              "    }\n",
              "    30% {\n",
              "      border-color: transparent;\n",
              "      border-left-color: var(--fill-color);\n",
              "      border-top-color: var(--fill-color);\n",
              "      border-right-color: var(--fill-color);\n",
              "    }\n",
              "    40% {\n",
              "      border-color: transparent;\n",
              "      border-right-color: var(--fill-color);\n",
              "      border-top-color: var(--fill-color);\n",
              "    }\n",
              "    60% {\n",
              "      border-color: transparent;\n",
              "      border-right-color: var(--fill-color);\n",
              "    }\n",
              "    80% {\n",
              "      border-color: transparent;\n",
              "      border-right-color: var(--fill-color);\n",
              "      border-bottom-color: var(--fill-color);\n",
              "    }\n",
              "    90% {\n",
              "      border-color: transparent;\n",
              "      border-bottom-color: var(--fill-color);\n",
              "    }\n",
              "  }\n",
              "</style>\n",
              "\n",
              "  <script>\n",
              "    async function quickchart(key) {\n",
              "      const quickchartButtonEl =\n",
              "        document.querySelector('#' + key + ' button');\n",
              "      quickchartButtonEl.disabled = true;  // To prevent multiple clicks.\n",
              "      quickchartButtonEl.classList.add('colab-df-spinner');\n",
              "      try {\n",
              "        const charts = await google.colab.kernel.invokeFunction(\n",
              "            'suggestCharts', [key], {});\n",
              "      } catch (error) {\n",
              "        console.error('Error during call to suggestCharts:', error);\n",
              "      }\n",
              "      quickchartButtonEl.classList.remove('colab-df-spinner');\n",
              "      quickchartButtonEl.classList.add('colab-df-quickchart-complete');\n",
              "    }\n",
              "    (() => {\n",
              "      let quickchartButtonEl =\n",
              "        document.querySelector('#df-a1020eb8-31dd-4ee0-abe2-aa9318b0205e button');\n",
              "      quickchartButtonEl.style.display =\n",
              "        google.colab.kernel.accessAllowed ? 'block' : 'none';\n",
              "    })();\n",
              "  </script>\n",
              "</div>\n",
              "\n",
              "  <div id=\"id_06328a26-008a-4f93-935a-c7b79885ddc1\">\n",
              "    <style>\n",
              "      .colab-df-generate {\n",
              "        background-color: #E8F0FE;\n",
              "        border: none;\n",
              "        border-radius: 50%;\n",
              "        cursor: pointer;\n",
              "        display: none;\n",
              "        fill: #1967D2;\n",
              "        height: 32px;\n",
              "        padding: 0 0 0 0;\n",
              "        width: 32px;\n",
              "      }\n",
              "\n",
              "      .colab-df-generate:hover {\n",
              "        background-color: #E2EBFA;\n",
              "        box-shadow: 0px 1px 2px rgba(60, 64, 67, 0.3), 0px 1px 3px 1px rgba(60, 64, 67, 0.15);\n",
              "        fill: #174EA6;\n",
              "      }\n",
              "\n",
              "      [theme=dark] .colab-df-generate {\n",
              "        background-color: #3B4455;\n",
              "        fill: #D2E3FC;\n",
              "      }\n",
              "\n",
              "      [theme=dark] .colab-df-generate:hover {\n",
              "        background-color: #434B5C;\n",
              "        box-shadow: 0px 1px 3px 1px rgba(0, 0, 0, 0.15);\n",
              "        filter: drop-shadow(0px 1px 2px rgba(0, 0, 0, 0.3));\n",
              "        fill: #FFFFFF;\n",
              "      }\n",
              "    </style>\n",
              "    <button class=\"colab-df-generate\" onclick=\"generateWithVariable('train_df')\"\n",
              "            title=\"Generate code using this dataframe.\"\n",
              "            style=\"display:none;\">\n",
              "\n",
              "  <svg xmlns=\"http://www.w3.org/2000/svg\" height=\"24px\"viewBox=\"0 0 24 24\"\n",
              "       width=\"24px\">\n",
              "    <path d=\"M7,19H8.4L18.45,9,17,7.55,7,17.6ZM5,21V16.75L18.45,3.32a2,2,0,0,1,2.83,0l1.4,1.43a1.91,1.91,0,0,1,.58,1.4,1.91,1.91,0,0,1-.58,1.4L9.25,21ZM18.45,9,17,7.55Zm-12,3A5.31,5.31,0,0,0,4.9,8.1,5.31,5.31,0,0,0,1,6.5,5.31,5.31,0,0,0,4.9,4.9,5.31,5.31,0,0,0,6.5,1,5.31,5.31,0,0,0,8.1,4.9,5.31,5.31,0,0,0,12,6.5,5.46,5.46,0,0,0,6.5,12Z\"/>\n",
              "  </svg>\n",
              "    </button>\n",
              "    <script>\n",
              "      (() => {\n",
              "      const buttonEl =\n",
              "        document.querySelector('#id_06328a26-008a-4f93-935a-c7b79885ddc1 button.colab-df-generate');\n",
              "      buttonEl.style.display =\n",
              "        google.colab.kernel.accessAllowed ? 'block' : 'none';\n",
              "\n",
              "      buttonEl.onclick = () => {\n",
              "        google.colab.notebook.generateWithVariable('train_df');\n",
              "      }\n",
              "      })();\n",
              "    </script>\n",
              "  </div>\n",
              "\n",
              "    </div>\n",
              "  </div>\n"
            ],
            "application/vnd.google.colaboratory.intrinsic+json": {
              "type": "dataframe",
              "variable_name": "train_df",
              "summary": "{\n  \"name\": \"train_df\",\n  \"rows\": 4457,\n  \"fields\": [\n    {\n      \"column\": \"PID\",\n      \"properties\": {\n        \"dtype\": \"number\",\n        \"std\": 1599,\n        \"min\": 1,\n        \"max\": 5572,\n        \"num_unique_values\": 4457,\n        \"samples\": [\n          3484,\n          5230,\n          785\n        ],\n        \"semantic_type\": \"\",\n        \"description\": \"\"\n      }\n    },\n    {\n      \"column\": \"text \",\n      \"properties\": {\n        \"dtype\": \"string\",\n        \"num_unique_values\": 4190,\n        \"samples\": [\n          \"CHEERS LOU! YEAH WAS A GOODNITE SHAME U NEVA CAME! C YA GAILxx\",\n          \"Company is very good.environment is terrific and food is really nice:)\",\n          \"It does it on its own. Most of the time it fixes my spelling. But sometimes it gets a completely diff word. Go figure\"\n        ],\n        \"semantic_type\": \"\",\n        \"description\": \"\"\n      }\n    },\n    {\n      \"column\": \"labels\",\n      \"properties\": {\n        \"dtype\": \"category\",\n        \"num_unique_values\": 2,\n        \"samples\": [\n          \"spam\",\n          \"ham\"\n        ],\n        \"semantic_type\": \"\",\n        \"description\": \"\"\n      }\n    }\n  ]\n}"
            }
          },
          "metadata": {},
          "execution_count": 122
        }
      ]
    },
    {
      "cell_type": "code",
      "source": [
        "test_df"
      ],
      "metadata": {
        "colab": {
          "base_uri": "https://localhost:8080/",
          "height": 424
        },
        "id": "MZPkGEWupgZL",
        "outputId": "b8e1e09f-3434-413a-b640-c1ebed02cbe2"
      },
      "execution_count": 123,
      "outputs": [
        {
          "output_type": "execute_result",
          "data": {
            "text/plain": [
              "       PID                                              text  labels\n",
              "4295  4296  Please CALL 08712402578 immediately as there i...   spam\n",
              "1209  1210                        His bday real is in april .    ham\n",
              "453    454  Ok i will tell her to stay out. Yeah its been ...    ham\n",
              "807    808                  Boooo you always work. Just quit.    ham\n",
              "239    240  U 447801259231 have a secret admirer who is lo...   spam\n",
              "...    ...                                                ...    ...\n",
              "151    152  Yup i thk cine is better cos no need 2 go down...    ham\n",
              "5156  5157  Sir, I need Velusamy sir's date of birth and c...    ham\n",
              "582    583  We tried to contact you re your reply to our o...   spam\n",
              "5371  5372             Lol, oh you got a friend for the dog ?    ham\n",
              "1543  1544  Hello from Orange. For 1 month's free access t...   spam\n",
              "\n",
              "[557 rows x 3 columns]"
            ],
            "text/html": [
              "\n",
              "  <div id=\"df-e5d6623b-ea7b-44c7-8180-7b60a1fc000c\" class=\"colab-df-container\">\n",
              "    <div>\n",
              "<style scoped>\n",
              "    .dataframe tbody tr th:only-of-type {\n",
              "        vertical-align: middle;\n",
              "    }\n",
              "\n",
              "    .dataframe tbody tr th {\n",
              "        vertical-align: top;\n",
              "    }\n",
              "\n",
              "    .dataframe thead th {\n",
              "        text-align: right;\n",
              "    }\n",
              "</style>\n",
              "<table border=\"1\" class=\"dataframe\">\n",
              "  <thead>\n",
              "    <tr style=\"text-align: right;\">\n",
              "      <th></th>\n",
              "      <th>PID</th>\n",
              "      <th>text</th>\n",
              "      <th>labels</th>\n",
              "    </tr>\n",
              "  </thead>\n",
              "  <tbody>\n",
              "    <tr>\n",
              "      <th>4295</th>\n",
              "      <td>4296</td>\n",
              "      <td>Please CALL 08712402578 immediately as there i...</td>\n",
              "      <td>spam</td>\n",
              "    </tr>\n",
              "    <tr>\n",
              "      <th>1209</th>\n",
              "      <td>1210</td>\n",
              "      <td>His bday real is in april .</td>\n",
              "      <td>ham</td>\n",
              "    </tr>\n",
              "    <tr>\n",
              "      <th>453</th>\n",
              "      <td>454</td>\n",
              "      <td>Ok i will tell her to stay out. Yeah its been ...</td>\n",
              "      <td>ham</td>\n",
              "    </tr>\n",
              "    <tr>\n",
              "      <th>807</th>\n",
              "      <td>808</td>\n",
              "      <td>Boooo you always work. Just quit.</td>\n",
              "      <td>ham</td>\n",
              "    </tr>\n",
              "    <tr>\n",
              "      <th>239</th>\n",
              "      <td>240</td>\n",
              "      <td>U 447801259231 have a secret admirer who is lo...</td>\n",
              "      <td>spam</td>\n",
              "    </tr>\n",
              "    <tr>\n",
              "      <th>...</th>\n",
              "      <td>...</td>\n",
              "      <td>...</td>\n",
              "      <td>...</td>\n",
              "    </tr>\n",
              "    <tr>\n",
              "      <th>151</th>\n",
              "      <td>152</td>\n",
              "      <td>Yup i thk cine is better cos no need 2 go down...</td>\n",
              "      <td>ham</td>\n",
              "    </tr>\n",
              "    <tr>\n",
              "      <th>5156</th>\n",
              "      <td>5157</td>\n",
              "      <td>Sir, I need Velusamy sir's date of birth and c...</td>\n",
              "      <td>ham</td>\n",
              "    </tr>\n",
              "    <tr>\n",
              "      <th>582</th>\n",
              "      <td>583</td>\n",
              "      <td>We tried to contact you re your reply to our o...</td>\n",
              "      <td>spam</td>\n",
              "    </tr>\n",
              "    <tr>\n",
              "      <th>5371</th>\n",
              "      <td>5372</td>\n",
              "      <td>Lol, oh you got a friend for the dog ?</td>\n",
              "      <td>ham</td>\n",
              "    </tr>\n",
              "    <tr>\n",
              "      <th>1543</th>\n",
              "      <td>1544</td>\n",
              "      <td>Hello from Orange. For 1 month's free access t...</td>\n",
              "      <td>spam</td>\n",
              "    </tr>\n",
              "  </tbody>\n",
              "</table>\n",
              "<p>557 rows × 3 columns</p>\n",
              "</div>\n",
              "    <div class=\"colab-df-buttons\">\n",
              "\n",
              "  <div class=\"colab-df-container\">\n",
              "    <button class=\"colab-df-convert\" onclick=\"convertToInteractive('df-e5d6623b-ea7b-44c7-8180-7b60a1fc000c')\"\n",
              "            title=\"Convert this dataframe to an interactive table.\"\n",
              "            style=\"display:none;\">\n",
              "\n",
              "  <svg xmlns=\"http://www.w3.org/2000/svg\" height=\"24px\" viewBox=\"0 -960 960 960\">\n",
              "    <path d=\"M120-120v-720h720v720H120Zm60-500h600v-160H180v160Zm220 220h160v-160H400v160Zm0 220h160v-160H400v160ZM180-400h160v-160H180v160Zm440 0h160v-160H620v160ZM180-180h160v-160H180v160Zm440 0h160v-160H620v160Z\"/>\n",
              "  </svg>\n",
              "    </button>\n",
              "\n",
              "  <style>\n",
              "    .colab-df-container {\n",
              "      display:flex;\n",
              "      gap: 12px;\n",
              "    }\n",
              "\n",
              "    .colab-df-convert {\n",
              "      background-color: #E8F0FE;\n",
              "      border: none;\n",
              "      border-radius: 50%;\n",
              "      cursor: pointer;\n",
              "      display: none;\n",
              "      fill: #1967D2;\n",
              "      height: 32px;\n",
              "      padding: 0 0 0 0;\n",
              "      width: 32px;\n",
              "    }\n",
              "\n",
              "    .colab-df-convert:hover {\n",
              "      background-color: #E2EBFA;\n",
              "      box-shadow: 0px 1px 2px rgba(60, 64, 67, 0.3), 0px 1px 3px 1px rgba(60, 64, 67, 0.15);\n",
              "      fill: #174EA6;\n",
              "    }\n",
              "\n",
              "    .colab-df-buttons div {\n",
              "      margin-bottom: 4px;\n",
              "    }\n",
              "\n",
              "    [theme=dark] .colab-df-convert {\n",
              "      background-color: #3B4455;\n",
              "      fill: #D2E3FC;\n",
              "    }\n",
              "\n",
              "    [theme=dark] .colab-df-convert:hover {\n",
              "      background-color: #434B5C;\n",
              "      box-shadow: 0px 1px 3px 1px rgba(0, 0, 0, 0.15);\n",
              "      filter: drop-shadow(0px 1px 2px rgba(0, 0, 0, 0.3));\n",
              "      fill: #FFFFFF;\n",
              "    }\n",
              "  </style>\n",
              "\n",
              "    <script>\n",
              "      const buttonEl =\n",
              "        document.querySelector('#df-e5d6623b-ea7b-44c7-8180-7b60a1fc000c button.colab-df-convert');\n",
              "      buttonEl.style.display =\n",
              "        google.colab.kernel.accessAllowed ? 'block' : 'none';\n",
              "\n",
              "      async function convertToInteractive(key) {\n",
              "        const element = document.querySelector('#df-e5d6623b-ea7b-44c7-8180-7b60a1fc000c');\n",
              "        const dataTable =\n",
              "          await google.colab.kernel.invokeFunction('convertToInteractive',\n",
              "                                                    [key], {});\n",
              "        if (!dataTable) return;\n",
              "\n",
              "        const docLinkHtml = 'Like what you see? Visit the ' +\n",
              "          '<a target=\"_blank\" href=https://colab.research.google.com/notebooks/data_table.ipynb>data table notebook</a>'\n",
              "          + ' to learn more about interactive tables.';\n",
              "        element.innerHTML = '';\n",
              "        dataTable['output_type'] = 'display_data';\n",
              "        await google.colab.output.renderOutput(dataTable, element);\n",
              "        const docLink = document.createElement('div');\n",
              "        docLink.innerHTML = docLinkHtml;\n",
              "        element.appendChild(docLink);\n",
              "      }\n",
              "    </script>\n",
              "  </div>\n",
              "\n",
              "\n",
              "<div id=\"df-39a6e8de-edd4-4b83-a5f3-594b84f6b8b2\">\n",
              "  <button class=\"colab-df-quickchart\" onclick=\"quickchart('df-39a6e8de-edd4-4b83-a5f3-594b84f6b8b2')\"\n",
              "            title=\"Suggest charts\"\n",
              "            style=\"display:none;\">\n",
              "\n",
              "<svg xmlns=\"http://www.w3.org/2000/svg\" height=\"24px\"viewBox=\"0 0 24 24\"\n",
              "     width=\"24px\">\n",
              "    <g>\n",
              "        <path d=\"M19 3H5c-1.1 0-2 .9-2 2v14c0 1.1.9 2 2 2h14c1.1 0 2-.9 2-2V5c0-1.1-.9-2-2-2zM9 17H7v-7h2v7zm4 0h-2V7h2v10zm4 0h-2v-4h2v4z\"/>\n",
              "    </g>\n",
              "</svg>\n",
              "  </button>\n",
              "\n",
              "<style>\n",
              "  .colab-df-quickchart {\n",
              "      --bg-color: #E8F0FE;\n",
              "      --fill-color: #1967D2;\n",
              "      --hover-bg-color: #E2EBFA;\n",
              "      --hover-fill-color: #174EA6;\n",
              "      --disabled-fill-color: #AAA;\n",
              "      --disabled-bg-color: #DDD;\n",
              "  }\n",
              "\n",
              "  [theme=dark] .colab-df-quickchart {\n",
              "      --bg-color: #3B4455;\n",
              "      --fill-color: #D2E3FC;\n",
              "      --hover-bg-color: #434B5C;\n",
              "      --hover-fill-color: #FFFFFF;\n",
              "      --disabled-bg-color: #3B4455;\n",
              "      --disabled-fill-color: #666;\n",
              "  }\n",
              "\n",
              "  .colab-df-quickchart {\n",
              "    background-color: var(--bg-color);\n",
              "    border: none;\n",
              "    border-radius: 50%;\n",
              "    cursor: pointer;\n",
              "    display: none;\n",
              "    fill: var(--fill-color);\n",
              "    height: 32px;\n",
              "    padding: 0;\n",
              "    width: 32px;\n",
              "  }\n",
              "\n",
              "  .colab-df-quickchart:hover {\n",
              "    background-color: var(--hover-bg-color);\n",
              "    box-shadow: 0 1px 2px rgba(60, 64, 67, 0.3), 0 1px 3px 1px rgba(60, 64, 67, 0.15);\n",
              "    fill: var(--button-hover-fill-color);\n",
              "  }\n",
              "\n",
              "  .colab-df-quickchart-complete:disabled,\n",
              "  .colab-df-quickchart-complete:disabled:hover {\n",
              "    background-color: var(--disabled-bg-color);\n",
              "    fill: var(--disabled-fill-color);\n",
              "    box-shadow: none;\n",
              "  }\n",
              "\n",
              "  .colab-df-spinner {\n",
              "    border: 2px solid var(--fill-color);\n",
              "    border-color: transparent;\n",
              "    border-bottom-color: var(--fill-color);\n",
              "    animation:\n",
              "      spin 1s steps(1) infinite;\n",
              "  }\n",
              "\n",
              "  @keyframes spin {\n",
              "    0% {\n",
              "      border-color: transparent;\n",
              "      border-bottom-color: var(--fill-color);\n",
              "      border-left-color: var(--fill-color);\n",
              "    }\n",
              "    20% {\n",
              "      border-color: transparent;\n",
              "      border-left-color: var(--fill-color);\n",
              "      border-top-color: var(--fill-color);\n",
              "    }\n",
              "    30% {\n",
              "      border-color: transparent;\n",
              "      border-left-color: var(--fill-color);\n",
              "      border-top-color: var(--fill-color);\n",
              "      border-right-color: var(--fill-color);\n",
              "    }\n",
              "    40% {\n",
              "      border-color: transparent;\n",
              "      border-right-color: var(--fill-color);\n",
              "      border-top-color: var(--fill-color);\n",
              "    }\n",
              "    60% {\n",
              "      border-color: transparent;\n",
              "      border-right-color: var(--fill-color);\n",
              "    }\n",
              "    80% {\n",
              "      border-color: transparent;\n",
              "      border-right-color: var(--fill-color);\n",
              "      border-bottom-color: var(--fill-color);\n",
              "    }\n",
              "    90% {\n",
              "      border-color: transparent;\n",
              "      border-bottom-color: var(--fill-color);\n",
              "    }\n",
              "  }\n",
              "</style>\n",
              "\n",
              "  <script>\n",
              "    async function quickchart(key) {\n",
              "      const quickchartButtonEl =\n",
              "        document.querySelector('#' + key + ' button');\n",
              "      quickchartButtonEl.disabled = true;  // To prevent multiple clicks.\n",
              "      quickchartButtonEl.classList.add('colab-df-spinner');\n",
              "      try {\n",
              "        const charts = await google.colab.kernel.invokeFunction(\n",
              "            'suggestCharts', [key], {});\n",
              "      } catch (error) {\n",
              "        console.error('Error during call to suggestCharts:', error);\n",
              "      }\n",
              "      quickchartButtonEl.classList.remove('colab-df-spinner');\n",
              "      quickchartButtonEl.classList.add('colab-df-quickchart-complete');\n",
              "    }\n",
              "    (() => {\n",
              "      let quickchartButtonEl =\n",
              "        document.querySelector('#df-39a6e8de-edd4-4b83-a5f3-594b84f6b8b2 button');\n",
              "      quickchartButtonEl.style.display =\n",
              "        google.colab.kernel.accessAllowed ? 'block' : 'none';\n",
              "    })();\n",
              "  </script>\n",
              "</div>\n",
              "\n",
              "  <div id=\"id_5200a178-c2d5-4150-89ef-80809d441424\">\n",
              "    <style>\n",
              "      .colab-df-generate {\n",
              "        background-color: #E8F0FE;\n",
              "        border: none;\n",
              "        border-radius: 50%;\n",
              "        cursor: pointer;\n",
              "        display: none;\n",
              "        fill: #1967D2;\n",
              "        height: 32px;\n",
              "        padding: 0 0 0 0;\n",
              "        width: 32px;\n",
              "      }\n",
              "\n",
              "      .colab-df-generate:hover {\n",
              "        background-color: #E2EBFA;\n",
              "        box-shadow: 0px 1px 2px rgba(60, 64, 67, 0.3), 0px 1px 3px 1px rgba(60, 64, 67, 0.15);\n",
              "        fill: #174EA6;\n",
              "      }\n",
              "\n",
              "      [theme=dark] .colab-df-generate {\n",
              "        background-color: #3B4455;\n",
              "        fill: #D2E3FC;\n",
              "      }\n",
              "\n",
              "      [theme=dark] .colab-df-generate:hover {\n",
              "        background-color: #434B5C;\n",
              "        box-shadow: 0px 1px 3px 1px rgba(0, 0, 0, 0.15);\n",
              "        filter: drop-shadow(0px 1px 2px rgba(0, 0, 0, 0.3));\n",
              "        fill: #FFFFFF;\n",
              "      }\n",
              "    </style>\n",
              "    <button class=\"colab-df-generate\" onclick=\"generateWithVariable('test_df')\"\n",
              "            title=\"Generate code using this dataframe.\"\n",
              "            style=\"display:none;\">\n",
              "\n",
              "  <svg xmlns=\"http://www.w3.org/2000/svg\" height=\"24px\"viewBox=\"0 0 24 24\"\n",
              "       width=\"24px\">\n",
              "    <path d=\"M7,19H8.4L18.45,9,17,7.55,7,17.6ZM5,21V16.75L18.45,3.32a2,2,0,0,1,2.83,0l1.4,1.43a1.91,1.91,0,0,1,.58,1.4,1.91,1.91,0,0,1-.58,1.4L9.25,21ZM18.45,9,17,7.55Zm-12,3A5.31,5.31,0,0,0,4.9,8.1,5.31,5.31,0,0,0,1,6.5,5.31,5.31,0,0,0,4.9,4.9,5.31,5.31,0,0,0,6.5,1,5.31,5.31,0,0,0,8.1,4.9,5.31,5.31,0,0,0,12,6.5,5.46,5.46,0,0,0,6.5,12Z\"/>\n",
              "  </svg>\n",
              "    </button>\n",
              "    <script>\n",
              "      (() => {\n",
              "      const buttonEl =\n",
              "        document.querySelector('#id_5200a178-c2d5-4150-89ef-80809d441424 button.colab-df-generate');\n",
              "      buttonEl.style.display =\n",
              "        google.colab.kernel.accessAllowed ? 'block' : 'none';\n",
              "\n",
              "      buttonEl.onclick = () => {\n",
              "        google.colab.notebook.generateWithVariable('test_df');\n",
              "      }\n",
              "      })();\n",
              "    </script>\n",
              "  </div>\n",
              "\n",
              "    </div>\n",
              "  </div>\n"
            ],
            "application/vnd.google.colaboratory.intrinsic+json": {
              "type": "dataframe",
              "variable_name": "test_df",
              "summary": "{\n  \"name\": \"test_df\",\n  \"rows\": 557,\n  \"fields\": [\n    {\n      \"column\": \"PID\",\n      \"properties\": {\n        \"dtype\": \"number\",\n        \"std\": 1612,\n        \"min\": 9,\n        \"max\": 5557,\n        \"num_unique_values\": 557,\n        \"samples\": [\n          1021,\n          3218,\n          5557\n        ],\n        \"semantic_type\": \"\",\n        \"description\": \"\"\n      }\n    },\n    {\n      \"column\": \"text \",\n      \"properties\": {\n        \"dtype\": \"string\",\n        \"num_unique_values\": 545,\n        \"samples\": [\n          \"You will be in the place of that man\",\n          \"I will spoil you in bed as well :)\",\n          \"Long after I quit. I get on only like 5 minutes a day as it is.\"\n        ],\n        \"semantic_type\": \"\",\n        \"description\": \"\"\n      }\n    },\n    {\n      \"column\": \"labels\",\n      \"properties\": {\n        \"dtype\": \"category\",\n        \"num_unique_values\": 2,\n        \"samples\": [\n          \"ham\",\n          \"spam\"\n        ],\n        \"semantic_type\": \"\",\n        \"description\": \"\"\n      }\n    }\n  ]\n}"
            }
          },
          "metadata": {},
          "execution_count": 123
        }
      ]
    },
    {
      "cell_type": "code",
      "source": [
        "val_df"
      ],
      "metadata": {
        "colab": {
          "base_uri": "https://localhost:8080/",
          "height": 424
        },
        "id": "NsbTHqkBpqc1",
        "outputId": "8c4f1cd8-678a-4874-a7ac-1394ec08e8cb"
      },
      "execution_count": 124,
      "outputs": [
        {
          "output_type": "execute_result",
          "data": {
            "text/plain": [
              "       PID                                              text  labels\n",
              "4184  4185             I'm good. Have you registered to vote?    ham\n",
              "3116  3117                            Now am free call me pa.    ham\n",
              "2750  2751  Ok but tell me half an hr b4 u come i need 2 p...    ham\n",
              "811    812  So there's a ring that comes with the guys cos...    ham\n",
              "4708  4709  Haha awesome, I might need to take you up on t...    ham\n",
              "...    ...                                                ...    ...\n",
              "711    712  It just seems like weird timing that the night...    ham\n",
              "1539  1540  You're not sure that I'm not trying to make xa...    ham\n",
              "5567  5568  This is the 2nd time we have tried 2 contact u...   spam\n",
              "1545  1546  Good afternoon, my love ! Any job prospects ? ...    ham\n",
              "5317  5318  K, fyi I'm back in my parents' place in south ...    ham\n",
              "\n",
              "[558 rows x 3 columns]"
            ],
            "text/html": [
              "\n",
              "  <div id=\"df-da0a9ed2-e6d1-488f-916e-7fd1d86c71c7\" class=\"colab-df-container\">\n",
              "    <div>\n",
              "<style scoped>\n",
              "    .dataframe tbody tr th:only-of-type {\n",
              "        vertical-align: middle;\n",
              "    }\n",
              "\n",
              "    .dataframe tbody tr th {\n",
              "        vertical-align: top;\n",
              "    }\n",
              "\n",
              "    .dataframe thead th {\n",
              "        text-align: right;\n",
              "    }\n",
              "</style>\n",
              "<table border=\"1\" class=\"dataframe\">\n",
              "  <thead>\n",
              "    <tr style=\"text-align: right;\">\n",
              "      <th></th>\n",
              "      <th>PID</th>\n",
              "      <th>text</th>\n",
              "      <th>labels</th>\n",
              "    </tr>\n",
              "  </thead>\n",
              "  <tbody>\n",
              "    <tr>\n",
              "      <th>4184</th>\n",
              "      <td>4185</td>\n",
              "      <td>I'm good. Have you registered to vote?</td>\n",
              "      <td>ham</td>\n",
              "    </tr>\n",
              "    <tr>\n",
              "      <th>3116</th>\n",
              "      <td>3117</td>\n",
              "      <td>Now am free call me pa.</td>\n",
              "      <td>ham</td>\n",
              "    </tr>\n",
              "    <tr>\n",
              "      <th>2750</th>\n",
              "      <td>2751</td>\n",
              "      <td>Ok but tell me half an hr b4 u come i need 2 p...</td>\n",
              "      <td>ham</td>\n",
              "    </tr>\n",
              "    <tr>\n",
              "      <th>811</th>\n",
              "      <td>812</td>\n",
              "      <td>So there's a ring that comes with the guys cos...</td>\n",
              "      <td>ham</td>\n",
              "    </tr>\n",
              "    <tr>\n",
              "      <th>4708</th>\n",
              "      <td>4709</td>\n",
              "      <td>Haha awesome, I might need to take you up on t...</td>\n",
              "      <td>ham</td>\n",
              "    </tr>\n",
              "    <tr>\n",
              "      <th>...</th>\n",
              "      <td>...</td>\n",
              "      <td>...</td>\n",
              "      <td>...</td>\n",
              "    </tr>\n",
              "    <tr>\n",
              "      <th>711</th>\n",
              "      <td>712</td>\n",
              "      <td>It just seems like weird timing that the night...</td>\n",
              "      <td>ham</td>\n",
              "    </tr>\n",
              "    <tr>\n",
              "      <th>1539</th>\n",
              "      <td>1540</td>\n",
              "      <td>You're not sure that I'm not trying to make xa...</td>\n",
              "      <td>ham</td>\n",
              "    </tr>\n",
              "    <tr>\n",
              "      <th>5567</th>\n",
              "      <td>5568</td>\n",
              "      <td>This is the 2nd time we have tried 2 contact u...</td>\n",
              "      <td>spam</td>\n",
              "    </tr>\n",
              "    <tr>\n",
              "      <th>1545</th>\n",
              "      <td>1546</td>\n",
              "      <td>Good afternoon, my love ! Any job prospects ? ...</td>\n",
              "      <td>ham</td>\n",
              "    </tr>\n",
              "    <tr>\n",
              "      <th>5317</th>\n",
              "      <td>5318</td>\n",
              "      <td>K, fyi I'm back in my parents' place in south ...</td>\n",
              "      <td>ham</td>\n",
              "    </tr>\n",
              "  </tbody>\n",
              "</table>\n",
              "<p>558 rows × 3 columns</p>\n",
              "</div>\n",
              "    <div class=\"colab-df-buttons\">\n",
              "\n",
              "  <div class=\"colab-df-container\">\n",
              "    <button class=\"colab-df-convert\" onclick=\"convertToInteractive('df-da0a9ed2-e6d1-488f-916e-7fd1d86c71c7')\"\n",
              "            title=\"Convert this dataframe to an interactive table.\"\n",
              "            style=\"display:none;\">\n",
              "\n",
              "  <svg xmlns=\"http://www.w3.org/2000/svg\" height=\"24px\" viewBox=\"0 -960 960 960\">\n",
              "    <path d=\"M120-120v-720h720v720H120Zm60-500h600v-160H180v160Zm220 220h160v-160H400v160Zm0 220h160v-160H400v160ZM180-400h160v-160H180v160Zm440 0h160v-160H620v160ZM180-180h160v-160H180v160Zm440 0h160v-160H620v160Z\"/>\n",
              "  </svg>\n",
              "    </button>\n",
              "\n",
              "  <style>\n",
              "    .colab-df-container {\n",
              "      display:flex;\n",
              "      gap: 12px;\n",
              "    }\n",
              "\n",
              "    .colab-df-convert {\n",
              "      background-color: #E8F0FE;\n",
              "      border: none;\n",
              "      border-radius: 50%;\n",
              "      cursor: pointer;\n",
              "      display: none;\n",
              "      fill: #1967D2;\n",
              "      height: 32px;\n",
              "      padding: 0 0 0 0;\n",
              "      width: 32px;\n",
              "    }\n",
              "\n",
              "    .colab-df-convert:hover {\n",
              "      background-color: #E2EBFA;\n",
              "      box-shadow: 0px 1px 2px rgba(60, 64, 67, 0.3), 0px 1px 3px 1px rgba(60, 64, 67, 0.15);\n",
              "      fill: #174EA6;\n",
              "    }\n",
              "\n",
              "    .colab-df-buttons div {\n",
              "      margin-bottom: 4px;\n",
              "    }\n",
              "\n",
              "    [theme=dark] .colab-df-convert {\n",
              "      background-color: #3B4455;\n",
              "      fill: #D2E3FC;\n",
              "    }\n",
              "\n",
              "    [theme=dark] .colab-df-convert:hover {\n",
              "      background-color: #434B5C;\n",
              "      box-shadow: 0px 1px 3px 1px rgba(0, 0, 0, 0.15);\n",
              "      filter: drop-shadow(0px 1px 2px rgba(0, 0, 0, 0.3));\n",
              "      fill: #FFFFFF;\n",
              "    }\n",
              "  </style>\n",
              "\n",
              "    <script>\n",
              "      const buttonEl =\n",
              "        document.querySelector('#df-da0a9ed2-e6d1-488f-916e-7fd1d86c71c7 button.colab-df-convert');\n",
              "      buttonEl.style.display =\n",
              "        google.colab.kernel.accessAllowed ? 'block' : 'none';\n",
              "\n",
              "      async function convertToInteractive(key) {\n",
              "        const element = document.querySelector('#df-da0a9ed2-e6d1-488f-916e-7fd1d86c71c7');\n",
              "        const dataTable =\n",
              "          await google.colab.kernel.invokeFunction('convertToInteractive',\n",
              "                                                    [key], {});\n",
              "        if (!dataTable) return;\n",
              "\n",
              "        const docLinkHtml = 'Like what you see? Visit the ' +\n",
              "          '<a target=\"_blank\" href=https://colab.research.google.com/notebooks/data_table.ipynb>data table notebook</a>'\n",
              "          + ' to learn more about interactive tables.';\n",
              "        element.innerHTML = '';\n",
              "        dataTable['output_type'] = 'display_data';\n",
              "        await google.colab.output.renderOutput(dataTable, element);\n",
              "        const docLink = document.createElement('div');\n",
              "        docLink.innerHTML = docLinkHtml;\n",
              "        element.appendChild(docLink);\n",
              "      }\n",
              "    </script>\n",
              "  </div>\n",
              "\n",
              "\n",
              "<div id=\"df-19dfbdd3-a4c7-4f54-bdad-eb8de86a0ba8\">\n",
              "  <button class=\"colab-df-quickchart\" onclick=\"quickchart('df-19dfbdd3-a4c7-4f54-bdad-eb8de86a0ba8')\"\n",
              "            title=\"Suggest charts\"\n",
              "            style=\"display:none;\">\n",
              "\n",
              "<svg xmlns=\"http://www.w3.org/2000/svg\" height=\"24px\"viewBox=\"0 0 24 24\"\n",
              "     width=\"24px\">\n",
              "    <g>\n",
              "        <path d=\"M19 3H5c-1.1 0-2 .9-2 2v14c0 1.1.9 2 2 2h14c1.1 0 2-.9 2-2V5c0-1.1-.9-2-2-2zM9 17H7v-7h2v7zm4 0h-2V7h2v10zm4 0h-2v-4h2v4z\"/>\n",
              "    </g>\n",
              "</svg>\n",
              "  </button>\n",
              "\n",
              "<style>\n",
              "  .colab-df-quickchart {\n",
              "      --bg-color: #E8F0FE;\n",
              "      --fill-color: #1967D2;\n",
              "      --hover-bg-color: #E2EBFA;\n",
              "      --hover-fill-color: #174EA6;\n",
              "      --disabled-fill-color: #AAA;\n",
              "      --disabled-bg-color: #DDD;\n",
              "  }\n",
              "\n",
              "  [theme=dark] .colab-df-quickchart {\n",
              "      --bg-color: #3B4455;\n",
              "      --fill-color: #D2E3FC;\n",
              "      --hover-bg-color: #434B5C;\n",
              "      --hover-fill-color: #FFFFFF;\n",
              "      --disabled-bg-color: #3B4455;\n",
              "      --disabled-fill-color: #666;\n",
              "  }\n",
              "\n",
              "  .colab-df-quickchart {\n",
              "    background-color: var(--bg-color);\n",
              "    border: none;\n",
              "    border-radius: 50%;\n",
              "    cursor: pointer;\n",
              "    display: none;\n",
              "    fill: var(--fill-color);\n",
              "    height: 32px;\n",
              "    padding: 0;\n",
              "    width: 32px;\n",
              "  }\n",
              "\n",
              "  .colab-df-quickchart:hover {\n",
              "    background-color: var(--hover-bg-color);\n",
              "    box-shadow: 0 1px 2px rgba(60, 64, 67, 0.3), 0 1px 3px 1px rgba(60, 64, 67, 0.15);\n",
              "    fill: var(--button-hover-fill-color);\n",
              "  }\n",
              "\n",
              "  .colab-df-quickchart-complete:disabled,\n",
              "  .colab-df-quickchart-complete:disabled:hover {\n",
              "    background-color: var(--disabled-bg-color);\n",
              "    fill: var(--disabled-fill-color);\n",
              "    box-shadow: none;\n",
              "  }\n",
              "\n",
              "  .colab-df-spinner {\n",
              "    border: 2px solid var(--fill-color);\n",
              "    border-color: transparent;\n",
              "    border-bottom-color: var(--fill-color);\n",
              "    animation:\n",
              "      spin 1s steps(1) infinite;\n",
              "  }\n",
              "\n",
              "  @keyframes spin {\n",
              "    0% {\n",
              "      border-color: transparent;\n",
              "      border-bottom-color: var(--fill-color);\n",
              "      border-left-color: var(--fill-color);\n",
              "    }\n",
              "    20% {\n",
              "      border-color: transparent;\n",
              "      border-left-color: var(--fill-color);\n",
              "      border-top-color: var(--fill-color);\n",
              "    }\n",
              "    30% {\n",
              "      border-color: transparent;\n",
              "      border-left-color: var(--fill-color);\n",
              "      border-top-color: var(--fill-color);\n",
              "      border-right-color: var(--fill-color);\n",
              "    }\n",
              "    40% {\n",
              "      border-color: transparent;\n",
              "      border-right-color: var(--fill-color);\n",
              "      border-top-color: var(--fill-color);\n",
              "    }\n",
              "    60% {\n",
              "      border-color: transparent;\n",
              "      border-right-color: var(--fill-color);\n",
              "    }\n",
              "    80% {\n",
              "      border-color: transparent;\n",
              "      border-right-color: var(--fill-color);\n",
              "      border-bottom-color: var(--fill-color);\n",
              "    }\n",
              "    90% {\n",
              "      border-color: transparent;\n",
              "      border-bottom-color: var(--fill-color);\n",
              "    }\n",
              "  }\n",
              "</style>\n",
              "\n",
              "  <script>\n",
              "    async function quickchart(key) {\n",
              "      const quickchartButtonEl =\n",
              "        document.querySelector('#' + key + ' button');\n",
              "      quickchartButtonEl.disabled = true;  // To prevent multiple clicks.\n",
              "      quickchartButtonEl.classList.add('colab-df-spinner');\n",
              "      try {\n",
              "        const charts = await google.colab.kernel.invokeFunction(\n",
              "            'suggestCharts', [key], {});\n",
              "      } catch (error) {\n",
              "        console.error('Error during call to suggestCharts:', error);\n",
              "      }\n",
              "      quickchartButtonEl.classList.remove('colab-df-spinner');\n",
              "      quickchartButtonEl.classList.add('colab-df-quickchart-complete');\n",
              "    }\n",
              "    (() => {\n",
              "      let quickchartButtonEl =\n",
              "        document.querySelector('#df-19dfbdd3-a4c7-4f54-bdad-eb8de86a0ba8 button');\n",
              "      quickchartButtonEl.style.display =\n",
              "        google.colab.kernel.accessAllowed ? 'block' : 'none';\n",
              "    })();\n",
              "  </script>\n",
              "</div>\n",
              "\n",
              "  <div id=\"id_41876a7b-4166-401e-86f0-c26ffdaaab5a\">\n",
              "    <style>\n",
              "      .colab-df-generate {\n",
              "        background-color: #E8F0FE;\n",
              "        border: none;\n",
              "        border-radius: 50%;\n",
              "        cursor: pointer;\n",
              "        display: none;\n",
              "        fill: #1967D2;\n",
              "        height: 32px;\n",
              "        padding: 0 0 0 0;\n",
              "        width: 32px;\n",
              "      }\n",
              "\n",
              "      .colab-df-generate:hover {\n",
              "        background-color: #E2EBFA;\n",
              "        box-shadow: 0px 1px 2px rgba(60, 64, 67, 0.3), 0px 1px 3px 1px rgba(60, 64, 67, 0.15);\n",
              "        fill: #174EA6;\n",
              "      }\n",
              "\n",
              "      [theme=dark] .colab-df-generate {\n",
              "        background-color: #3B4455;\n",
              "        fill: #D2E3FC;\n",
              "      }\n",
              "\n",
              "      [theme=dark] .colab-df-generate:hover {\n",
              "        background-color: #434B5C;\n",
              "        box-shadow: 0px 1px 3px 1px rgba(0, 0, 0, 0.15);\n",
              "        filter: drop-shadow(0px 1px 2px rgba(0, 0, 0, 0.3));\n",
              "        fill: #FFFFFF;\n",
              "      }\n",
              "    </style>\n",
              "    <button class=\"colab-df-generate\" onclick=\"generateWithVariable('val_df')\"\n",
              "            title=\"Generate code using this dataframe.\"\n",
              "            style=\"display:none;\">\n",
              "\n",
              "  <svg xmlns=\"http://www.w3.org/2000/svg\" height=\"24px\"viewBox=\"0 0 24 24\"\n",
              "       width=\"24px\">\n",
              "    <path d=\"M7,19H8.4L18.45,9,17,7.55,7,17.6ZM5,21V16.75L18.45,3.32a2,2,0,0,1,2.83,0l1.4,1.43a1.91,1.91,0,0,1,.58,1.4,1.91,1.91,0,0,1-.58,1.4L9.25,21ZM18.45,9,17,7.55Zm-12,3A5.31,5.31,0,0,0,4.9,8.1,5.31,5.31,0,0,0,1,6.5,5.31,5.31,0,0,0,4.9,4.9,5.31,5.31,0,0,0,6.5,1,5.31,5.31,0,0,0,8.1,4.9,5.31,5.31,0,0,0,12,6.5,5.46,5.46,0,0,0,6.5,12Z\"/>\n",
              "  </svg>\n",
              "    </button>\n",
              "    <script>\n",
              "      (() => {\n",
              "      const buttonEl =\n",
              "        document.querySelector('#id_41876a7b-4166-401e-86f0-c26ffdaaab5a button.colab-df-generate');\n",
              "      buttonEl.style.display =\n",
              "        google.colab.kernel.accessAllowed ? 'block' : 'none';\n",
              "\n",
              "      buttonEl.onclick = () => {\n",
              "        google.colab.notebook.generateWithVariable('val_df');\n",
              "      }\n",
              "      })();\n",
              "    </script>\n",
              "  </div>\n",
              "\n",
              "    </div>\n",
              "  </div>\n"
            ],
            "application/vnd.google.colaboratory.intrinsic+json": {
              "type": "dataframe",
              "variable_name": "val_df",
              "summary": "{\n  \"name\": \"val_df\",\n  \"rows\": 558,\n  \"fields\": [\n    {\n      \"column\": \"PID\",\n      \"properties\": {\n        \"dtype\": \"number\",\n        \"std\": 1671,\n        \"min\": 24,\n        \"max\": 5568,\n        \"num_unique_values\": 558,\n        \"samples\": [\n          4909,\n          2498,\n          4491\n        ],\n        \"semantic_type\": \"\",\n        \"description\": \"\"\n      }\n    },\n    {\n      \"column\": \"text \",\n      \"properties\": {\n        \"dtype\": \"string\",\n        \"num_unique_values\": 551,\n        \"samples\": [\n          \"It just seems like weird timing that the night that all you and g want is for me to come smoke is the same day as when a shitstorm is attributed to me always coming over and making everyone smoke\",\n          \"Nah it's straight, if you can just bring bud or drinks or something that's actually a little more useful than straight cash\",\n          \"Ya ok, then had dinner?\"\n        ],\n        \"semantic_type\": \"\",\n        \"description\": \"\"\n      }\n    },\n    {\n      \"column\": \"labels\",\n      \"properties\": {\n        \"dtype\": \"category\",\n        \"num_unique_values\": 2,\n        \"samples\": [\n          \"spam\",\n          \"ham\"\n        ],\n        \"semantic_type\": \"\",\n        \"description\": \"\"\n      }\n    }\n  ]\n}"
            }
          },
          "metadata": {},
          "execution_count": 124
        }
      ]
    },
    {
      "cell_type": "code",
      "metadata": {
        "colab": {
          "base_uri": "https://localhost:8080/",
          "height": 178
        },
        "id": "w4VW351225YK",
        "outputId": "75ac7215-c33f-4a74-c430-8f723ee3301b"
      },
      "source": [
        "train_df['labels'].value_counts()"
      ],
      "execution_count": 125,
      "outputs": [
        {
          "output_type": "execute_result",
          "data": {
            "text/plain": [
              "labels\n",
              "ham     3860\n",
              "spam     597\n",
              "Name: count, dtype: int64"
            ],
            "text/html": [
              "<div>\n",
              "<style scoped>\n",
              "    .dataframe tbody tr th:only-of-type {\n",
              "        vertical-align: middle;\n",
              "    }\n",
              "\n",
              "    .dataframe tbody tr th {\n",
              "        vertical-align: top;\n",
              "    }\n",
              "\n",
              "    .dataframe thead th {\n",
              "        text-align: right;\n",
              "    }\n",
              "</style>\n",
              "<table border=\"1\" class=\"dataframe\">\n",
              "  <thead>\n",
              "    <tr style=\"text-align: right;\">\n",
              "      <th></th>\n",
              "      <th>count</th>\n",
              "    </tr>\n",
              "    <tr>\n",
              "      <th>labels</th>\n",
              "      <th></th>\n",
              "    </tr>\n",
              "  </thead>\n",
              "  <tbody>\n",
              "    <tr>\n",
              "      <th>ham</th>\n",
              "      <td>3860</td>\n",
              "    </tr>\n",
              "    <tr>\n",
              "      <th>spam</th>\n",
              "      <td>597</td>\n",
              "    </tr>\n",
              "  </tbody>\n",
              "</table>\n",
              "</div><br><label><b>dtype:</b> int64</label>"
            ]
          },
          "metadata": {},
          "execution_count": 125
        }
      ]
    },
    {
      "cell_type": "code",
      "source": [],
      "metadata": {
        "id": "OQn_iSz0pfX8"
      },
      "execution_count": 125,
      "outputs": []
    },
    {
      "cell_type": "code",
      "metadata": {
        "id": "ooOv9QZtnLIF"
      },
      "source": [
        "\n",
        "le = LabelEncoder()\n",
        "train_df['labels'] = le.fit_transform(train_df['labels'])"
      ],
      "execution_count": 126,
      "outputs": []
    },
    {
      "cell_type": "code",
      "metadata": {
        "colab": {
          "base_uri": "https://localhost:8080/",
          "height": 178
        },
        "id": "a89Bf4LpnigU",
        "outputId": "6b4410d1-f6e8-48c4-8a63-4b7c639800f1"
      },
      "source": [
        "train_df['labels'].value_counts()"
      ],
      "execution_count": 127,
      "outputs": [
        {
          "output_type": "execute_result",
          "data": {
            "text/plain": [
              "labels\n",
              "0    3860\n",
              "1     597\n",
              "Name: count, dtype: int64"
            ],
            "text/html": [
              "<div>\n",
              "<style scoped>\n",
              "    .dataframe tbody tr th:only-of-type {\n",
              "        vertical-align: middle;\n",
              "    }\n",
              "\n",
              "    .dataframe tbody tr th {\n",
              "        vertical-align: top;\n",
              "    }\n",
              "\n",
              "    .dataframe thead th {\n",
              "        text-align: right;\n",
              "    }\n",
              "</style>\n",
              "<table border=\"1\" class=\"dataframe\">\n",
              "  <thead>\n",
              "    <tr style=\"text-align: right;\">\n",
              "      <th></th>\n",
              "      <th>count</th>\n",
              "    </tr>\n",
              "    <tr>\n",
              "      <th>labels</th>\n",
              "      <th></th>\n",
              "    </tr>\n",
              "  </thead>\n",
              "  <tbody>\n",
              "    <tr>\n",
              "      <th>0</th>\n",
              "      <td>3860</td>\n",
              "    </tr>\n",
              "    <tr>\n",
              "      <th>1</th>\n",
              "      <td>597</td>\n",
              "    </tr>\n",
              "  </tbody>\n",
              "</table>\n",
              "</div><br><label><b>dtype:</b> int64</label>"
            ]
          },
          "metadata": {},
          "execution_count": 127
        }
      ]
    },
    {
      "cell_type": "markdown",
      "metadata": {
        "id": "bvNeR4lTVnK0"
      },
      "source": [
        "### Loading `train_sentences` and `train_labels`"
      ]
    },
    {
      "cell_type": "code",
      "metadata": {
        "id": "EufQZx2dbKMT"
      },
      "source": [
        "# Get the lists of sentences and their labels.\n",
        "train_sentences = train_df['text '].values\n",
        "train_labels = train_df['labels'].values"
      ],
      "execution_count": 128,
      "outputs": []
    },
    {
      "cell_type": "markdown",
      "metadata": {
        "id": "wnZSg5f7ZWs_"
      },
      "source": [
        "## Saving Class Names"
      ]
    },
    {
      "cell_type": "code",
      "metadata": {
        "id": "83tTT-wbZa1o"
      },
      "source": [
        "class_names = [\n",
        "               'ham','spam'\n",
        "]"
      ],
      "execution_count": 129,
      "outputs": []
    },
    {
      "cell_type": "markdown",
      "metadata": {
        "id": "ToUbAgZ9ap63"
      },
      "source": [
        "## Loading the validation data"
      ]
    },
    {
      "cell_type": "code",
      "metadata": {
        "id": "-CgK81lGDPKC"
      },
      "source": [
        "val_df['labels'] = le.transform(val_df['labels'])"
      ],
      "execution_count": 130,
      "outputs": []
    },
    {
      "cell_type": "code",
      "metadata": {
        "colab": {
          "base_uri": "https://localhost:8080/",
          "height": 178
        },
        "id": "Yfgn-E6JDZQZ",
        "outputId": "52ff263d-6eeb-48ab-9a4b-1c25e0175c75"
      },
      "source": [
        "\n",
        "val_df['labels'].value_counts()"
      ],
      "execution_count": 131,
      "outputs": [
        {
          "output_type": "execute_result",
          "data": {
            "text/plain": [
              "labels\n",
              "0    492\n",
              "1     66\n",
              "Name: count, dtype: int64"
            ],
            "text/html": [
              "<div>\n",
              "<style scoped>\n",
              "    .dataframe tbody tr th:only-of-type {\n",
              "        vertical-align: middle;\n",
              "    }\n",
              "\n",
              "    .dataframe tbody tr th {\n",
              "        vertical-align: top;\n",
              "    }\n",
              "\n",
              "    .dataframe thead th {\n",
              "        text-align: right;\n",
              "    }\n",
              "</style>\n",
              "<table border=\"1\" class=\"dataframe\">\n",
              "  <thead>\n",
              "    <tr style=\"text-align: right;\">\n",
              "      <th></th>\n",
              "      <th>count</th>\n",
              "    </tr>\n",
              "    <tr>\n",
              "      <th>labels</th>\n",
              "      <th></th>\n",
              "    </tr>\n",
              "  </thead>\n",
              "  <tbody>\n",
              "    <tr>\n",
              "      <th>0</th>\n",
              "      <td>492</td>\n",
              "    </tr>\n",
              "    <tr>\n",
              "      <th>1</th>\n",
              "      <td>66</td>\n",
              "    </tr>\n",
              "  </tbody>\n",
              "</table>\n",
              "</div><br><label><b>dtype:</b> int64</label>"
            ]
          },
          "metadata": {},
          "execution_count": 131
        }
      ]
    },
    {
      "cell_type": "markdown",
      "metadata": {
        "id": "DMdNNVqrDCuN"
      },
      "source": [
        "### Loading `val_sentences` and `val_labels`"
      ]
    },
    {
      "cell_type": "code",
      "metadata": {
        "id": "LvGhjUkaDCuO"
      },
      "source": [
        "# Get the lists of sentences and their labels.\n",
        "val_sentences = val_df['text '].values\n",
        "val_labels = val_df['labels'].values"
      ],
      "execution_count": 132,
      "outputs": []
    },
    {
      "cell_type": "code",
      "source": [
        "val_labels"
      ],
      "metadata": {
        "colab": {
          "base_uri": "https://localhost:8080/"
        },
        "id": "fCYTtWipswfd",
        "outputId": "b85eb2a9-35aa-4bb1-c804-4df26b0b0b01"
      },
      "execution_count": 133,
      "outputs": [
        {
          "output_type": "execute_result",
          "data": {
            "text/plain": [
              "array([0, 0, 0, 0, 0, 0, 0, 0, 0, 0, 0, 0, 0, 0, 0, 0, 0, 0, 0, 1, 0, 0,\n",
              "       0, 0, 0, 0, 1, 0, 0, 0, 0, 0, 0, 0, 0, 0, 0, 0, 0, 0, 0, 0, 0, 0,\n",
              "       0, 0, 0, 0, 0, 0, 0, 1, 0, 1, 0, 0, 0, 0, 1, 0, 0, 0, 0, 0, 1, 0,\n",
              "       0, 0, 0, 1, 0, 0, 0, 1, 0, 0, 0, 0, 0, 0, 0, 0, 0, 0, 0, 0, 0, 0,\n",
              "       0, 0, 0, 0, 0, 0, 0, 0, 0, 0, 0, 0, 0, 0, 0, 0, 0, 0, 1, 0, 0, 0,\n",
              "       0, 0, 1, 0, 1, 1, 0, 0, 0, 0, 1, 0, 0, 0, 0, 0, 0, 0, 0, 1, 0, 0,\n",
              "       0, 1, 0, 1, 0, 0, 0, 0, 0, 0, 0, 0, 0, 0, 0, 0, 0, 1, 0, 0, 0, 0,\n",
              "       0, 1, 0, 0, 0, 0, 0, 0, 0, 0, 0, 0, 0, 0, 0, 0, 0, 0, 0, 1, 0, 0,\n",
              "       0, 0, 0, 0, 0, 1, 0, 0, 0, 0, 0, 0, 0, 1, 0, 0, 0, 1, 0, 0, 0, 0,\n",
              "       0, 0, 0, 1, 0, 0, 0, 1, 0, 0, 0, 0, 0, 0, 0, 1, 0, 0, 0, 0, 0, 0,\n",
              "       0, 0, 0, 0, 1, 0, 0, 0, 0, 0, 0, 0, 1, 0, 0, 1, 0, 0, 0, 0, 0, 0,\n",
              "       0, 0, 0, 0, 0, 1, 0, 0, 1, 0, 0, 0, 0, 0, 0, 0, 0, 0, 0, 0, 0, 0,\n",
              "       0, 0, 0, 0, 0, 0, 0, 0, 0, 0, 0, 0, 0, 0, 0, 1, 0, 0, 0, 1, 0, 0,\n",
              "       0, 0, 0, 0, 0, 0, 0, 0, 0, 0, 1, 0, 0, 0, 0, 0, 0, 0, 0, 0, 1, 0,\n",
              "       1, 0, 0, 0, 0, 0, 0, 0, 0, 0, 0, 1, 0, 0, 1, 0, 0, 1, 0, 0, 0, 0,\n",
              "       0, 0, 0, 1, 0, 0, 1, 0, 0, 1, 0, 0, 0, 0, 0, 0, 0, 0, 0, 1, 0, 0,\n",
              "       0, 0, 0, 0, 0, 0, 1, 0, 0, 0, 0, 0, 0, 0, 0, 0, 0, 0, 0, 0, 0, 0,\n",
              "       0, 0, 0, 0, 0, 1, 0, 1, 0, 0, 0, 0, 0, 0, 0, 0, 0, 0, 0, 0, 0, 0,\n",
              "       0, 0, 0, 0, 0, 0, 0, 0, 1, 0, 0, 0, 0, 0, 0, 0, 0, 0, 0, 1, 0, 0,\n",
              "       0, 0, 1, 0, 1, 0, 1, 1, 0, 0, 0, 0, 1, 0, 0, 0, 0, 1, 0, 0, 0, 0,\n",
              "       0, 0, 0, 1, 0, 0, 0, 0, 0, 0, 0, 0, 0, 0, 0, 0, 0, 1, 0, 0, 1, 1,\n",
              "       0, 0, 0, 0, 0, 0, 0, 0, 0, 1, 0, 0, 0, 1, 0, 0, 0, 0, 0, 0, 0, 0,\n",
              "       0, 0, 0, 0, 0, 0, 0, 0, 0, 0, 0, 0, 0, 0, 0, 0, 0, 0, 0, 0, 0, 0,\n",
              "       0, 1, 0, 0, 0, 0, 0, 0, 0, 1, 0, 0, 0, 0, 0, 0, 0, 0, 0, 0, 1, 0,\n",
              "       0, 0, 0, 1, 0, 0, 0, 0, 0, 0, 0, 0, 0, 1, 0, 0, 0, 0, 1, 0, 0, 0,\n",
              "       0, 0, 0, 0, 0, 1, 0, 0])"
            ]
          },
          "metadata": {},
          "execution_count": 133
        }
      ]
    },
    {
      "cell_type": "markdown",
      "metadata": {
        "id": "z_WjMTuibsrf"
      },
      "source": [
        "## Helper Functions"
      ]
    },
    {
      "cell_type": "markdown",
      "metadata": {
        "id": "Bef28eHNV-_d"
      },
      "source": [
        "#### 1) Update Interval Function"
      ]
    },
    {
      "cell_type": "code",
      "metadata": {
        "id": "lBK0ujfEbMir"
      },
      "source": [
        "def good_update_interval(total_iters, num_desired_updates):\n",
        "    '''\n",
        "    This function will try to pick an intelligent progress update interval\n",
        "    based on the magnitude of the total iterations.\n",
        "\n",
        "    Parameters:\n",
        "      `total_iters` - The number of iterations in the for-loop.\n",
        "      `num_desired_updates` - How many times we want to see an update over the\n",
        "                              course of the for-loop.\n",
        "    '''\n",
        "    # Divide the total iterations by the desired number of updates. Most likely\n",
        "    # this will be some ugly number.\n",
        "    exact_interval = total_iters / num_desired_updates\n",
        "\n",
        "    # The `round` function has the ability to round down a number to, e.g., the\n",
        "    # nearest thousandth: round(exact_interval, -3)\n",
        "    #\n",
        "    # To determine the magnitude to round to, find the magnitude of the total,\n",
        "    # and then go one magnitude below that.\n",
        "\n",
        "    # Get the order of magnitude of the total.\n",
        "    order_of_mag = len(str(total_iters)) - 1\n",
        "\n",
        "    # Our update interval should be rounded to an order of magnitude smaller.\n",
        "    round_mag = order_of_mag - 1\n",
        "\n",
        "    # Round down and cast to an int.\n",
        "    update_interval = int(round(exact_interval, -round_mag))\n",
        "\n",
        "    # Don't allow the interval to be zero!\n",
        "    if update_interval == 0:\n",
        "        update_interval = 1\n",
        "\n",
        "    return update_interval"
      ],
      "execution_count": 134,
      "outputs": []
    },
    {
      "cell_type": "markdown",
      "metadata": {
        "id": "eMGycwGAWFyO"
      },
      "source": [
        "#### 2) Format time function"
      ]
    },
    {
      "cell_type": "code",
      "metadata": {
        "id": "c9zVyNQLm-3q"
      },
      "source": [
        "def format_time(elapsed):\n",
        "    '''\n",
        "    Takes a time in seconds and returns a string hh:mm:ss\n",
        "    '''\n",
        "    # Round to the nearest second.\n",
        "    elapsed_rounded = int(round((elapsed)))\n",
        "\n",
        "    # Format as hh:mm:ss\n",
        "    return str(datetime.timedelta(seconds=elapsed_rounded))\n"
      ],
      "execution_count": 135,
      "outputs": []
    },
    {
      "cell_type": "markdown",
      "metadata": {
        "id": "EBAo04ENWw3n"
      },
      "source": [
        "#### 3) Make Smart Batches function"
      ]
    },
    {
      "cell_type": "code",
      "metadata": {
        "id": "nof-AUeoiZc2"
      },
      "source": [
        "def make_smart_batches(text_samples, labels, batch_size,tokenizer,max_input_length):\n",
        "    '''\n",
        "    This function combines all of the required steps to prepare batches.\n",
        "    '''\n",
        "\n",
        "    print('Creating Smart Batches from {:,} examples with batch size {:,}...\\n'.format(len(text_samples), batch_size))\n",
        "\n",
        "    # =========================\n",
        "    #   Tokenize & Truncate\n",
        "    # =========================\n",
        "\n",
        "    full_input_ids = []\n",
        "\n",
        "    # Tokenize all training examples\n",
        "    print('Tokenizing {:,} samples...'.format(len(labels)))\n",
        "\n",
        "    # Choose an interval on which to print progress updates.\n",
        "    update_interval = good_update_interval(total_iters=len(labels), num_desired_updates=10)\n",
        "\n",
        "    # For each training example...\n",
        "    for text in text_samples:\n",
        "\n",
        "        # Report progress.\n",
        "        if ((len(full_input_ids) % update_interval) == 0):\n",
        "            print('  Tokenized {:,} samples.'.format(len(full_input_ids)))\n",
        "\n",
        "        # Tokenize the sample.\n",
        "        input_ids = tokenizer.encode(text=text,              # Text to encode.\n",
        "                                    add_special_tokens=True, # Do add specials.\n",
        "                                    max_length=max_input_length,\n",
        "                                    truncation=True,         # Do Truncate!\n",
        "                                    padding=False)           # DO NOT pad.\n",
        "\n",
        "        # Add the tokenized result to our list.\n",
        "        full_input_ids.append(input_ids)\n",
        "\n",
        "    print('DONE.')\n",
        "    print('{:>10,} samples\\n'.format(len(full_input_ids)))\n",
        "\n",
        "    # =========================\n",
        "    #      Select Batches\n",
        "    # =========================\n",
        "\n",
        "    # Sort the two lists together by the length of the input sequence.\n",
        "    samples = sorted(zip(full_input_ids, labels), key=lambda x: len(x[0]))\n",
        "\n",
        "    print('{:>10,} samples after sorting\\n'.format(len(samples)))\n",
        "\n",
        "    import random\n",
        "\n",
        "    # List of batches that we'll construct.\n",
        "    batch_ordered_sentences = []\n",
        "    batch_ordered_labels = []\n",
        "\n",
        "    print('Creating batches of size {:}...'.format(batch_size))\n",
        "\n",
        "    # Choose an interval on which to print progress updates.\n",
        "    update_interval = good_update_interval(total_iters=len(samples), num_desired_updates=10)\n",
        "\n",
        "    # Loop over all of the input samples...\n",
        "    while len(samples) > 0:\n",
        "\n",
        "        # Report progress.\n",
        "        if ((len(batch_ordered_sentences) % update_interval) == 0 \\\n",
        "            and not len(batch_ordered_sentences) == 0):\n",
        "            print('  Selected {:,} batches.'.format(len(batch_ordered_sentences)))\n",
        "\n",
        "        # `to_take` is our actual batch size. It will be `batch_size` until\n",
        "        # we get to the last batch, which may be smaller.\n",
        "        to_take = min(batch_size, len(samples))\n",
        "\n",
        "        # Pick a random index in the list of remaining samples to start\n",
        "        # our batch at.\n",
        "        select = random.randint(0, len(samples) - to_take)\n",
        "\n",
        "        # Select a contiguous batch of samples starting at `select`.\n",
        "        #print(\"Selecting batch from {:} to {:}\".format(select, select+to_take))\n",
        "        batch = samples[select:(select + to_take)]\n",
        "\n",
        "        #print(\"Batch length:\", len(batch))\n",
        "\n",
        "        # Each sample is a tuple--split them apart to create a separate list of\n",
        "        # sequences and a list of labels for this batch.\n",
        "        batch_ordered_sentences.append([s[0] for s in batch])\n",
        "        batch_ordered_labels.append([s[1] for s in batch])\n",
        "\n",
        "        # Remove these samples from the list.\n",
        "        del samples[select:select + to_take]\n",
        "\n",
        "    print('\\n  DONE - Selected {:,} batches.\\n'.format(len(batch_ordered_sentences)))\n",
        "\n",
        "    # =========================\n",
        "    #        Add Padding\n",
        "    # =========================\n",
        "\n",
        "    print('Padding out sequences within each batch...')\n",
        "\n",
        "    py_inputs = []\n",
        "    py_attn_masks = []\n",
        "    py_labels = []\n",
        "\n",
        "    # For each batch...\n",
        "    for (batch_inputs, batch_labels) in zip(batch_ordered_sentences, batch_ordered_labels):\n",
        "\n",
        "        # New version of the batch, this time with padded sequences and now with\n",
        "        # attention masks defined.\n",
        "        batch_padded_inputs = []\n",
        "        batch_attn_masks = []\n",
        "\n",
        "        # First, find the longest sample in the batch.\n",
        "        # Note that the sequences do currently include the special tokens!\n",
        "        max_size = max([len(sen) for sen in batch_inputs])\n",
        "\n",
        "        # For each input in this batch...\n",
        "        for sen in batch_inputs:\n",
        "\n",
        "            # How many pad tokens do we need to add?\n",
        "            num_pads = max_size - len(sen)\n",
        "\n",
        "            # Add `num_pads` padding tokens to the end of the sequence.\n",
        "            padded_input = sen + [tokenizer.pad_token_id]*num_pads\n",
        "\n",
        "            # Define the attention mask--it's just a `1` for every real token\n",
        "            # and a `0` for every padding token.\n",
        "            attn_mask = [1] * len(sen) + [0] * num_pads\n",
        "\n",
        "            # Add the padded results to the batch.\n",
        "            batch_padded_inputs.append(padded_input)\n",
        "            batch_attn_masks.append(attn_mask)\n",
        "\n",
        "        # Our batch has been padded, so we need to save this updated batch.\n",
        "        # We also need the inputs to be PyTorch tensors, so we'll do that here.\n",
        "        # Todo - Michael's code specified \"dtype=torch.long\"\n",
        "        py_inputs.append(torch.tensor(batch_padded_inputs))\n",
        "        py_attn_masks.append(torch.tensor(batch_attn_masks))\n",
        "        py_labels.append(torch.tensor(batch_labels))\n",
        "\n",
        "    print('  DONE.')\n",
        "\n",
        "    # Return the smart-batched dataset!\n",
        "    return (py_inputs, py_attn_masks, py_labels)\n"
      ],
      "execution_count": 136,
      "outputs": []
    },
    {
      "cell_type": "code",
      "metadata": {
        "id": "ggH8AkAEaV9N"
      },
      "source": [
        "def make_smart_batches_on_test(text_samples, text_ids, batch_size,tokenizer,max_input_length):\n",
        "    '''\n",
        "    This function combines all of the required steps to prepare batches.\n",
        "    '''\n",
        "\n",
        "    print('Creating Smart Batches from {:,} examples with batch size {:,}...\\n'.format(len(text_samples), batch_size))\n",
        "\n",
        "    # =========================\n",
        "    #   Tokenize & Truncate\n",
        "    # =========================\n",
        "\n",
        "    full_input_ids = []\n",
        "\n",
        "    # Tokenize all training examples\n",
        "    print('Tokenizing {:,} samples...'.format(len(text_samples)))\n",
        "\n",
        "    # Choose an interval on which to print progress updates.\n",
        "    update_interval = good_update_interval(total_iters=len(text_samples), num_desired_updates=10)\n",
        "\n",
        "    # For each training example...\n",
        "    for text in text_samples:\n",
        "\n",
        "        # Report progress.\n",
        "        if ((len(full_input_ids) % update_interval) == 0):\n",
        "            print('  Tokenized {:,} samples.'.format(len(full_input_ids)))\n",
        "\n",
        "        # Tokenize the sample.\n",
        "        input_ids = tokenizer.encode(text=text,              # Text to encode.\n",
        "                                    add_special_tokens=True, # Do add specials.\n",
        "                                    max_length=max_input_length,\n",
        "                                    truncation=True,         # Do Truncate!\n",
        "                                    padding=False)           # DO NOT pad.\n",
        "\n",
        "        # Add the tokenized result to our list.\n",
        "        full_input_ids.append(input_ids)\n",
        "\n",
        "    print('DONE.')\n",
        "    print('{:>10,} samples\\n'.format(len(full_input_ids)))\n",
        "\n",
        "    # =========================\n",
        "    #      Select Batches\n",
        "    # =========================\n",
        "\n",
        "    # Sort the two lists together by the length of the input sequence.\n",
        "    samples = sorted(zip(full_input_ids, text_ids), key=lambda x: len(x[0]))\n",
        "\n",
        "    print('{:>10,} samples after sorting\\n'.format(len(samples)))\n",
        "\n",
        "    import random\n",
        "\n",
        "    # List of batches that we'll construct.\n",
        "    batch_ordered_sentences = []\n",
        "    batch_ordered_ids = []\n",
        "\n",
        "    print('Creating batches of size {:}...'.format(batch_size))\n",
        "\n",
        "    # Choose an interval on which to print progress updates.\n",
        "    update_interval = good_update_interval(total_iters=len(samples), num_desired_updates=10)\n",
        "\n",
        "    # Loop over all of the input samples...\n",
        "    while len(samples) > 0:\n",
        "\n",
        "        # Report progress.\n",
        "        if ((len(batch_ordered_sentences) % update_interval) == 0 \\\n",
        "            and not len(batch_ordered_sentences) == 0):\n",
        "            print('  Selected {:,} batches.'.format(len(batch_ordered_sentences)))\n",
        "\n",
        "        # `to_take` is our actual batch size. It will be `batch_size` until\n",
        "        # we get to the last batch, which may be smaller.\n",
        "        to_take = min(batch_size, len(samples))\n",
        "\n",
        "        # Pick a random index in the list of remaining samples to start\n",
        "        # our batch at.\n",
        "        select = random.randint(0, len(samples) - to_take)\n",
        "\n",
        "        # Select a contiguous batch of samples starting at `select`.\n",
        "        #print(\"Selecting batch from {:} to {:}\".format(select, select+to_take))\n",
        "        batch = samples[select:(select + to_take)]\n",
        "\n",
        "        #print(\"Batch length:\", len(batch))\n",
        "\n",
        "        # Each sample is a tuple--split them apart to create a separate list of\n",
        "        # sequences and a list of labels for this batch.\n",
        "        batch_ordered_sentences.append([s[0] for s in batch])\n",
        "        batch_ordered_ids.append([s[1] for s in batch])\n",
        "\n",
        "        # Remove these samples from the list.\n",
        "        del samples[select:select + to_take]\n",
        "\n",
        "    print('\\n  DONE - Selected {:,} batches.\\n'.format(len(batch_ordered_sentences)))\n",
        "\n",
        "    # =========================\n",
        "    #        Add Padding\n",
        "    # =========================\n",
        "\n",
        "    print('Padding out sequences within each batch...')\n",
        "\n",
        "    py_inputs = []\n",
        "    py_attn_masks = []\n",
        "    py_ids = []\n",
        "\n",
        "    # For each batch...\n",
        "    for (batch_inputs, batch_ids) in zip(batch_ordered_sentences, batch_ordered_ids):\n",
        "\n",
        "        # New version of the batch, this time with padded sequences and now with\n",
        "        # attention masks defined.\n",
        "        batch_padded_inputs = []\n",
        "        batch_attn_masks = []\n",
        "\n",
        "        # First, find the longest sample in the batch.\n",
        "        # Note that the sequences do currently include the special tokens!\n",
        "        max_size = max([len(sen) for sen in batch_inputs])\n",
        "\n",
        "        # For each input in this batch...\n",
        "        for sen in batch_inputs:\n",
        "\n",
        "            # How many pad tokens do we need to add?\n",
        "            num_pads = max_size - len(sen)\n",
        "\n",
        "            # Add `num_pads` padding tokens to the end of the sequence.\n",
        "            padded_input = sen + [tokenizer.pad_token_id]*num_pads\n",
        "\n",
        "            # Define the attention mask--it's just a `1` for every real token\n",
        "            # and a `0` for every padding token.\n",
        "            attn_mask = [1] * len(sen) + [0] * num_pads\n",
        "\n",
        "            # Add the padded results to the batch.\n",
        "            batch_padded_inputs.append(padded_input)\n",
        "            batch_attn_masks.append(attn_mask)\n",
        "\n",
        "        # Our batch has been padded, so we need to save this updated batch.\n",
        "        # We also need the inputs to be PyTorch tensors, so we'll do that here.\n",
        "        # Todo - Michael's code specified \"dtype=torch.long\"\n",
        "        py_inputs.append(torch.tensor(batch_padded_inputs))\n",
        "        py_attn_masks.append(torch.tensor(batch_attn_masks))\n",
        "        py_ids.append(torch.tensor(batch_ids))\n",
        "\n",
        "    print('  DONE.')\n",
        "\n",
        "    # Return the smart-batched dataset!\n",
        "    return (py_inputs, py_attn_masks, py_ids)\n"
      ],
      "execution_count": 137,
      "outputs": []
    },
    {
      "cell_type": "markdown",
      "metadata": {
        "id": "x6EHYpUbz8fo"
      },
      "source": [
        "#### 4) Function for calculating accuracy per class"
      ]
    },
    {
      "cell_type": "code",
      "metadata": {
        "id": "Knuw_DOei8RO"
      },
      "source": [
        "def accuracy_per_class(preds, labels , label_dict):\n",
        "\n",
        "    preds_flat = np.argmax(preds, axis=1).flatten()\n",
        "    labels_flat = labels.flatten()\n",
        "\n",
        "    for label in np.unique(labels_flat):\n",
        "        y_preds = preds_flat[labels_flat==label]\n",
        "        y_true = labels_flat[labels_flat==label]\n",
        "        print(f'Class: {label_dict[label]}')\n",
        "        print(f'Accuracy: {round(100*len(y_preds[y_preds==label])/len(y_true) , 2)}\\n')"
      ],
      "execution_count": 138,
      "outputs": []
    },
    {
      "cell_type": "markdown",
      "metadata": {
        "id": "sOWk_8lpWO17"
      },
      "source": [
        "### 5) Function for plotting training history"
      ]
    },
    {
      "cell_type": "code",
      "metadata": {
        "id": "R7-FAyfnWM65"
      },
      "source": [
        "def plot_training_history(history):\n",
        "  fig, (ax1, ax2) = plt.subplots(1, 2, figsize=(18, 6))\n",
        "\n",
        "  ax1.plot(history['train_loss'], label='train loss')\n",
        "  ax1.plot(history['val_loss'], label='validation loss')\n",
        "\n",
        "  ax1.xaxis.set_major_locator(MaxNLocator(integer=True))\n",
        "  ax1.set_ylim([-0.05, 1.05])\n",
        "  ax1.legend()\n",
        "  ax1.set_ylabel('Loss')\n",
        "  ax1.set_xlabel('Epoch')\n",
        "\n",
        "  ax2.plot(history['train_acc'], label='train accuracy')\n",
        "  ax2.plot(history['val_acc'], label='validation accuracy')\n",
        "\n",
        "  ax2.xaxis.set_major_locator(MaxNLocator(integer=True))\n",
        "  ax2.set_ylim([-0.05, 1.05])\n",
        "  ax2.legend()\n",
        "\n",
        "  ax2.set_ylabel('Accuracy')\n",
        "  ax2.set_xlabel('Epoch')\n",
        "\n",
        "  fig.suptitle('Training history')"
      ],
      "execution_count": 139,
      "outputs": []
    },
    {
      "cell_type": "markdown",
      "metadata": {
        "id": "A7QOTORh_JHa"
      },
      "source": [
        "### 6) Function to check accuracy"
      ]
    },
    {
      "cell_type": "code",
      "metadata": {
        "id": "yzRDobQ6MwaR"
      },
      "source": [
        "def check_accuracy(predictions,true_labels):\n",
        "  # Combine the results across the batches.\n",
        "  predictions = np.concatenate(predictions, axis=0)\n",
        "  true_labels = np.concatenate(true_labels, axis=0)\n",
        "\n",
        "  # Choose the label with the highest score as our prediction.\n",
        "  preds = np.argmax(predictions, axis=1).flatten()\n",
        "\n",
        "  # Calculate simple flat accuracy -- number correct over total number.\n",
        "  accuracy = (preds == true_labels).mean()\n",
        "\n",
        "  return accuracy"
      ],
      "execution_count": 140,
      "outputs": []
    },
    {
      "cell_type": "markdown",
      "metadata": {
        "id": "D7TtFkV5_Olz"
      },
      "source": [
        "### 7) Function to evaluate model"
      ]
    },
    {
      "cell_type": "code",
      "metadata": {
        "id": "TSBNdYHYMA7Q"
      },
      "source": [
        "def eval_model(model,py_inputs, py_attn_masks, py_labels):\n",
        "# Prediction on test set\n",
        "  t0 = time.time()\n",
        "\n",
        "  print('Doing validation on {:,} sentences...'.format(len(py_labels)))\n",
        "\n",
        "  # Put model in evaluation mode\n",
        "  model.eval()\n",
        "\n",
        "  # Tracking variables\n",
        "  predictions , true_labels = [], []\n",
        "\n",
        "  # Choose an interval on which to print progress updates.\n",
        "  update_interval = good_update_interval(total_iters=len(py_inputs), num_desired_updates=10)\n",
        "\n",
        "  # Measure elapsed time.\n",
        "  t0 = time.time()\n",
        "  total_val_loss = 0\n",
        "\n",
        "  # Put model in evaluation mode\n",
        "  model.eval()\n",
        "\n",
        "  # For each batch of training data...\n",
        "  for step in range(0, len(py_inputs)):\n",
        "\n",
        "      # Progress update every 100 batches.\n",
        "      if step % update_interval == 0 and not step == 0:\n",
        "          # Calculate elapsed time in minutes.\n",
        "          elapsed = format_time(time.time() - t0)\n",
        "\n",
        "          # Calculate the time remaining based on our progress.\n",
        "          steps_per_sec = (time.time() - t0) / step\n",
        "          remaining_sec = steps_per_sec * (len(py_inputs) - step)\n",
        "          remaining = format_time(remaining_sec)\n",
        "\n",
        "          # Report progress.\n",
        "          print('  Batch {:>7,}  of  {:>7,}.    Elapsed: {:}.  Remaining: {:}'.format(step, len(py_inputs), elapsed, remaining))\n",
        "\n",
        "      # Copy the batch to the GPU.\n",
        "      b_input_ids = py_inputs[step].to(device)\n",
        "      b_input_mask = py_attn_masks[step].to(device)\n",
        "      b_labels = py_labels[step].to(device)\n",
        "\n",
        "      # Telling the model not to compute or store gradients, saving memory and\n",
        "      # speeding up prediction\n",
        "      with torch.no_grad():\n",
        "        output = model(b_input_ids,\n",
        "                             token_type_ids=None,\n",
        "                             attention_mask=b_input_mask,\n",
        "                             labels=b_labels)\n",
        "\n",
        "\n",
        "      logits = output.logits\n",
        "      loss = output.loss\n",
        "      # Move logits and labels to CPU\n",
        "      logits = logits.detach().cpu().numpy()\n",
        "      label_ids = b_labels.to('cpu').numpy()\n",
        "\n",
        "      # Store predictions and true labels\n",
        "      predictions.append(logits)\n",
        "      true_labels.append(label_ids)\n",
        "\n",
        "      total_val_loss += loss.item()\n",
        "\n",
        "  val_accuracy = check_accuracy(predictions,true_labels)\n",
        "\n",
        "  validation_time = format_time(time.time() - t0)\n",
        "\n",
        "  # Calculate the average loss over all of the batches.\n",
        "  avg_val_loss = total_val_loss / len(py_inputs)\n",
        "\n",
        "\n",
        "  # print('Accuracy: {:.3f}'.format(val_accuracy))\n",
        "  return (avg_val_loss,val_accuracy,validation_time)\n"
      ],
      "execution_count": 141,
      "outputs": []
    },
    {
      "cell_type": "markdown",
      "metadata": {
        "id": "Lrt_FyJIbC8j"
      },
      "source": [
        "### 8) Function for making predictions on our test dataset"
      ]
    },
    {
      "cell_type": "code",
      "metadata": {
        "id": "eylCkH2Zipq5"
      },
      "source": [
        "def get_predictions(py_inputs, py_attn_masks, py_labels):\n",
        "\n",
        "  print('Predicting labels for {:,} test batches...'.format(len(py_labels)))\n",
        "\n",
        "  # Put model in evaluation mode\n",
        "  model.eval()\n",
        "\n",
        "  # Tracking variables\n",
        "  predictions , true_labels = [], []\n",
        "\n",
        "  # Choose an interval on which to print progress updates.\n",
        "  update_interval = good_update_interval(total_iters=len(py_inputs), num_desired_updates=10)\n",
        "\n",
        "  # Measure elapsed time.\n",
        "  t0 = time.time()\n",
        "\n",
        "  # Put model in evaluation mode\n",
        "  model.eval()\n",
        "\n",
        "  # For each batch of training data...\n",
        "  for step in range(0, len(py_inputs)):\n",
        "\n",
        "      # Progress update every 100 batches.\n",
        "      if step % update_interval == 0 and not step == 0:\n",
        "          # Calculate elapsed time in minutes.\n",
        "          elapsed = format_time(time.time() - t0)\n",
        "\n",
        "          # Calculate the time remaining based on our progress.\n",
        "          steps_per_sec = (time.time() - t0) / step\n",
        "          remaining_sec = steps_per_sec * (len(py_inputs) - step)\n",
        "          remaining = format_time(remaining_sec)\n",
        "\n",
        "          # Report progress.\n",
        "          print('  Batch {:>7,}  of  {:>7,}.    Elapsed: {:}.  Remaining: {:}'.format(step, len(py_inputs), elapsed, remaining))\n",
        "\n",
        "      # Copy the batch to the GPU.\n",
        "      b_input_ids = py_inputs[step].to(device)\n",
        "      b_input_mask = py_attn_masks[step].to(device)\n",
        "      b_labels = py_labels[step].to(device)\n",
        "\n",
        "      # Telling the model not to compute or store gradients, saving memory and\n",
        "      # speeding up prediction\n",
        "      with torch.no_grad():\n",
        "          # Forward pass, calculate logit predictions\n",
        "          outputs = model(b_input_ids, b_input_mask)\n",
        "\n",
        "      logits = outputs.logits\n",
        "\n",
        "      # Move logits and labels to CPU\n",
        "      logits = logits.detach().cpu().numpy()\n",
        "      label_ids = b_labels.to('cpu').numpy()\n",
        "\n",
        "      # Store predictions and true labels\n",
        "      predictions.append(logits)\n",
        "      true_labels.append(label_ids)\n",
        "      # Combine the results across the batches.\n",
        "  predictions = np.concatenate(predictions, axis=0)\n",
        "  true_labels = np.concatenate(true_labels, axis=0)\n",
        "\n",
        "      # Choose the label with the highest score as our prediction.\n",
        "  preds = np.argmax(predictions, axis=1).flatten()\n",
        "\n",
        "  return (preds,true_labels)"
      ],
      "execution_count": 142,
      "outputs": []
    },
    {
      "cell_type": "markdown",
      "metadata": {
        "id": "eiRNCS-EbZmy"
      },
      "source": [
        "### 9) Function for making predictions on test dataset(without labels)"
      ]
    },
    {
      "cell_type": "code",
      "metadata": {
        "id": "RIuwhVSmZvkd"
      },
      "source": [
        "def get_predictions_test(py_inputs, py_attn_masks,py_ids):\n",
        "\n",
        "  print('Predicting labels for {:,} test batches...'.format(len(py_inputs)))\n",
        "\n",
        "  # Put model in evaluation mode\n",
        "  model.eval()\n",
        "\n",
        "  # Tracking variables\n",
        "  predictions , true_labels ,ids = [], [] , []\n",
        "\n",
        "  # Choose an interval on which to print progress updates.\n",
        "  update_interval = good_update_interval(total_iters=len(py_inputs), num_desired_updates=10)\n",
        "\n",
        "  # Measure elapsed time.\n",
        "  t0 = time.time()\n",
        "\n",
        "  # Put model in evaluation mode\n",
        "  model.eval()\n",
        "\n",
        "  # For each batch of training data...\n",
        "  for step in range(0, len(py_inputs)):\n",
        "\n",
        "      # Progress update every 100 batches.\n",
        "      if step % update_interval == 0 and not step == 0:\n",
        "          # Calculate elapsed time in minutes.\n",
        "          elapsed = format_time(time.time() - t0)\n",
        "\n",
        "          # Calculate the time remaining based on our progress.\n",
        "          steps_per_sec = (time.time() - t0) / step\n",
        "          remaining_sec = steps_per_sec * (len(py_inputs) - step)\n",
        "          remaining = format_time(remaining_sec)\n",
        "\n",
        "          # Report progress.\n",
        "          print('  Batch {:>7,}  of  {:>7,}.    Elapsed: {:}.  Remaining: {:}'.format(step, len(py_inputs), elapsed, remaining))\n",
        "\n",
        "      # Copy the batch to the GPU.\n",
        "      b_input_ids = py_inputs[step].to(device)\n",
        "      b_input_mask = py_attn_masks[step].to(device)\n",
        "      b_ids = py_ids[step].to(device)\n",
        "\n",
        "      # Telling the model not to compute or store gradients, saving memory and\n",
        "      # speeding up prediction\n",
        "      with torch.no_grad():\n",
        "          # Forward pass, calculate logit predictions\n",
        "          outputs = model(b_input_ids, b_input_mask)\n",
        "\n",
        "      logits = outputs.logits\n",
        "\n",
        "      # Move logits and labels to CPU\n",
        "      logits = logits.detach().cpu().numpy()\n",
        "      b_ids = b_ids.detach().cpu().numpy()\n",
        "      # Store predictions\n",
        "      predictions.append(logits)\n",
        "      ids.append(b_ids)\n",
        "      # Combine the results across the batches.\n",
        "  predictions = np.concatenate(predictions, axis=0)\n",
        "  ids = np.concatenate(ids,axis=0)\n",
        "  # Choose the label with the highest score as our prediction.\n",
        "  preds = np.argmax(predictions, axis=1).flatten()\n",
        "\n",
        "  return ids,preds"
      ],
      "execution_count": 143,
      "outputs": []
    },
    {
      "cell_type": "markdown",
      "metadata": {
        "id": "4IM8r_ddYZZS"
      },
      "source": [
        "### 10) Confusion Matrix Helper Function"
      ]
    },
    {
      "cell_type": "code",
      "metadata": {
        "id": "DqNaS8SrBox5"
      },
      "source": [
        "def show_confusion_matrix(confusion_matrix, class_names):\n",
        "\n",
        "  cm = confusion_matrix.copy()\n",
        "\n",
        "  cell_counts = cm.flatten()\n",
        "\n",
        "  cm_row_norm = cm / cm.sum(axis=1)[:, np.newaxis]\n",
        "\n",
        "  row_percentages = [\"{0:.2f}\".format(value) for value in cm_row_norm.flatten()]\n",
        "\n",
        "  cell_labels = [f\"{cnt}\\n{per}\" for cnt, per in zip(cell_counts, row_percentages)]\n",
        "  cell_labels = np.asarray(cell_labels).reshape(cm.shape[0], cm.shape[1])\n",
        "\n",
        "  df_cm = pd.DataFrame(cm_row_norm, index=class_names, columns=class_names)\n",
        "\n",
        "  hmap = sns.heatmap(df_cm, annot=cell_labels, fmt=\"\", cmap=\"Blues\")\n",
        "  hmap.yaxis.set_ticklabels(hmap.yaxis.get_ticklabels(), rotation=0, ha='right')\n",
        "  hmap.xaxis.set_ticklabels(hmap.xaxis.get_ticklabels(), rotation=30, ha='right')\n",
        "  plt.ylabel('True Sign')\n",
        "  plt.xlabel('Predicted Sign');"
      ],
      "execution_count": 144,
      "outputs": []
    },
    {
      "cell_type": "markdown",
      "metadata": {
        "id": "OVs3Jb3Vb89i"
      },
      "source": [
        "## Smart Batching of the training data"
      ]
    },
    {
      "cell_type": "code",
      "metadata": {
        "colab": {
          "base_uri": "https://localhost:8080/"
        },
        "id": "fIlwEvcMb4pb",
        "outputId": "fe9c9f32-ee66-4bdf-b3d6-a7744b380010"
      },
      "source": [
        "model_name = 'google-bert/bert-base-uncased'\n",
        "# Load the BERT tokenizer.\n",
        "print(f'Loading {model_name} tokenizer...')\n",
        "tokenizer = AutoTokenizer.from_pretrained(model_name, do_lower_case=False)"
      ],
      "execution_count": 145,
      "outputs": [
        {
          "output_type": "stream",
          "name": "stdout",
          "text": [
            "Loading google-bert/bert-base-uncased tokenizer...\n"
          ]
        },
        {
          "output_type": "stream",
          "name": "stderr",
          "text": [
            "/usr/local/lib/python3.10/dist-packages/transformers/tokenization_utils_base.py:1601: FutureWarning: `clean_up_tokenization_spaces` was not set. It will be set to `True` by default. This behavior will be depracted in transformers v4.45, and will be then set to `False` by default. For more details check this issue: https://github.com/huggingface/transformers/issues/31884\n",
            "  warnings.warn(\n"
          ]
        }
      ]
    },
    {
      "cell_type": "code",
      "metadata": {
        "id": "cWNt4eOLofmF"
      },
      "source": [
        "lengths = []\n",
        "for text in train_sentences:\n",
        "  lengths.append(len(text))"
      ],
      "execution_count": 146,
      "outputs": []
    },
    {
      "cell_type": "code",
      "metadata": {
        "colab": {
          "base_uri": "https://localhost:8080/",
          "height": 592
        },
        "id": "hbdGRA3Bo02O",
        "outputId": "de1aa742-85ce-454e-ce6f-a84c56ad9b91"
      },
      "source": [
        "\n",
        "# Use plot styling from seaborn.\n",
        "sns.set(style='darkgrid')\n",
        "\n",
        "# Increase the plot size and font size.\n",
        "sns.set(font_scale=1.5)\n",
        "plt.rcParams[\"figure.figsize\"] = (12,6)\n",
        "\n",
        "plt.scatter(range(0, len(lengths)), lengths, marker=\"|\")\n",
        "\n",
        "plt.xlabel('Sample Number')\n",
        "plt.ylabel('Sequence Length')\n",
        "plt.title('Samples BEFORE Tokenizing')\n",
        "\n",
        "plt.show()"
      ],
      "execution_count": 147,
      "outputs": [
        {
          "output_type": "display_data",
          "data": {
            "text/plain": [
              "<Figure size 1200x600 with 1 Axes>"
            ],
            "image/png": "[encoded data removed]"
          },
          "metadata": {}
        }
      ]
    },
    {
      "cell_type": "markdown",
      "metadata": {
        "id": "9rMhLNhPcZjU"
      },
      "source": [
        "### Tokenizing the sequences"
      ]
    },
    {
      "cell_type": "code",
      "metadata": {
        "id": "t7JsLi3EdEje"
      },
      "source": [
        "max_input_length = 300"
      ],
      "execution_count": 148,
      "outputs": []
    },
    {
      "cell_type": "code",
      "metadata": {
        "colab": {
          "base_uri": "https://localhost:8080/"
        },
        "id": "J968o8RJcUEd",
        "outputId": "114dd2ce-102f-4f74-8943-547d8ccd362f"
      },
      "source": [
        "full_input_ids = []\n",
        "labels = []\n",
        "\n",
        "# Tokenize all training examples\n",
        "print('Tokenizing {:,} training samples...'.format(len(train_sentences)))\n",
        "\n",
        "# Choose an interval on which to print progress updates.\n",
        "update_interval = good_update_interval(total_iters=len(train_sentences), num_desired_updates=10)\n",
        "\n",
        "# For each training example...\n",
        "for text in train_sentences:\n",
        "\n",
        "    # Report progress.\n",
        "    if ((len(full_input_ids) % update_interval) == 0):\n",
        "        print('  Tokenized {:,} samples.'.format(len(full_input_ids)))\n",
        "\n",
        "    # Tokenize the sentence.\n",
        "    input_ids = tokenizer.encode(text=text,\n",
        "                                 add_special_tokens=True,\n",
        "                                 max_length=max_input_length,\n",
        "                                 truncation=True,\n",
        "                                 padding=False)\n",
        "\n",
        "    # Add the tokenized result to our list.\n",
        "    full_input_ids.append(input_ids)\n",
        "\n",
        "print('DONE.')\n",
        "print('{:>10,} samples'.format(len(full_input_ids)))"
      ],
      "execution_count": 149,
      "outputs": [
        {
          "output_type": "stream",
          "name": "stdout",
          "text": [
            "Tokenizing 4,457 training samples...\n",
            "  Tokenized 0 samples.\n",
            "  Tokenized 400 samples.\n",
            "  Tokenized 800 samples.\n",
            "  Tokenized 1,200 samples.\n",
            "  Tokenized 1,600 samples.\n",
            "  Tokenized 2,000 samples.\n",
            "  Tokenized 2,400 samples.\n",
            "  Tokenized 2,800 samples.\n",
            "  Tokenized 3,200 samples.\n",
            "  Tokenized 3,600 samples.\n",
            "  Tokenized 4,000 samples.\n",
            "  Tokenized 4,400 samples.\n",
            "DONE.\n",
            "     4,457 samples\n"
          ]
        }
      ]
    },
    {
      "cell_type": "code",
      "metadata": {
        "id": "rZzhO2tZeXur"
      },
      "source": [
        "# Get all of the lengths.\n",
        "unsorted_lengths = [len(x) for x in full_input_ids]"
      ],
      "execution_count": 150,
      "outputs": []
    },
    {
      "cell_type": "code",
      "metadata": {
        "colab": {
          "base_uri": "https://localhost:8080/",
          "height": 592
        },
        "id": "x7c_mYuVed_H",
        "outputId": "c4862822-2cd7-45d4-e2b0-383c68be13e1"
      },
      "source": [
        "\n",
        "# Use plot styling from seaborn.\n",
        "sns.set(style='darkgrid')\n",
        "\n",
        "# Increase the plot size and font size.\n",
        "sns.set(font_scale=1.5)\n",
        "plt.rcParams[\"figure.figsize\"] = (12,6)\n",
        "\n",
        "plt.scatter(range(0, len(unsorted_lengths)), unsorted_lengths, marker=\"|\")\n",
        "\n",
        "plt.xlabel('Sample Number')\n",
        "plt.ylabel('Sequence Length')\n",
        "plt.title('Samples BEFORE Sorting')\n",
        "\n",
        "plt.show()"
      ],
      "execution_count": 151,
      "outputs": [
        {
          "output_type": "display_data",
          "data": {
            "text/plain": [
              "<Figure size 1200x600 with 1 Axes>"
            ],
            "image/png": "[encoded data removed]"
          },
          "metadata": {}
        }
      ]
    },
    {
      "cell_type": "code",
      "metadata": {
        "id": "7PaeohUVegmv"
      },
      "source": [
        "# Sort the two lists together by the length of the input sequence.\n",
        "train_samples = sorted(zip(full_input_ids, train_labels), key=lambda x: len(x[0]))"
      ],
      "execution_count": 152,
      "outputs": []
    },
    {
      "cell_type": "code",
      "metadata": {
        "colab": {
          "base_uri": "https://localhost:8080/"
        },
        "id": "_9nyx-BtepE4",
        "outputId": "d52b2353-35f9-4842-ec01-fa8f59d7e4fd"
      },
      "source": [
        "train_samples[0:5]"
      ],
      "execution_count": 153,
      "outputs": [
        {
          "output_type": "execute_result",
          "data": {
            "text/plain": [
              "[([101, 100, 102], 0),\n",
              " ([101, 100, 102], 0),\n",
              " ([101, 100, 102], 0),\n",
              " ([101, 100, 102], 0),\n",
              " ([101, 100, 102], 0)]"
            ]
          },
          "metadata": {},
          "execution_count": 153
        }
      ]
    },
    {
      "cell_type": "code",
      "metadata": {
        "colab": {
          "base_uri": "https://localhost:8080/"
        },
        "id": "rBxJhEieetFh",
        "outputId": "8bd39f9d-76e4-4436-8fdd-17c2544e0603"
      },
      "source": [
        "print('Shortest sample:', len(train_samples[0][0]))\n",
        "print('Longest sample:', len(train_samples[-1][0]))"
      ],
      "execution_count": 154,
      "outputs": [
        {
          "output_type": "stream",
          "name": "stdout",
          "text": [
            "Shortest sample: 3\n",
            "Longest sample: 233\n"
          ]
        }
      ]
    },
    {
      "cell_type": "code",
      "metadata": {
        "id": "P44bFOI-e7hW"
      },
      "source": [
        "# Get the new list of lengths after sorting.\n",
        "sorted_lengths = [len(s[0]) for s in train_samples]"
      ],
      "execution_count": 155,
      "outputs": []
    },
    {
      "cell_type": "code",
      "metadata": {
        "colab": {
          "base_uri": "https://localhost:8080/",
          "height": 592
        },
        "id": "9P5ZX99le_G1",
        "outputId": "300d02e7-7d6b-45ae-ceef-bc91f06ae545"
      },
      "source": [
        "\n",
        "\n",
        "plt.plot(range(0, len(sorted_lengths)), sorted_lengths)\n",
        "\n",
        "plt.xlabel('Sample Number')\n",
        "plt.ylabel('Sequence Length')\n",
        "plt.title('Samples after Sorting')\n",
        "\n",
        "plt.show()"
      ],
      "execution_count": 156,
      "outputs": [
        {
          "output_type": "display_data",
          "data": {
            "text/plain": [
              "<Figure size 1200x600 with 1 Axes>"
            ],
            "image/png": "[encoded data removed]"
          },
          "metadata": {}
        }
      ]
    },
    {
      "cell_type": "markdown",
      "metadata": {
        "id": "Eh1z0xugfF2t"
      },
      "source": [
        "### Random Batch Selections"
      ]
    },
    {
      "cell_type": "code",
      "metadata": {
        "colab": {
          "base_uri": "https://localhost:8080/"
        },
        "id": "gPrYkFMcgm5H",
        "outputId": "8202e3ea-0843-4e2c-8cd4-0159fbc1816a"
      },
      "source": [
        "train_samples[0]"
      ],
      "execution_count": 157,
      "outputs": [
        {
          "output_type": "execute_result",
          "data": {
            "text/plain": [
              "([101, 100, 102], 0)"
            ]
          },
          "metadata": {},
          "execution_count": 157
        }
      ]
    },
    {
      "cell_type": "code",
      "metadata": {
        "id": "isMxwgezfAvO"
      },
      "source": [
        "batch_size = 16"
      ],
      "execution_count": 158,
      "outputs": []
    },
    {
      "cell_type": "code",
      "metadata": {
        "colab": {
          "base_uri": "https://localhost:8080/"
        },
        "id": "s0tjD8pIfJ0S",
        "outputId": "eb0c1075-656f-42cb-9e77-027fcfb20a2b"
      },
      "source": [
        "# List of batches that we'll construct.\n",
        "batch_ordered_sentences = []\n",
        "batch_ordered_labels = []\n",
        "\n",
        "print('Creating training batches of size {:}'.format(batch_size))\n",
        "\n",
        "# Loop over all of the input samples...\n",
        "while len(train_samples) > 0:\n",
        "\n",
        "    # Report progress.\n",
        "    if ((len(batch_ordered_sentences) % 100) == 0):\n",
        "        print('  Selected {:,} batches.'.format(len(batch_ordered_sentences)))\n",
        "\n",
        "    # `to_take` is our actual batch size. It will be `batch_size` until\n",
        "    # we get to the last batch, which may be smaller.\n",
        "    to_take = min(batch_size, len(train_samples))\n",
        "\n",
        "    # Pick a random index in the list of remaining samples to start\n",
        "    # our batch at.\n",
        "    select = random.randint(0, len(train_samples) - to_take)\n",
        "\n",
        "    # Select a contiguous batch of samples starting at `select`.\n",
        "    batch = train_samples[select:(select + to_take)]\n",
        "\n",
        "    # Each sample is a tuple--split them apart to create a separate list of\n",
        "    # sequences and a list of labels for this batch.\n",
        "    batch_ordered_sentences.append([s[0] for s in batch])\n",
        "    batch_ordered_labels.append([s[1] for s in batch])\n",
        "\n",
        "    # Remove these samples from the list.\n",
        "    del train_samples[select:select + to_take]\n",
        "\n",
        "print('\\n  DONE - {:,} batches.'.format(len(batch_ordered_sentences)))"
      ],
      "execution_count": 159,
      "outputs": [
        {
          "output_type": "stream",
          "name": "stdout",
          "text": [
            "Creating training batches of size 16\n",
            "  Selected 0 batches.\n",
            "  Selected 100 batches.\n",
            "  Selected 200 batches.\n",
            "\n",
            "  DONE - 279 batches.\n"
          ]
        }
      ]
    },
    {
      "cell_type": "code",
      "metadata": {
        "colab": {
          "base_uri": "https://localhost:8080/"
        },
        "id": "rf91Dd3LhBaP",
        "outputId": "1b65ff8a-f496-4e8b-ce36-d4e0d19260aa"
      },
      "source": [
        "print(batch_ordered_sentences[0])"
      ],
      "execution_count": 160,
      "outputs": [
        {
          "output_type": "stream",
          "name": "stdout",
          "text": [
            "[[101, 100, 2017, 5627, 2000, 2175, 2005, 18726, 2465, 1012, 102], [101, 100, 2224, 2009, 2279, 2733, 1010, 4615, 1024, 1007, 102], [101, 100, 6046, 2351, 1010, 3398, 100, 1005, 1049, 2182, 102], [101, 100, 28194, 100, 100, 2106, 2000, 4875, 1012, 1012, 102], [101, 100, 1010, 100, 2572, 3403, 2005, 2115, 5653, 1012, 102], [101, 100, 2054, 2055, 2017, 1012, 100, 2079, 2017, 3342, 102], [101, 100, 1005, 1049, 2025, 2746, 2188, 1018, 4596, 1012, 102], [101, 100, 2031, 2053, 2769, 1018, 3889, 6775, 999, 999, 102], [101, 100, 2986, 1012, 1012, 14689, 4747, 4904, 2135, 2986, 102], [101, 100, 2129, 2106, 1057, 2113, 2054, 100, 8823, 1029, 102], [101, 100, 2064, 1005, 1056, 3524, 2000, 2283, 2362, 999, 102], [101, 100, 100, 2453, 2025, 2272, 2059, 1012, 1012, 1012, 102], [101, 100, 5373, 2980, 5653, 1012, 100, 2017, 2156, 999, 102], [101, 100, 2323, 2175, 2000, 1998, 7352, 1998, 8954, 3256, 102], [101, 100, 2074, 6603, 2054, 2115, 2725, 2157, 2085, 1029, 102], [101, 100, 2339, 2025, 1010, 2003, 1996, 6080, 2035, 3201, 102]]\n"
          ]
        }
      ]
    },
    {
      "cell_type": "code",
      "metadata": {
        "colab": {
          "base_uri": "https://localhost:8080/"
        },
        "id": "qmkQK_gVgiTu",
        "outputId": "6172a278-9a4a-4594-b5af-1c9353750f0c"
      },
      "source": [
        "batch_ordered_labels[0]"
      ],
      "execution_count": 161,
      "outputs": [
        {
          "output_type": "execute_result",
          "data": {
            "text/plain": [
              "[0, 0, 0, 0, 0, 0, 0, 0, 0, 0, 0, 0, 0, 0, 0, 0]"
            ]
          },
          "metadata": {},
          "execution_count": 161
        }
      ]
    },
    {
      "cell_type": "markdown",
      "metadata": {
        "id": "xZ0TFA8Mfn6m"
      },
      "source": [
        "### Padding"
      ]
    },
    {
      "cell_type": "code",
      "metadata": {
        "id": "c9rdswcpfTip"
      },
      "source": [
        "py_inputs = []\n",
        "py_attn_masks = []\n",
        "py_labels = []\n",
        "\n",
        "# For each batch...\n",
        "for (batch_inputs, batch_labels) in zip(batch_ordered_sentences, batch_ordered_labels):\n",
        "\n",
        "    # New version of the batch, this time with padded sequences and now with\n",
        "    # attention masks defined.\n",
        "    batch_padded_inputs = []\n",
        "    batch_attn_masks = []\n",
        "\n",
        "    # First, find the longest sample in the batch.\n",
        "    # Note that the sequences do currently include the special tokens!\n",
        "    max_size = max([len(sen) for sen in batch_inputs])\n",
        "\n",
        "    #print('Max size:', max_size)\n",
        "\n",
        "    # For each input in this batch...\n",
        "    for sen in batch_inputs:\n",
        "\n",
        "        # How many pad tokens do we need to add?\n",
        "        num_pads = max_size - len(sen)\n",
        "\n",
        "        # Add `num_pads` padding tokens to the end of the sequence.\n",
        "        padded_input = sen + [tokenizer.pad_token_id]*num_pads\n",
        "\n",
        "        # Define the attention mask--it's just a `1` for every real token\n",
        "        # and a `0` for every padding token.\n",
        "        attn_mask = [1] * len(sen) + [0] * num_pads\n",
        "\n",
        "        # Add the padded results to the batch.\n",
        "        batch_padded_inputs.append(padded_input)\n",
        "        batch_attn_masks.append(attn_mask)\n",
        "\n",
        "    # Our batch has been padded, so we need to save this updated batch.\n",
        "    # We also need the inputs to be PyTorch tensors, so we'll do that here.\n",
        "    py_inputs.append(torch.tensor(batch_padded_inputs))\n",
        "    py_attn_masks.append(torch.tensor(batch_attn_masks))\n",
        "    py_labels.append(torch.tensor(batch_labels))\n"
      ],
      "execution_count": 162,
      "outputs": []
    },
    {
      "cell_type": "markdown",
      "metadata": {
        "id": "roS5lLWdX-5J"
      },
      "source": [
        "### Check the number of token reductions because of smart batching"
      ]
    },
    {
      "cell_type": "code",
      "metadata": {
        "colab": {
          "base_uri": "https://localhost:8080/"
        },
        "id": "wlh7cteVfroV",
        "outputId": "ab5f68a7-7553-41bc-c0e1-72558a1d130f"
      },
      "source": [
        "# Get the new list of lengths after sorting.\n",
        "\n",
        "padded_lengths = []\n",
        "\n",
        "# For each batch...\n",
        "for batch in py_inputs:\n",
        "\n",
        "    # For each sample...\n",
        "    for s in batch:\n",
        "\n",
        "        # Record its length.\n",
        "        padded_lengths.append(len(s))\n",
        "\n",
        "# Sum up the lengths to the get the total number of tokens after smart batching.\n",
        "smart_token_count = np.sum(padded_lengths)\n",
        "\n",
        "# To get the total number of tokens in the dataset using fixed padding, it's\n",
        "# as simple as the number of samples times our `max_len` parameter (that we\n",
        "# would pad everything to).\n",
        "fixed_token_count = len(train_sentences) * max_input_length\n",
        "\n",
        "# Calculate the percentage reduction.\n",
        "prcnt_reduced = (fixed_token_count - smart_token_count) / float(fixed_token_count)\n",
        "\n",
        "print('Total tokens:')\n",
        "print('   Fixed Padding: {:,}'.format(fixed_token_count))\n",
        "print('  Smart Batching: {:,}  ({:.1%} less)'.format(smart_token_count, prcnt_reduced))\n"
      ],
      "execution_count": 163,
      "outputs": [
        {
          "output_type": "stream",
          "name": "stdout",
          "text": [
            "Total tokens:\n",
            "   Fixed Padding: 1,337,100\n",
            "  Smart Batching: 116,497  (91.3% less)\n"
          ]
        }
      ]
    },
    {
      "cell_type": "markdown",
      "metadata": {
        "id": "8wgdhsI-YIAL"
      },
      "source": [
        "## Load the model configuration from the transformers library using AutoConfig"
      ]
    },
    {
      "cell_type": "code",
      "metadata": {
        "colab": {
          "base_uri": "https://localhost:8080/"
        },
        "id": "9er7EHvdfudf",
        "outputId": "c64a547a-2db5-4669-b37c-51d2483c4feb"
      },
      "source": [
        "# Load the Config object, with an output configured for classification.\n",
        "config = AutoConfig.from_pretrained(pretrained_model_name_or_path=model_name,\n",
        "                                    num_labels=6)\n",
        "\n",
        "print('Config type:', str(type(config)), '\\n')\n"
      ],
      "execution_count": 164,
      "outputs": [
        {
          "output_type": "stream",
          "name": "stdout",
          "text": [
            "Config type: <class 'transformers.models.bert.configuration_bert.BertConfig'> \n",
            "\n"
          ]
        }
      ]
    },
    {
      "cell_type": "code",
      "metadata": {
        "colab": {
          "base_uri": "https://localhost:8080/"
        },
        "id": "bWvc9Ikv4HtD",
        "outputId": "1c453093-72b6-493b-c6c7-c658d190f6bb"
      },
      "source": [
        "model = AutoModelForSequenceClassification.from_pretrained(pretrained_model_name_or_path=model_name,config = config)"
      ],
      "execution_count": 165,
      "outputs": [
        {
          "output_type": "stream",
          "name": "stderr",
          "text": [
            "Some weights of BertForSequenceClassification were not initialized from the model checkpoint at google-bert/bert-base-uncased and are newly initialized: ['classifier.bias', 'classifier.weight']\n",
            "You should probably TRAIN this model on a down-stream task to be able to use it for predictions and inference.\n"
          ]
        }
      ]
    },
    {
      "cell_type": "code",
      "metadata": {
        "colab": {
          "base_uri": "https://localhost:8080/"
        },
        "id": "Xouf5M2B55ei",
        "outputId": "955feca7-7e84-4185-c531-25ecf0fd3c65"
      },
      "source": [
        "model.cuda()"
      ],
      "execution_count": 166,
      "outputs": [
        {
          "output_type": "execute_result",
          "data": {
            "text/plain": [
              "BertForSequenceClassification(\n",
              "  (bert): BertModel(\n",
              "    (embeddings): BertEmbeddings(\n",
              "      (word_embeddings): Embedding(30522, 768, padding_idx=0)\n",
              "      (position_embeddings): Embedding(512, 768)\n",
              "      (token_type_embeddings): Embedding(2, 768)\n",
              "      (LayerNorm): LayerNorm((768,), eps=1e-12, elementwise_affine=True)\n",
              "      (dropout): Dropout(p=0.1, inplace=False)\n",
              "    )\n",
              "    (encoder): BertEncoder(\n",
              "      (layer): ModuleList(\n",
              "        (0-11): 12 x BertLayer(\n",
              "          (attention): BertAttention(\n",
              "            (self): BertSdpaSelfAttention(\n",
              "              (query): Linear(in_features=768, out_features=768, bias=True)\n",
              "              (key): Linear(in_features=768, out_features=768, bias=True)\n",
              "              (value): Linear(in_features=768, out_features=768, bias=True)\n",
              "              (dropout): Dropout(p=0.1, inplace=False)\n",
              "            )\n",
              "            (output): BertSelfOutput(\n",
              "              (dense): Linear(in_features=768, out_features=768, bias=True)\n",
              "              (LayerNorm): LayerNorm((768,), eps=1e-12, elementwise_affine=True)\n",
              "              (dropout): Dropout(p=0.1, inplace=False)\n",
              "            )\n",
              "          )\n",
              "          (intermediate): BertIntermediate(\n",
              "            (dense): Linear(in_features=768, out_features=3072, bias=True)\n",
              "            (intermediate_act_fn): GELUActivation()\n",
              "          )\n",
              "          (output): BertOutput(\n",
              "            (dense): Linear(in_features=3072, out_features=768, bias=True)\n",
              "            (LayerNorm): LayerNorm((768,), eps=1e-12, elementwise_affine=True)\n",
              "            (dropout): Dropout(p=0.1, inplace=False)\n",
              "          )\n",
              "        )\n",
              "      )\n",
              "    )\n",
              "    (pooler): BertPooler(\n",
              "      (dense): Linear(in_features=768, out_features=768, bias=True)\n",
              "      (activation): Tanh()\n",
              "    )\n",
              "  )\n",
              "  (dropout): Dropout(p=0.1, inplace=False)\n",
              "  (classifier): Linear(in_features=768, out_features=6, bias=True)\n",
              ")"
            ]
          },
          "metadata": {},
          "execution_count": 166
        }
      ]
    },
    {
      "cell_type": "markdown",
      "metadata": {
        "id": "SXJHBVlxYR-l"
      },
      "source": [
        "## Load the model from the transformers library using AutoModel"
      ]
    },
    {
      "cell_type": "code",
      "metadata": {
        "colab": {
          "base_uri": "https://localhost:8080/"
        },
        "id": "n8J4r6KyhveR",
        "outputId": "20d25873-8487-45e3-a6b7-7b1d486fbcbe"
      },
      "source": [
        "# Load the pre-trained model for classification, passing in the `config` from\n",
        "# above.\n",
        "bert = AutoModel.from_pretrained(\n",
        "    pretrained_model_name_or_path=model_name,\n",
        "    config=config)\n",
        "\n",
        "print('\\nModel type:', str(type(bert)))\n"
      ],
      "execution_count": 167,
      "outputs": [
        {
          "output_type": "stream",
          "name": "stdout",
          "text": [
            "\n",
            "Model type: <class 'transformers.models.bert.modeling_bert.BertModel'>\n"
          ]
        }
      ]
    },
    {
      "cell_type": "code",
      "metadata": {
        "id": "RcFMgf5EuPAF"
      },
      "source": [
        "# freeze all the parameters\n",
        "for param in bert.parameters():\n",
        "    param.requires_grad = False"
      ],
      "execution_count": 168,
      "outputs": []
    },
    {
      "cell_type": "markdown",
      "metadata": {
        "id": "NS_-0rBDYeY5"
      },
      "source": [
        "## Creating a custom BERT model"
      ]
    },
    {
      "cell_type": "code",
      "metadata": {
        "id": "bmGtZwykJ39i"
      },
      "source": [
        "\n",
        "# class BERT_Model(nn.Module):\n",
        "#     ## defining the constructor for the class\n",
        "#     def __init__(self, bert,num_labels):\n",
        "#       ## calling the super class constructor\n",
        "#       super(BERT_Model, self).__init__()\n",
        "#       ## adding the bert layer to the model\n",
        "#       self.bert = bert\n",
        "#       # relu activation function\n",
        "#       self.relu =  nn.ReLU()\n",
        "#       # adding a dense layer to our custom model\n",
        "#       self.fc1 = nn.Linear(768,512)\n",
        "#       # adding another dense layer to our custom model ,i.e., the Output layer\n",
        "#       self.fc2 = nn.Linear(512,num_labels)\n",
        "#       # adding a softmax  activation function for our custom model's output layer\n",
        "#       self.softmax = nn.LogSoftmax(dim=1)\n",
        "\n",
        "#     #defining the forward pass\n",
        "#     def forward(self, input_id, mask):\n",
        "#       #pass the inputs to the model\n",
        "#       outputs = self.bert(input_id,mask)\n",
        "\n",
        "#       last_hidden_state = outputs.last_hidden_state       ## last hidden state from the model\n",
        "#       pooler_output = outputs.pooler_output               ## pooler output from the model\n",
        "#       ## adding a fully connected layer to the BERT model\n",
        "#       x = self.fc1(pooler_output)\n",
        "#       ## applying relu activation function\n",
        "#       x = self.relu(x)\n",
        "#       # the final output layer\n",
        "#       x = self.fc2(x)\n",
        "#       # apply softmax activation to our output layer\n",
        "#       x = self.softmax(x)\n",
        "\n",
        "#       return x"
      ],
      "execution_count": 169,
      "outputs": []
    },
    {
      "cell_type": "code",
      "metadata": {
        "id": "jvOs0G5sh02S"
      },
      "source": [
        "\n",
        "\n",
        "# print('\\nLoading model ...')\n",
        "# # pass the pre-trained BERT to our define architecture\n",
        "# model = BERT_Model(bert,num_labels=3)\n",
        "\n",
        "# model.cuda()"
      ],
      "execution_count": 170,
      "outputs": []
    },
    {
      "cell_type": "markdown",
      "metadata": {
        "id": "LjQSUqCWJTbI"
      },
      "source": [
        "## Custom Loss function"
      ]
    },
    {
      "cell_type": "code",
      "metadata": {
        "id": "iOHVl1RRJSUB"
      },
      "source": [
        "# # convert class weights to tensor\n",
        "# weights= torch.tensor(class_wts,dtype=torch.float)\n",
        "# weights = weights.to(device)\n",
        "\n",
        "# # loss function\n",
        "# cross_entropy  = nn.NLLLoss(weight=weights)\n"
      ],
      "execution_count": 171,
      "outputs": []
    },
    {
      "cell_type": "markdown",
      "metadata": {
        "id": "evYV0yrQ2u_b"
      },
      "source": [
        "## Loading Optimizer"
      ]
    },
    {
      "cell_type": "code",
      "metadata": {
        "id": "8tAijXBEh7t8",
        "colab": {
          "base_uri": "https://localhost:8080/"
        },
        "outputId": "20e856a2-aeda-4c3a-db2b-9d2277d8d236"
      },
      "source": [
        "# Note: AdamW is a class from the huggingface library (as opposed to pytorch)\n",
        "# I believe the 'W' stands for 'Weight Decay fix\"\n",
        "optimizer = AdamW(model.parameters(),\n",
        "                  lr = 2e-5, # This is the value Michael used.\n",
        "                  eps = 1e-8 # args.adam_epsilon  - default is 1e-8.\n",
        "                )\n"
      ],
      "execution_count": 172,
      "outputs": [
        {
          "output_type": "stream",
          "name": "stderr",
          "text": [
            "/usr/local/lib/python3.10/dist-packages/transformers/optimization.py:591: FutureWarning: This implementation of AdamW is deprecated and will be removed in a future version. Use the PyTorch implementation torch.optim.AdamW instead, or set `no_deprecation_warning=True` to disable this warning\n",
            "  warnings.warn(\n"
          ]
        }
      ]
    },
    {
      "cell_type": "markdown",
      "metadata": {
        "id": "s9n3_5jI2ywo"
      },
      "source": [
        "## Loading lr scheduler"
      ]
    },
    {
      "cell_type": "code",
      "metadata": {
        "id": "agidP6D6iBFI"
      },
      "source": [
        "# Number of training epochs. I chose to train for 1 simply because the training\n",
        "# time is long. More epochs may improve the model's accuracy.\n",
        "epochs = 5\n",
        "\n",
        "# Total number of training steps is [number of batches] x [number of epochs].\n",
        "# Note that it's the number of *batches*, not *samples*!\n",
        "total_steps = len(py_inputs) * epochs\n",
        "\n",
        "# Create the learning rate scheduler.\n",
        "scheduler = get_linear_schedule_with_warmup(optimizer,\n",
        "                                            num_warmup_steps = 0, # Default value in run_glue.py\n",
        "                                            num_training_steps = total_steps)"
      ],
      "execution_count": 173,
      "outputs": []
    },
    {
      "cell_type": "code",
      "source": [
        "# import numpy as np\n",
        "# from sklearn.preprocessing import LabelEncoder\n",
        "\n",
        "# # Check if all validation labels are present in the training labels\n",
        "# missing_labels = set(val_labels) - set(train_labels)\n",
        "\n",
        "# if missing_labels:\n",
        "#     print(f\"Warning: The following labels in validation data were not seen in the training data: {missing_labels}\")\n",
        "#     # Optionally, you could handle missing labels here, either by filtering or adding them to the encoder.\n",
        "# else:\n",
        "#     # Convert validation labels using the same LabelEncoder to ensure the mapping is consistent\n",
        "#     val_labels_encoded = label_encoder.transform(val_labels)\n",
        "\n",
        "# # Now continue with the rest of the training as planned.\n"
      ],
      "metadata": {
        "id": "EJJxqvLPtHMs"
      },
      "execution_count": 174,
      "outputs": []
    },
    {
      "cell_type": "markdown",
      "metadata": {
        "id": "MDDp05Cm245e"
      },
      "source": [
        "## Training Loop"
      ]
    },
    {
      "cell_type": "code",
      "metadata": {
        "id": "H4ERR8fBiEJn",
        "colab": {
          "base_uri": "https://localhost:8080/"
        },
        "outputId": "570c6dc5-308d-46e9-e156-96a0b2f50b7c"
      },
      "source": [
        "import time\n",
        "import torch\n",
        "from sklearn.preprocessing import LabelEncoder\n",
        "\n",
        "# Assuming your labels are strings like 'ham' and 'spam', we first fit the LabelEncoder on the training labels\n",
        "label_encoder = LabelEncoder()\n",
        "\n",
        "# Convert training labels to numeric values\n",
        "train_labels_encoded = label_encoder.fit_transform(train_labels)\n",
        "\n",
        "# Convert validation labels using the same LabelEncoder to ensure the mapping is consistent\n",
        "val_labels_encoded = label_encoder.transform(val_labels)\n",
        "\n",
        "# Now, we can proceed with the rest of the code for training and validation.\n",
        "\n",
        "# We'll store a number of quantities such as training and validation loss, validation accuracy, and timings.\n",
        "training_stats = {\n",
        "    'epoch': [],\n",
        "    'train_loss': [],\n",
        "    'Training Time': [],\n",
        "    'val_loss': [],\n",
        "    'Validation Time': [],\n",
        "    'train_acc': [],\n",
        "    'val_acc': []\n",
        "}\n",
        "\n",
        "# Update every `update_interval` batches.\n",
        "update_interval = good_update_interval(total_iters=len(py_inputs), num_desired_updates=10)\n",
        "\n",
        "# Measure the total training time for the whole run.\n",
        "total_t0 = time.time()\n",
        "\n",
        "# For each epoch...\n",
        "for epoch_i in range(0, epochs):\n",
        "\n",
        "    predictions = []\n",
        "    true_labels = []\n",
        "\n",
        "    print(\"\")\n",
        "    print(f'======== Epoch {epoch_i + 1} / {epochs} ========')\n",
        "\n",
        "    if epoch_i > 0:\n",
        "        # Re-shuffle the dataset into new batches\n",
        "        (py_inputs, py_attn_masks, py_labels) = make_smart_batches(train_sentences, train_labels_encoded, batch_size, tokenizer, max_input_length)\n",
        "\n",
        "    print(f'Training on {len(py_inputs):,} batches...')\n",
        "\n",
        "    t0 = time.time()\n",
        "    total_train_loss = 0\n",
        "\n",
        "    model.train()\n",
        "\n",
        "    for step in range(0, len(py_inputs)):\n",
        "\n",
        "        if step % update_interval == 0 and step != 0:\n",
        "            elapsed = format_time(time.time() - t0)\n",
        "            remaining_sec = (time.time() - t0) / step * (len(py_inputs) - step)\n",
        "            remaining = format_time(remaining_sec)\n",
        "            print(f'  Batch {step:>7,} of {len(py_inputs):>7,}. Elapsed: {elapsed}. Remaining: {remaining}')\n",
        "\n",
        "        b_input_ids = py_inputs[step].to(device)\n",
        "        b_input_mask = py_attn_masks[step].to(device)\n",
        "        b_labels = py_labels[step].to(device)\n",
        "\n",
        "        model.zero_grad()\n",
        "        output = model(b_input_ids, token_type_ids=None, attention_mask=b_input_mask, labels=b_labels)\n",
        "        loss = output.loss\n",
        "        logits = output.logits\n",
        "\n",
        "        logits = logits.detach().cpu().numpy()\n",
        "        label_ids = b_labels.to('cpu').numpy()\n",
        "\n",
        "        predictions.append(logits)\n",
        "        true_labels.append(label_ids)\n",
        "\n",
        "        total_train_loss += loss.item()\n",
        "\n",
        "        loss.backward()\n",
        "        torch.nn.utils.clip_grad_norm_(model.parameters(), 1.0)\n",
        "        optimizer.step()\n",
        "        scheduler.step()\n",
        "\n",
        "    avg_train_loss = total_train_loss / len(py_inputs)\n",
        "    training_accuracy = check_accuracy(predictions, true_labels)\n",
        "    training_time = format_time(time.time() - t0)\n",
        "\n",
        "    print(f\"  Average training loss: {avg_train_loss:.2f}\")\n",
        "    print(f\"  Training Accuracy: {training_accuracy:.2f}\")\n",
        "    print(f\"  Training epoch took: {training_time}\")\n",
        "\n",
        "    # Validation\n",
        "    (py_inputs, py_attn_masks, py_labels) = make_smart_batches(val_sentences, val_labels_encoded, batch_size, tokenizer, max_input_length)\n",
        "    val_loss, val_accuracy, validation_time = eval_model(model, py_inputs, py_attn_masks, py_labels)\n",
        "\n",
        "    print(\"\")\n",
        "    print(f\"  Average validation loss: {val_loss:.2f}\")\n",
        "    print(f\"  Validation Accuracy: {val_accuracy:.2f}\")\n",
        "    print(f\"  Validation epoch took: {validation_time}\")\n",
        "\n",
        "    # Record all statistics from this epoch.\n",
        "    training_stats['epoch'].append(epoch_i + 1)\n",
        "    training_stats['train_loss'].append(avg_train_loss)\n",
        "    training_stats['Training Time'].append(training_time)\n",
        "    training_stats['val_loss'].append(val_loss)\n",
        "    training_stats['Validation Time'].append(validation_time)\n",
        "    training_stats['train_acc'].append(training_accuracy)\n",
        "    training_stats['val_acc'].append(val_accuracy)\n",
        "\n",
        "print(\"\")\n",
        "print(f\"Training complete! Total training took {format_time(time.time() - total_t0)} (h:mm:ss)\")\n"
      ],
      "execution_count": 175,
      "outputs": [
        {
          "output_type": "stream",
          "name": "stdout",
          "text": [
            "\n",
            "======== Epoch 1 / 5 ========\n",
            "Training on 279 batches...\n",
            "  Batch      30 of     279. Elapsed: 0:00:04. Remaining: 0:00:31\n",
            "  Batch      60 of     279. Elapsed: 0:00:08. Remaining: 0:00:27\n",
            "  Batch      90 of     279. Elapsed: 0:00:11. Remaining: 0:00:24\n",
            "  Batch     120 of     279. Elapsed: 0:00:16. Remaining: 0:00:21\n",
            "  Batch     150 of     279. Elapsed: 0:00:20. Remaining: 0:00:17\n",
            "  Batch     180 of     279. Elapsed: 0:00:24. Remaining: 0:00:13\n",
            "  Batch     210 of     279. Elapsed: 0:00:27. Remaining: 0:00:09\n",
            "  Batch     240 of     279. Elapsed: 0:00:30. Remaining: 0:00:05\n",
            "  Batch     270 of     279. Elapsed: 0:00:34. Remaining: 0:00:01\n",
            "  Average training loss: 0.20\n",
            "  Training Accuracy: 0.95\n",
            "  Training epoch took: 0:00:35\n",
            "Creating Smart Batches from 558 examples with batch size 16...\n",
            "\n",
            "Tokenizing 558 samples...\n",
            "  Tokenized 0 samples.\n",
            "  Tokenized 60 samples.\n",
            "  Tokenized 120 samples.\n",
            "  Tokenized 180 samples.\n",
            "  Tokenized 240 samples.\n",
            "  Tokenized 300 samples.\n",
            "  Tokenized 360 samples.\n",
            "  Tokenized 420 samples.\n",
            "  Tokenized 480 samples.\n",
            "  Tokenized 540 samples.\n",
            "DONE.\n",
            "       558 samples\n",
            "\n",
            "       558 samples after sorting\n",
            "\n",
            "Creating batches of size 16...\n",
            "\n",
            "  DONE - Selected 35 batches.\n",
            "\n",
            "Padding out sequences within each batch...\n",
            "  DONE.\n",
            "Doing validation on 35 sentences...\n",
            "  Batch       4  of       35.    Elapsed: 0:00:00.  Remaining: 0:00:00\n",
            "  Batch       8  of       35.    Elapsed: 0:00:00.  Remaining: 0:00:00\n",
            "  Batch      12  of       35.    Elapsed: 0:00:00.  Remaining: 0:00:00\n",
            "  Batch      16  of       35.    Elapsed: 0:00:00.  Remaining: 0:00:00\n",
            "  Batch      20  of       35.    Elapsed: 0:00:00.  Remaining: 0:00:00\n",
            "  Batch      24  of       35.    Elapsed: 0:00:01.  Remaining: 0:00:00\n",
            "  Batch      28  of       35.    Elapsed: 0:00:01.  Remaining: 0:00:00\n",
            "  Batch      32  of       35.    Elapsed: 0:00:01.  Remaining: 0:00:00\n",
            "\n",
            "  Average validation loss: 0.05\n",
            "  Validation Accuracy: 0.99\n",
            "  Validation epoch took: 0:00:01\n",
            "\n",
            "======== Epoch 2 / 5 ========\n",
            "Creating Smart Batches from 4,457 examples with batch size 16...\n",
            "\n",
            "Tokenizing 4,457 samples...\n",
            "  Tokenized 0 samples.\n",
            "  Tokenized 400 samples.\n",
            "  Tokenized 800 samples.\n",
            "  Tokenized 1,200 samples.\n",
            "  Tokenized 1,600 samples.\n",
            "  Tokenized 2,000 samples.\n",
            "  Tokenized 2,400 samples.\n",
            "  Tokenized 2,800 samples.\n",
            "  Tokenized 3,200 samples.\n",
            "  Tokenized 3,600 samples.\n",
            "  Tokenized 4,000 samples.\n",
            "  Tokenized 4,400 samples.\n",
            "DONE.\n",
            "     4,457 samples\n",
            "\n",
            "     4,457 samples after sorting\n",
            "\n",
            "Creating batches of size 16...\n",
            "\n",
            "  DONE - Selected 279 batches.\n",
            "\n",
            "Padding out sequences within each batch...\n",
            "  DONE.\n",
            "Training on 279 batches...\n",
            "  Batch      30 of     279. Elapsed: 0:00:03. Remaining: 0:00:24\n",
            "  Batch      60 of     279. Elapsed: 0:00:06. Remaining: 0:00:22\n",
            "  Batch      90 of     279. Elapsed: 0:00:09. Remaining: 0:00:19\n",
            "  Batch     120 of     279. Elapsed: 0:00:12. Remaining: 0:00:15\n",
            "  Batch     150 of     279. Elapsed: 0:00:15. Remaining: 0:00:13\n",
            "  Batch     180 of     279. Elapsed: 0:00:18. Remaining: 0:00:10\n",
            "  Batch     210 of     279. Elapsed: 0:00:21. Remaining: 0:00:07\n",
            "  Batch     240 of     279. Elapsed: 0:00:25. Remaining: 0:00:04\n",
            "  Batch     270 of     279. Elapsed: 0:00:28. Remaining: 0:00:01\n",
            "  Average training loss: 0.04\n",
            "  Training Accuracy: 0.99\n",
            "  Training epoch took: 0:00:29\n",
            "Creating Smart Batches from 558 examples with batch size 16...\n",
            "\n",
            "Tokenizing 558 samples...\n",
            "  Tokenized 0 samples.\n",
            "  Tokenized 60 samples.\n",
            "  Tokenized 120 samples.\n",
            "  Tokenized 180 samples.\n",
            "  Tokenized 240 samples.\n",
            "  Tokenized 300 samples.\n",
            "  Tokenized 360 samples.\n",
            "  Tokenized 420 samples.\n",
            "  Tokenized 480 samples.\n",
            "  Tokenized 540 samples.\n",
            "DONE.\n",
            "       558 samples\n",
            "\n",
            "       558 samples after sorting\n",
            "\n",
            "Creating batches of size 16...\n",
            "\n",
            "  DONE - Selected 35 batches.\n",
            "\n",
            "Padding out sequences within each batch...\n",
            "  DONE.\n",
            "Doing validation on 35 sentences...\n",
            "  Batch       4  of       35.    Elapsed: 0:00:00.  Remaining: 0:00:01\n",
            "  Batch       8  of       35.    Elapsed: 0:00:00.  Remaining: 0:00:01\n",
            "  Batch      12  of       35.    Elapsed: 0:00:00.  Remaining: 0:00:01\n",
            "  Batch      16  of       35.    Elapsed: 0:00:00.  Remaining: 0:00:01\n",
            "  Batch      20  of       35.    Elapsed: 0:00:01.  Remaining: 0:00:00\n",
            "  Batch      24  of       35.    Elapsed: 0:00:01.  Remaining: 0:00:00\n",
            "  Batch      28  of       35.    Elapsed: 0:00:01.  Remaining: 0:00:00\n",
            "  Batch      32  of       35.    Elapsed: 0:00:01.  Remaining: 0:00:00\n",
            "\n",
            "  Average validation loss: 0.06\n",
            "  Validation Accuracy: 0.99\n",
            "  Validation epoch took: 0:00:01\n",
            "\n",
            "======== Epoch 3 / 5 ========\n",
            "Creating Smart Batches from 4,457 examples with batch size 16...\n",
            "\n",
            "Tokenizing 4,457 samples...\n",
            "  Tokenized 0 samples.\n",
            "  Tokenized 400 samples.\n",
            "  Tokenized 800 samples.\n",
            "  Tokenized 1,200 samples.\n",
            "  Tokenized 1,600 samples.\n",
            "  Tokenized 2,000 samples.\n",
            "  Tokenized 2,400 samples.\n",
            "  Tokenized 2,800 samples.\n",
            "  Tokenized 3,200 samples.\n",
            "  Tokenized 3,600 samples.\n",
            "  Tokenized 4,000 samples.\n",
            "  Tokenized 4,400 samples.\n",
            "DONE.\n",
            "     4,457 samples\n",
            "\n",
            "     4,457 samples after sorting\n",
            "\n",
            "Creating batches of size 16...\n",
            "\n",
            "  DONE - Selected 279 batches.\n",
            "\n",
            "Padding out sequences within each batch...\n",
            "  DONE.\n",
            "Training on 279 batches...\n",
            "  Batch      30 of     279. Elapsed: 0:00:03. Remaining: 0:00:27\n",
            "  Batch      60 of     279. Elapsed: 0:00:06. Remaining: 0:00:23\n",
            "  Batch      90 of     279. Elapsed: 0:00:09. Remaining: 0:00:19\n",
            "  Batch     120 of     279. Elapsed: 0:00:12. Remaining: 0:00:16\n",
            "  Batch     150 of     279. Elapsed: 0:00:16. Remaining: 0:00:13\n",
            "  Batch     180 of     279. Elapsed: 0:00:19. Remaining: 0:00:10\n",
            "  Batch     210 of     279. Elapsed: 0:00:22. Remaining: 0:00:07\n",
            "  Batch     240 of     279. Elapsed: 0:00:25. Remaining: 0:00:04\n",
            "  Batch     270 of     279. Elapsed: 0:00:28. Remaining: 0:00:01\n",
            "  Average training loss: 0.02\n",
            "  Training Accuracy: 1.00\n",
            "  Training epoch took: 0:00:30\n",
            "Creating Smart Batches from 558 examples with batch size 16...\n",
            "\n",
            "Tokenizing 558 samples...\n",
            "  Tokenized 0 samples.\n",
            "  Tokenized 60 samples.\n",
            "  Tokenized 120 samples.\n",
            "  Tokenized 180 samples.\n",
            "  Tokenized 240 samples.\n",
            "  Tokenized 300 samples.\n",
            "  Tokenized 360 samples.\n",
            "  Tokenized 420 samples.\n",
            "  Tokenized 480 samples.\n",
            "  Tokenized 540 samples.\n",
            "DONE.\n",
            "       558 samples\n",
            "\n",
            "       558 samples after sorting\n",
            "\n",
            "Creating batches of size 16...\n",
            "\n",
            "  DONE - Selected 35 batches.\n",
            "\n",
            "Padding out sequences within each batch...\n",
            "  DONE.\n",
            "Doing validation on 35 sentences...\n",
            "  Batch       4  of       35.    Elapsed: 0:00:00.  Remaining: 0:00:00\n",
            "  Batch       8  of       35.    Elapsed: 0:00:00.  Remaining: 0:00:01\n",
            "  Batch      12  of       35.    Elapsed: 0:00:00.  Remaining: 0:00:01\n",
            "  Batch      16  of       35.    Elapsed: 0:00:00.  Remaining: 0:00:00\n",
            "  Batch      20  of       35.    Elapsed: 0:00:00.  Remaining: 0:00:00\n",
            "  Batch      24  of       35.    Elapsed: 0:00:01.  Remaining: 0:00:00\n",
            "  Batch      28  of       35.    Elapsed: 0:00:01.  Remaining: 0:00:00\n",
            "  Batch      32  of       35.    Elapsed: 0:00:01.  Remaining: 0:00:00\n",
            "\n",
            "  Average validation loss: 0.05\n",
            "  Validation Accuracy: 0.99\n",
            "  Validation epoch took: 0:00:01\n",
            "\n",
            "======== Epoch 4 / 5 ========\n",
            "Creating Smart Batches from 4,457 examples with batch size 16...\n",
            "\n",
            "Tokenizing 4,457 samples...\n",
            "  Tokenized 0 samples.\n",
            "  Tokenized 400 samples.\n",
            "  Tokenized 800 samples.\n",
            "  Tokenized 1,200 samples.\n",
            "  Tokenized 1,600 samples.\n",
            "  Tokenized 2,000 samples.\n",
            "  Tokenized 2,400 samples.\n",
            "  Tokenized 2,800 samples.\n",
            "  Tokenized 3,200 samples.\n",
            "  Tokenized 3,600 samples.\n",
            "  Tokenized 4,000 samples.\n",
            "  Tokenized 4,400 samples.\n",
            "DONE.\n",
            "     4,457 samples\n",
            "\n",
            "     4,457 samples after sorting\n",
            "\n",
            "Creating batches of size 16...\n",
            "\n",
            "  DONE - Selected 279 batches.\n",
            "\n",
            "Padding out sequences within each batch...\n",
            "  DONE.\n",
            "Training on 279 batches...\n",
            "  Batch      30 of     279. Elapsed: 0:00:03. Remaining: 0:00:25\n",
            "  Batch      60 of     279. Elapsed: 0:00:06. Remaining: 0:00:23\n",
            "  Batch      90 of     279. Elapsed: 0:00:09. Remaining: 0:00:20\n",
            "  Batch     120 of     279. Elapsed: 0:00:13. Remaining: 0:00:17\n",
            "  Batch     150 of     279. Elapsed: 0:00:16. Remaining: 0:00:14\n",
            "  Batch     180 of     279. Elapsed: 0:00:19. Remaining: 0:00:11\n",
            "  Batch     210 of     279. Elapsed: 0:00:22. Remaining: 0:00:07\n",
            "  Batch     240 of     279. Elapsed: 0:00:25. Remaining: 0:00:04\n",
            "  Batch     270 of     279. Elapsed: 0:00:28. Remaining: 0:00:01\n",
            "  Average training loss: 0.01\n",
            "  Training Accuracy: 1.00\n",
            "  Training epoch took: 0:00:29\n",
            "Creating Smart Batches from 558 examples with batch size 16...\n",
            "\n",
            "Tokenizing 558 samples...\n",
            "  Tokenized 0 samples.\n",
            "  Tokenized 60 samples.\n",
            "  Tokenized 120 samples.\n",
            "  Tokenized 180 samples.\n",
            "  Tokenized 240 samples.\n",
            "  Tokenized 300 samples.\n",
            "  Tokenized 360 samples.\n",
            "  Tokenized 420 samples.\n",
            "  Tokenized 480 samples.\n",
            "  Tokenized 540 samples.\n",
            "DONE.\n",
            "       558 samples\n",
            "\n",
            "       558 samples after sorting\n",
            "\n",
            "Creating batches of size 16...\n",
            "\n",
            "  DONE - Selected 35 batches.\n",
            "\n",
            "Padding out sequences within each batch...\n",
            "  DONE.\n",
            "Doing validation on 35 sentences...\n",
            "  Batch       4  of       35.    Elapsed: 0:00:00.  Remaining: 0:00:01\n",
            "  Batch       8  of       35.    Elapsed: 0:00:00.  Remaining: 0:00:01\n",
            "  Batch      12  of       35.    Elapsed: 0:00:00.  Remaining: 0:00:01\n",
            "  Batch      16  of       35.    Elapsed: 0:00:00.  Remaining: 0:00:01\n",
            "  Batch      20  of       35.    Elapsed: 0:00:01.  Remaining: 0:00:00\n",
            "  Batch      24  of       35.    Elapsed: 0:00:01.  Remaining: 0:00:00\n",
            "  Batch      28  of       35.    Elapsed: 0:00:01.  Remaining: 0:00:00\n",
            "  Batch      32  of       35.    Elapsed: 0:00:01.  Remaining: 0:00:00\n",
            "\n",
            "  Average validation loss: 0.06\n",
            "  Validation Accuracy: 0.99\n",
            "  Validation epoch took: 0:00:01\n",
            "\n",
            "======== Epoch 5 / 5 ========\n",
            "Creating Smart Batches from 4,457 examples with batch size 16...\n",
            "\n",
            "Tokenizing 4,457 samples...\n",
            "  Tokenized 0 samples.\n",
            "  Tokenized 400 samples.\n",
            "  Tokenized 800 samples.\n",
            "  Tokenized 1,200 samples.\n",
            "  Tokenized 1,600 samples.\n",
            "  Tokenized 2,000 samples.\n",
            "  Tokenized 2,400 samples.\n",
            "  Tokenized 2,800 samples.\n",
            "  Tokenized 3,200 samples.\n",
            "  Tokenized 3,600 samples.\n",
            "  Tokenized 4,000 samples.\n",
            "  Tokenized 4,400 samples.\n",
            "DONE.\n",
            "     4,457 samples\n",
            "\n",
            "     4,457 samples after sorting\n",
            "\n",
            "Creating batches of size 16...\n",
            "\n",
            "  DONE - Selected 279 batches.\n",
            "\n",
            "Padding out sequences within each batch...\n",
            "  DONE.\n",
            "Training on 279 batches...\n",
            "  Batch      30 of     279. Elapsed: 0:00:03. Remaining: 0:00:23\n",
            "  Batch      60 of     279. Elapsed: 0:00:06. Remaining: 0:00:23\n",
            "  Batch      90 of     279. Elapsed: 0:00:10. Remaining: 0:00:22\n",
            "  Batch     120 of     279. Elapsed: 0:00:13. Remaining: 0:00:18\n",
            "  Batch     150 of     279. Elapsed: 0:00:16. Remaining: 0:00:14\n",
            "  Batch     180 of     279. Elapsed: 0:00:19. Remaining: 0:00:11\n",
            "  Batch     210 of     279. Elapsed: 0:00:22. Remaining: 0:00:07\n",
            "  Batch     240 of     279. Elapsed: 0:00:25. Remaining: 0:00:04\n",
            "  Batch     270 of     279. Elapsed: 0:00:28. Remaining: 0:00:01\n",
            "  Average training loss: 0.00\n",
            "  Training Accuracy: 1.00\n",
            "  Training epoch took: 0:00:30\n",
            "Creating Smart Batches from 558 examples with batch size 16...\n",
            "\n",
            "Tokenizing 558 samples...\n",
            "  Tokenized 0 samples.\n",
            "  Tokenized 60 samples.\n",
            "  Tokenized 120 samples.\n",
            "  Tokenized 180 samples.\n",
            "  Tokenized 240 samples.\n",
            "  Tokenized 300 samples.\n",
            "  Tokenized 360 samples.\n",
            "  Tokenized 420 samples.\n",
            "  Tokenized 480 samples.\n",
            "  Tokenized 540 samples.\n",
            "DONE.\n",
            "       558 samples\n",
            "\n",
            "       558 samples after sorting\n",
            "\n",
            "Creating batches of size 16...\n",
            "\n",
            "  DONE - Selected 35 batches.\n",
            "\n",
            "Padding out sequences within each batch...\n",
            "  DONE.\n",
            "Doing validation on 35 sentences...\n",
            "  Batch       4  of       35.    Elapsed: 0:00:00.  Remaining: 0:00:01\n",
            "  Batch       8  of       35.    Elapsed: 0:00:00.  Remaining: 0:00:01\n",
            "  Batch      12  of       35.    Elapsed: 0:00:00.  Remaining: 0:00:00\n",
            "  Batch      16  of       35.    Elapsed: 0:00:00.  Remaining: 0:00:00\n",
            "  Batch      20  of       35.    Elapsed: 0:00:00.  Remaining: 0:00:00\n",
            "  Batch      24  of       35.    Elapsed: 0:00:01.  Remaining: 0:00:00\n",
            "  Batch      28  of       35.    Elapsed: 0:00:01.  Remaining: 0:00:00\n",
            "  Batch      32  of       35.    Elapsed: 0:00:01.  Remaining: 0:00:00\n",
            "\n",
            "  Average validation loss: 0.06\n",
            "  Validation Accuracy: 0.99\n",
            "  Validation epoch took: 0:00:01\n",
            "\n",
            "Training complete! Total training took 0:02:42 (h:mm:ss)\n"
          ]
        }
      ]
    },
    {
      "cell_type": "code",
      "metadata": {
        "id": "GOmua_S1eXNM",
        "colab": {
          "base_uri": "https://localhost:8080/",
          "height": 624
        },
        "outputId": "60cc78c7-f894-4752-958c-fc3220c45605"
      },
      "source": [
        "plot_training_history(training_stats)"
      ],
      "execution_count": 176,
      "outputs": [
        {
          "output_type": "display_data",
          "data": {
            "text/plain": [
              "<Figure size 1800x600 with 2 Axes>"
            ],
            "image/png": "[encoded data removed]"
          },
          "metadata": {}
        }
      ]
    },
    {
      "cell_type": "markdown",
      "metadata": {
        "id": "3c-6bOIxVyrM"
      },
      "source": [
        "## Evaluating Performance Over Training Set"
      ]
    },
    {
      "cell_type": "code",
      "metadata": {
        "colab": {
          "base_uri": "https://localhost:8080/"
        },
        "id": "2QmKPNAeWHkZ",
        "outputId": "d11a8272-2820-4c1e-acbe-f0380e411118"
      },
      "source": [
        "(py_inputs, py_attn_masks, py_labels) = make_smart_batches(train_sentences, train_labels, batch_size ,tokenizer,max_input_length)\n",
        "\n",
        "y_pred , y_true = get_predictions(py_inputs, py_attn_masks, py_labels)\n"
      ],
      "execution_count": 177,
      "outputs": [
        {
          "output_type": "stream",
          "name": "stdout",
          "text": [
            "Creating Smart Batches from 4,457 examples with batch size 16...\n",
            "\n",
            "Tokenizing 4,457 samples...\n",
            "  Tokenized 0 samples.\n",
            "  Tokenized 400 samples.\n",
            "  Tokenized 800 samples.\n",
            "  Tokenized 1,200 samples.\n",
            "  Tokenized 1,600 samples.\n",
            "  Tokenized 2,000 samples.\n",
            "  Tokenized 2,400 samples.\n",
            "  Tokenized 2,800 samples.\n",
            "  Tokenized 3,200 samples.\n",
            "  Tokenized 3,600 samples.\n",
            "  Tokenized 4,000 samples.\n",
            "  Tokenized 4,400 samples.\n",
            "DONE.\n",
            "     4,457 samples\n",
            "\n",
            "     4,457 samples after sorting\n",
            "\n",
            "Creating batches of size 16...\n",
            "\n",
            "  DONE - Selected 279 batches.\n",
            "\n",
            "Padding out sequences within each batch...\n",
            "  DONE.\n",
            "Predicting labels for 279 test batches...\n",
            "  Batch      30  of      279.    Elapsed: 0:00:01.  Remaining: 0:00:05\n",
            "  Batch      60  of      279.    Elapsed: 0:00:01.  Remaining: 0:00:04\n",
            "  Batch      90  of      279.    Elapsed: 0:00:02.  Remaining: 0:00:04\n",
            "  Batch     120  of      279.    Elapsed: 0:00:03.  Remaining: 0:00:04\n",
            "  Batch     150  of      279.    Elapsed: 0:00:04.  Remaining: 0:00:03\n",
            "  Batch     180  of      279.    Elapsed: 0:00:04.  Remaining: 0:00:02\n",
            "  Batch     210  of      279.    Elapsed: 0:00:05.  Remaining: 0:00:02\n",
            "  Batch     240  of      279.    Elapsed: 0:00:06.  Remaining: 0:00:01\n",
            "  Batch     270  of      279.    Elapsed: 0:00:07.  Remaining: 0:00:00\n"
          ]
        }
      ]
    },
    {
      "cell_type": "code",
      "metadata": {
        "colab": {
          "base_uri": "https://localhost:8080/"
        },
        "id": "uXsVn0wngZhv",
        "outputId": "e41804ba-6078-4d16-9d52-262eab4c0749"
      },
      "source": [
        "print(classification_report(y_true, y_pred, target_names=class_names))"
      ],
      "execution_count": 178,
      "outputs": [
        {
          "output_type": "stream",
          "name": "stdout",
          "text": [
            "              precision    recall  f1-score   support\n",
            "\n",
            "         ham       1.00      1.00      1.00      3860\n",
            "        spam       1.00      1.00      1.00       597\n",
            "\n",
            "    accuracy                           1.00      4457\n",
            "   macro avg       1.00      1.00      1.00      4457\n",
            "weighted avg       1.00      1.00      1.00      4457\n",
            "\n"
          ]
        }
      ]
    },
    {
      "cell_type": "code",
      "metadata": {
        "colab": {
          "base_uri": "https://localhost:8080/",
          "height": 602
        },
        "id": "guClUdRhYPql",
        "outputId": "d00f65db-edce-497c-aad6-bb6bca4375ff"
      },
      "source": [
        "cm = confusion_matrix(y_true, y_pred)\n",
        "show_confusion_matrix(cm, class_names)"
      ],
      "execution_count": 179,
      "outputs": [
        {
          "output_type": "display_data",
          "data": {
            "text/plain": [
              "<Figure size 1200x600 with 2 Axes>"
            ],
            "image/png": "[encoded data removed]"
          },
          "metadata": {}
        }
      ]
    },
    {
      "cell_type": "markdown",
      "metadata": {
        "id": "VM2N-X1tV3il"
      },
      "source": [
        "## Evaluating Performance Over Validation Set"
      ]
    },
    {
      "cell_type": "code",
      "metadata": {
        "colab": {
          "base_uri": "https://localhost:8080/"
        },
        "id": "BnadNvtxWIYw",
        "outputId": "8aff11df-1139-4355-d16d-529f4408df03"
      },
      "source": [
        "(py_inputs, py_attn_masks, py_labels) = make_smart_batches(val_sentences, val_labels, batch_size ,tokenizer,max_input_length)\n",
        "\n",
        "y_pred , y_true = get_predictions(py_inputs, py_attn_masks, py_labels)"
      ],
      "execution_count": 180,
      "outputs": [
        {
          "output_type": "stream",
          "name": "stdout",
          "text": [
            "Creating Smart Batches from 558 examples with batch size 16...\n",
            "\n",
            "Tokenizing 558 samples...\n",
            "  Tokenized 0 samples.\n",
            "  Tokenized 60 samples.\n",
            "  Tokenized 120 samples.\n",
            "  Tokenized 180 samples.\n",
            "  Tokenized 240 samples.\n",
            "  Tokenized 300 samples.\n",
            "  Tokenized 360 samples.\n",
            "  Tokenized 420 samples.\n",
            "  Tokenized 480 samples.\n",
            "  Tokenized 540 samples.\n",
            "DONE.\n",
            "       558 samples\n",
            "\n",
            "       558 samples after sorting\n",
            "\n",
            "Creating batches of size 16...\n",
            "\n",
            "  DONE - Selected 35 batches.\n",
            "\n",
            "Padding out sequences within each batch...\n",
            "  DONE.\n",
            "Predicting labels for 35 test batches...\n",
            "  Batch       4  of       35.    Elapsed: 0:00:00.  Remaining: 0:00:01\n",
            "  Batch       8  of       35.    Elapsed: 0:00:00.  Remaining: 0:00:01\n",
            "  Batch      12  of       35.    Elapsed: 0:00:00.  Remaining: 0:00:01\n",
            "  Batch      16  of       35.    Elapsed: 0:00:00.  Remaining: 0:00:00\n",
            "  Batch      20  of       35.    Elapsed: 0:00:00.  Remaining: 0:00:00\n",
            "  Batch      24  of       35.    Elapsed: 0:00:01.  Remaining: 0:00:00\n",
            "  Batch      28  of       35.    Elapsed: 0:00:01.  Remaining: 0:00:00\n",
            "  Batch      32  of       35.    Elapsed: 0:00:01.  Remaining: 0:00:00\n"
          ]
        }
      ]
    },
    {
      "cell_type": "code",
      "metadata": {
        "colab": {
          "base_uri": "https://localhost:8080/"
        },
        "id": "wAjlATBPgh7c",
        "outputId": "021cae74-34a8-4fd4-d28b-e4835cc62640"
      },
      "source": [
        "print(classification_report(y_true, y_pred, target_names=class_names))"
      ],
      "execution_count": 181,
      "outputs": [
        {
          "output_type": "stream",
          "name": "stdout",
          "text": [
            "              precision    recall  f1-score   support\n",
            "\n",
            "         ham       0.99      1.00      0.99       492\n",
            "        spam       0.97      0.94      0.95        66\n",
            "\n",
            "    accuracy                           0.99       558\n",
            "   macro avg       0.98      0.97      0.97       558\n",
            "weighted avg       0.99      0.99      0.99       558\n",
            "\n"
          ]
        }
      ]
    },
    {
      "cell_type": "code",
      "metadata": {
        "colab": {
          "base_uri": "https://localhost:8080/",
          "height": 593
        },
        "id": "7nELY57NYshD",
        "outputId": "2f5eaa3a-a2f7-4d20-9436-b9976fc889dd"
      },
      "source": [
        "cm = confusion_matrix(y_true, y_pred)\n",
        "show_confusion_matrix(cm, class_names)"
      ],
      "execution_count": 182,
      "outputs": [
        {
          "output_type": "display_data",
          "data": {
            "text/plain": [
              "<Figure size 1200x600 with 2 Axes>"
            ],
            "image/png": "[encoded data removed]"
          },
          "metadata": {}
        }
      ]
    },
    {
      "cell_type": "markdown",
      "metadata": {
        "id": "tF9cMcFsQcsN"
      },
      "source": [
        "## Making Predictions on Test Set"
      ]
    },
    {
      "cell_type": "code",
      "metadata": {
        "colab": {
          "base_uri": "https://localhost:8080/",
          "height": 424
        },
        "id": "55swDrKUQcsP",
        "outputId": "ea0c11cf-1e55-4afb-f8e6-62a6ba145f71"
      },
      "source": [
        "test_df"
      ],
      "execution_count": 183,
      "outputs": [
        {
          "output_type": "execute_result",
          "data": {
            "text/plain": [
              "       PID                                              text  labels\n",
              "4295  4296  Please CALL 08712402578 immediately as there i...   spam\n",
              "1209  1210                        His bday real is in april .    ham\n",
              "453    454  Ok i will tell her to stay out. Yeah its been ...    ham\n",
              "807    808                  Boooo you always work. Just quit.    ham\n",
              "239    240  U 447801259231 have a secret admirer who is lo...   spam\n",
              "...    ...                                                ...    ...\n",
              "151    152  Yup i thk cine is better cos no need 2 go down...    ham\n",
              "5156  5157  Sir, I need Velusamy sir's date of birth and c...    ham\n",
              "582    583  We tried to contact you re your reply to our o...   spam\n",
              "5371  5372             Lol, oh you got a friend for the dog ?    ham\n",
              "1543  1544  Hello from Orange. For 1 month's free access t...   spam\n",
              "\n",
              "[557 rows x 3 columns]"
            ],
            "text/html": [
              "\n",
              "  <div id=\"df-007ee171-d878-44ff-bbc5-f81c80ca4d25\" class=\"colab-df-container\">\n",
              "    <div>\n",
              "<style scoped>\n",
              "    .dataframe tbody tr th:only-of-type {\n",
              "        vertical-align: middle;\n",
              "    }\n",
              "\n",
              "    .dataframe tbody tr th {\n",
              "        vertical-align: top;\n",
              "    }\n",
              "\n",
              "    .dataframe thead th {\n",
              "        text-align: right;\n",
              "    }\n",
              "</style>\n",
              "<table border=\"1\" class=\"dataframe\">\n",
              "  <thead>\n",
              "    <tr style=\"text-align: right;\">\n",
              "      <th></th>\n",
              "      <th>PID</th>\n",
              "      <th>text</th>\n",
              "      <th>labels</th>\n",
              "    </tr>\n",
              "  </thead>\n",
              "  <tbody>\n",
              "    <tr>\n",
              "      <th>4295</th>\n",
              "      <td>4296</td>\n",
              "      <td>Please CALL 08712402578 immediately as there i...</td>\n",
              "      <td>spam</td>\n",
              "    </tr>\n",
              "    <tr>\n",
              "      <th>1209</th>\n",
              "      <td>1210</td>\n",
              "      <td>His bday real is in april .</td>\n",
              "      <td>ham</td>\n",
              "    </tr>\n",
              "    <tr>\n",
              "      <th>453</th>\n",
              "      <td>454</td>\n",
              "      <td>Ok i will tell her to stay out. Yeah its been ...</td>\n",
              "      <td>ham</td>\n",
              "    </tr>\n",
              "    <tr>\n",
              "      <th>807</th>\n",
              "      <td>808</td>\n",
              "      <td>Boooo you always work. Just quit.</td>\n",
              "      <td>ham</td>\n",
              "    </tr>\n",
              "    <tr>\n",
              "      <th>239</th>\n",
              "      <td>240</td>\n",
              "      <td>U 447801259231 have a secret admirer who is lo...</td>\n",
              "      <td>spam</td>\n",
              "    </tr>\n",
              "    <tr>\n",
              "      <th>...</th>\n",
              "      <td>...</td>\n",
              "      <td>...</td>\n",
              "      <td>...</td>\n",
              "    </tr>\n",
              "    <tr>\n",
              "      <th>151</th>\n",
              "      <td>152</td>\n",
              "      <td>Yup i thk cine is better cos no need 2 go down...</td>\n",
              "      <td>ham</td>\n",
              "    </tr>\n",
              "    <tr>\n",
              "      <th>5156</th>\n",
              "      <td>5157</td>\n",
              "      <td>Sir, I need Velusamy sir's date of birth and c...</td>\n",
              "      <td>ham</td>\n",
              "    </tr>\n",
              "    <tr>\n",
              "      <th>582</th>\n",
              "      <td>583</td>\n",
              "      <td>We tried to contact you re your reply to our o...</td>\n",
              "      <td>spam</td>\n",
              "    </tr>\n",
              "    <tr>\n",
              "      <th>5371</th>\n",
              "      <td>5372</td>\n",
              "      <td>Lol, oh you got a friend for the dog ?</td>\n",
              "      <td>ham</td>\n",
              "    </tr>\n",
              "    <tr>\n",
              "      <th>1543</th>\n",
              "      <td>1544</td>\n",
              "      <td>Hello from Orange. For 1 month's free access t...</td>\n",
              "      <td>spam</td>\n",
              "    </tr>\n",
              "  </tbody>\n",
              "</table>\n",
              "<p>557 rows × 3 columns</p>\n",
              "</div>\n",
              "    <div class=\"colab-df-buttons\">\n",
              "\n",
              "  <div class=\"colab-df-container\">\n",
              "    <button class=\"colab-df-convert\" onclick=\"convertToInteractive('df-007ee171-d878-44ff-bbc5-f81c80ca4d25')\"\n",
              "            title=\"Convert this dataframe to an interactive table.\"\n",
              "            style=\"display:none;\">\n",
              "\n",
              "  <svg xmlns=\"http://www.w3.org/2000/svg\" height=\"24px\" viewBox=\"0 -960 960 960\">\n",
              "    <path d=\"M120-120v-720h720v720H120Zm60-500h600v-160H180v160Zm220 220h160v-160H400v160Zm0 220h160v-160H400v160ZM180-400h160v-160H180v160Zm440 0h160v-160H620v160ZM180-180h160v-160H180v160Zm440 0h160v-160H620v160Z\"/>\n",
              "  </svg>\n",
              "    </button>\n",
              "\n",
              "  <style>\n",
              "    .colab-df-container {\n",
              "      display:flex;\n",
              "      gap: 12px;\n",
              "    }\n",
              "\n",
              "    .colab-df-convert {\n",
              "      background-color: #E8F0FE;\n",
              "      border: none;\n",
              "      border-radius: 50%;\n",
              "      cursor: pointer;\n",
              "      display: none;\n",
              "      fill: #1967D2;\n",
              "      height: 32px;\n",
              "      padding: 0 0 0 0;\n",
              "      width: 32px;\n",
              "    }\n",
              "\n",
              "    .colab-df-convert:hover {\n",
              "      background-color: #E2EBFA;\n",
              "      box-shadow: 0px 1px 2px rgba(60, 64, 67, 0.3), 0px 1px 3px 1px rgba(60, 64, 67, 0.15);\n",
              "      fill: #174EA6;\n",
              "    }\n",
              "\n",
              "    .colab-df-buttons div {\n",
              "      margin-bottom: 4px;\n",
              "    }\n",
              "\n",
              "    [theme=dark] .colab-df-convert {\n",
              "      background-color: #3B4455;\n",
              "      fill: #D2E3FC;\n",
              "    }\n",
              "\n",
              "    [theme=dark] .colab-df-convert:hover {\n",
              "      background-color: #434B5C;\n",
              "      box-shadow: 0px 1px 3px 1px rgba(0, 0, 0, 0.15);\n",
              "      filter: drop-shadow(0px 1px 2px rgba(0, 0, 0, 0.3));\n",
              "      fill: #FFFFFF;\n",
              "    }\n",
              "  </style>\n",
              "\n",
              "    <script>\n",
              "      const buttonEl =\n",
              "        document.querySelector('#df-007ee171-d878-44ff-bbc5-f81c80ca4d25 button.colab-df-convert');\n",
              "      buttonEl.style.display =\n",
              "        google.colab.kernel.accessAllowed ? 'block' : 'none';\n",
              "\n",
              "      async function convertToInteractive(key) {\n",
              "        const element = document.querySelector('#df-007ee171-d878-44ff-bbc5-f81c80ca4d25');\n",
              "        const dataTable =\n",
              "          await google.colab.kernel.invokeFunction('convertToInteractive',\n",
              "                                                    [key], {});\n",
              "        if (!dataTable) return;\n",
              "\n",
              "        const docLinkHtml = 'Like what you see? Visit the ' +\n",
              "          '<a target=\"_blank\" href=https://colab.research.google.com/notebooks/data_table.ipynb>data table notebook</a>'\n",
              "          + ' to learn more about interactive tables.';\n",
              "        element.innerHTML = '';\n",
              "        dataTable['output_type'] = 'display_data';\n",
              "        await google.colab.output.renderOutput(dataTable, element);\n",
              "        const docLink = document.createElement('div');\n",
              "        docLink.innerHTML = docLinkHtml;\n",
              "        element.appendChild(docLink);\n",
              "      }\n",
              "    </script>\n",
              "  </div>\n",
              "\n",
              "\n",
              "<div id=\"df-9c97a8dc-b0fe-4162-9823-3bbce9132edf\">\n",
              "  <button class=\"colab-df-quickchart\" onclick=\"quickchart('df-9c97a8dc-b0fe-4162-9823-3bbce9132edf')\"\n",
              "            title=\"Suggest charts\"\n",
              "            style=\"display:none;\">\n",
              "\n",
              "<svg xmlns=\"http://www.w3.org/2000/svg\" height=\"24px\"viewBox=\"0 0 24 24\"\n",
              "     width=\"24px\">\n",
              "    <g>\n",
              "        <path d=\"M19 3H5c-1.1 0-2 .9-2 2v14c0 1.1.9 2 2 2h14c1.1 0 2-.9 2-2V5c0-1.1-.9-2-2-2zM9 17H7v-7h2v7zm4 0h-2V7h2v10zm4 0h-2v-4h2v4z\"/>\n",
              "    </g>\n",
              "</svg>\n",
              "  </button>\n",
              "\n",
              "<style>\n",
              "  .colab-df-quickchart {\n",
              "      --bg-color: #E8F0FE;\n",
              "      --fill-color: #1967D2;\n",
              "      --hover-bg-color: #E2EBFA;\n",
              "      --hover-fill-color: #174EA6;\n",
              "      --disabled-fill-color: #AAA;\n",
              "      --disabled-bg-color: #DDD;\n",
              "  }\n",
              "\n",
              "  [theme=dark] .colab-df-quickchart {\n",
              "      --bg-color: #3B4455;\n",
              "      --fill-color: #D2E3FC;\n",
              "      --hover-bg-color: #434B5C;\n",
              "      --hover-fill-color: #FFFFFF;\n",
              "      --disabled-bg-color: #3B4455;\n",
              "      --disabled-fill-color: #666;\n",
              "  }\n",
              "\n",
              "  .colab-df-quickchart {\n",
              "    background-color: var(--bg-color);\n",
              "    border: none;\n",
              "    border-radius: 50%;\n",
              "    cursor: pointer;\n",
              "    display: none;\n",
              "    fill: var(--fill-color);\n",
              "    height: 32px;\n",
              "    padding: 0;\n",
              "    width: 32px;\n",
              "  }\n",
              "\n",
              "  .colab-df-quickchart:hover {\n",
              "    background-color: var(--hover-bg-color);\n",
              "    box-shadow: 0 1px 2px rgba(60, 64, 67, 0.3), 0 1px 3px 1px rgba(60, 64, 67, 0.15);\n",
              "    fill: var(--button-hover-fill-color);\n",
              "  }\n",
              "\n",
              "  .colab-df-quickchart-complete:disabled,\n",
              "  .colab-df-quickchart-complete:disabled:hover {\n",
              "    background-color: var(--disabled-bg-color);\n",
              "    fill: var(--disabled-fill-color);\n",
              "    box-shadow: none;\n",
              "  }\n",
              "\n",
              "  .colab-df-spinner {\n",
              "    border: 2px solid var(--fill-color);\n",
              "    border-color: transparent;\n",
              "    border-bottom-color: var(--fill-color);\n",
              "    animation:\n",
              "      spin 1s steps(1) infinite;\n",
              "  }\n",
              "\n",
              "  @keyframes spin {\n",
              "    0% {\n",
              "      border-color: transparent;\n",
              "      border-bottom-color: var(--fill-color);\n",
              "      border-left-color: var(--fill-color);\n",
              "    }\n",
              "    20% {\n",
              "      border-color: transparent;\n",
              "      border-left-color: var(--fill-color);\n",
              "      border-top-color: var(--fill-color);\n",
              "    }\n",
              "    30% {\n",
              "      border-color: transparent;\n",
              "      border-left-color: var(--fill-color);\n",
              "      border-top-color: var(--fill-color);\n",
              "      border-right-color: var(--fill-color);\n",
              "    }\n",
              "    40% {\n",
              "      border-color: transparent;\n",
              "      border-right-color: var(--fill-color);\n",
              "      border-top-color: var(--fill-color);\n",
              "    }\n",
              "    60% {\n",
              "      border-color: transparent;\n",
              "      border-right-color: var(--fill-color);\n",
              "    }\n",
              "    80% {\n",
              "      border-color: transparent;\n",
              "      border-right-color: var(--fill-color);\n",
              "      border-bottom-color: var(--fill-color);\n",
              "    }\n",
              "    90% {\n",
              "      border-color: transparent;\n",
              "      border-bottom-color: var(--fill-color);\n",
              "    }\n",
              "  }\n",
              "</style>\n",
              "\n",
              "  <script>\n",
              "    async function quickchart(key) {\n",
              "      const quickchartButtonEl =\n",
              "        document.querySelector('#' + key + ' button');\n",
              "      quickchartButtonEl.disabled = true;  // To prevent multiple clicks.\n",
              "      quickchartButtonEl.classList.add('colab-df-spinner');\n",
              "      try {\n",
              "        const charts = await google.colab.kernel.invokeFunction(\n",
              "            'suggestCharts', [key], {});\n",
              "      } catch (error) {\n",
              "        console.error('Error during call to suggestCharts:', error);\n",
              "      }\n",
              "      quickchartButtonEl.classList.remove('colab-df-spinner');\n",
              "      quickchartButtonEl.classList.add('colab-df-quickchart-complete');\n",
              "    }\n",
              "    (() => {\n",
              "      let quickchartButtonEl =\n",
              "        document.querySelector('#df-9c97a8dc-b0fe-4162-9823-3bbce9132edf button');\n",
              "      quickchartButtonEl.style.display =\n",
              "        google.colab.kernel.accessAllowed ? 'block' : 'none';\n",
              "    })();\n",
              "  </script>\n",
              "</div>\n",
              "\n",
              "  <div id=\"id_7a41b314-883b-4655-ab1f-776cfb496e00\">\n",
              "    <style>\n",
              "      .colab-df-generate {\n",
              "        background-color: #E8F0FE;\n",
              "        border: none;\n",
              "        border-radius: 50%;\n",
              "        cursor: pointer;\n",
              "        display: none;\n",
              "        fill: #1967D2;\n",
              "        height: 32px;\n",
              "        padding: 0 0 0 0;\n",
              "        width: 32px;\n",
              "      }\n",
              "\n",
              "      .colab-df-generate:hover {\n",
              "        background-color: #E2EBFA;\n",
              "        box-shadow: 0px 1px 2px rgba(60, 64, 67, 0.3), 0px 1px 3px 1px rgba(60, 64, 67, 0.15);\n",
              "        fill: #174EA6;\n",
              "      }\n",
              "\n",
              "      [theme=dark] .colab-df-generate {\n",
              "        background-color: #3B4455;\n",
              "        fill: #D2E3FC;\n",
              "      }\n",
              "\n",
              "      [theme=dark] .colab-df-generate:hover {\n",
              "        background-color: #434B5C;\n",
              "        box-shadow: 0px 1px 3px 1px rgba(0, 0, 0, 0.15);\n",
              "        filter: drop-shadow(0px 1px 2px rgba(0, 0, 0, 0.3));\n",
              "        fill: #FFFFFF;\n",
              "      }\n",
              "    </style>\n",
              "    <button class=\"colab-df-generate\" onclick=\"generateWithVariable('test_df')\"\n",
              "            title=\"Generate code using this dataframe.\"\n",
              "            style=\"display:none;\">\n",
              "\n",
              "  <svg xmlns=\"http://www.w3.org/2000/svg\" height=\"24px\"viewBox=\"0 0 24 24\"\n",
              "       width=\"24px\">\n",
              "    <path d=\"M7,19H8.4L18.45,9,17,7.55,7,17.6ZM5,21V16.75L18.45,3.32a2,2,0,0,1,2.83,0l1.4,1.43a1.91,1.91,0,0,1,.58,1.4,1.91,1.91,0,0,1-.58,1.4L9.25,21ZM18.45,9,17,7.55Zm-12,3A5.31,5.31,0,0,0,4.9,8.1,5.31,5.31,0,0,0,1,6.5,5.31,5.31,0,0,0,4.9,4.9,5.31,5.31,0,0,0,6.5,1,5.31,5.31,0,0,0,8.1,4.9,5.31,5.31,0,0,0,12,6.5,5.46,5.46,0,0,0,6.5,12Z\"/>\n",
              "  </svg>\n",
              "    </button>\n",
              "    <script>\n",
              "      (() => {\n",
              "      const buttonEl =\n",
              "        document.querySelector('#id_7a41b314-883b-4655-ab1f-776cfb496e00 button.colab-df-generate');\n",
              "      buttonEl.style.display =\n",
              "        google.colab.kernel.accessAllowed ? 'block' : 'none';\n",
              "\n",
              "      buttonEl.onclick = () => {\n",
              "        google.colab.notebook.generateWithVariable('test_df');\n",
              "      }\n",
              "      })();\n",
              "    </script>\n",
              "  </div>\n",
              "\n",
              "    </div>\n",
              "  </div>\n"
            ],
            "application/vnd.google.colaboratory.intrinsic+json": {
              "type": "dataframe",
              "variable_name": "test_df",
              "summary": "{\n  \"name\": \"test_df\",\n  \"rows\": 557,\n  \"fields\": [\n    {\n      \"column\": \"PID\",\n      \"properties\": {\n        \"dtype\": \"number\",\n        \"std\": 1612,\n        \"min\": 9,\n        \"max\": 5557,\n        \"num_unique_values\": 557,\n        \"samples\": [\n          1021,\n          3218,\n          5557\n        ],\n        \"semantic_type\": \"\",\n        \"description\": \"\"\n      }\n    },\n    {\n      \"column\": \"text \",\n      \"properties\": {\n        \"dtype\": \"string\",\n        \"num_unique_values\": 545,\n        \"samples\": [\n          \"You will be in the place of that man\",\n          \"I will spoil you in bed as well :)\",\n          \"Long after I quit. I get on only like 5 minutes a day as it is.\"\n        ],\n        \"semantic_type\": \"\",\n        \"description\": \"\"\n      }\n    },\n    {\n      \"column\": \"labels\",\n      \"properties\": {\n        \"dtype\": \"category\",\n        \"num_unique_values\": 2,\n        \"samples\": [\n          \"ham\",\n          \"spam\"\n        ],\n        \"semantic_type\": \"\",\n        \"description\": \"\"\n      }\n    }\n  ]\n}"
            }
          },
          "metadata": {},
          "execution_count": 183
        }
      ]
    },
    {
      "cell_type": "markdown",
      "metadata": {
        "id": "7jLPpljYQcsQ"
      },
      "source": [
        "## Loading `test_sentences`"
      ]
    },
    {
      "cell_type": "code",
      "metadata": {
        "id": "QEVoAhgIQcsR"
      },
      "source": [
        "test_sentences = test_df['text '].values\n",
        "test_labels = test_df['labels'].values\n",
        "test_ids = test_df.index.values"
      ],
      "execution_count": 186,
      "outputs": []
    },
    {
      "cell_type": "code",
      "source": [
        "test_ids"
      ],
      "metadata": {
        "colab": {
          "base_uri": "https://localhost:8080/"
        },
        "id": "RKCAEAI2NPpC",
        "outputId": "786b499c-e673-4e98-f820-5b316f15c77c"
      },
      "execution_count": 187,
      "outputs": [
        {
          "output_type": "execute_result",
          "data": {
            "text/plain": [
              "array([4295, 1209,  453,  807,  239, 3725, 1412, 4841, 2865,  367, 3562,\n",
              "       2995,  501, 2287, 4961, 4733,  751, 1175, 1873, 3887,  889, 1075,\n",
              "       1420, 1752, 1813, 1615, 1163, 3958, 4410, 4651, 1894, 3311, 3195,\n",
              "       3864, 4608, 2118,  334, 2972, 5198, 4269, 2348, 1732, 2570, 1397,\n",
              "       1992,  465, 1611,   69, 3997,   15, 2252, 4574, 4378,  763, 1888,\n",
              "       5556, 3002, 4355, 3153,  764, 2059, 1859, 1330, 3463, 4709, 3434,\n",
              "       5125,   84, 4483, 1684, 2422, 1580, 2826,  803, 1073,  677, 4588,\n",
              "        371,   37, 3135, 3820, 3425, 2598, 4428, 3050, 1025, 1158,  339,\n",
              "       1057, 2384,    8, 1892, 4806, 3678,  168, 5155, 4602, 5350, 3529,\n",
              "        106, 1335,  414, 3094, 2732, 2571, 2723, 1755, 5124,  553, 1467,\n",
              "       5167,  693, 1881, 1197, 1702,  228,  233,  438, 3859, 3360, 1937,\n",
              "       4539, 3903, 1215, 4853, 4071, 3785, 1438, 4080, 2819, 5089, 1779,\n",
              "       3753,  996, 3497, 1747, 3340,  877, 1934, 2463, 2086, 1632, 5209,\n",
              "       2742, 2944, 5261, 4431, 4294, 1703, 5063,  696, 4047, 2276, 1297,\n",
              "       4993, 4816, 3337, 3410, 1020, 1593,  387, 2727, 1255,  203, 3443,\n",
              "       3599, 3112, 2714, 1599,  263, 5423, 3164, 2726, 1448,   17, 2364,\n",
              "       1188, 5479, 3758, 1046, 2124, 1509, 2952, 2932,  534, 1557, 2135,\n",
              "        898,  530,  319, 4903, 4734,  272, 2487, 4956,  978,   61, 1101,\n",
              "       3733, 4211, 3752, 3946, 1231, 4479, 3662, 4050, 2328, 3543, 1344,\n",
              "       1665, 5339, 4022, 5400, 3592,   63, 2121, 1471, 5127, 2187,   12,\n",
              "       3979,   79, 4796,  322, 1038, 2641,  712, 5263, 4546, 1468, 5239,\n",
              "        428, 2550, 5182, 3641, 5275,  683, 2458, 2846, 1924, 3616, 1097,\n",
              "       2080, 2191, 1090, 5293,  179, 2402, 5450,  718, 3559,  734, 4205,\n",
              "       3295, 5410, 5453, 2201, 1817, 3455,  731, 3547, 3384, 3994,  252,\n",
              "        903, 5054, 2131, 3548,  351, 1533, 4274, 1193, 4999, 3211, 4916,\n",
              "       4516, 5120,  230,  479, 5541, 1786,  765, 5406,  925, 1844, 1323,\n",
              "       3361, 2615, 4609, 2273, 3199,  748, 2480, 1224, 4713, 4905, 1244,\n",
              "       4904, 4886, 3755, 4108, 1630, 2642, 5255, 5022, 4808, 1115, 1694,\n",
              "       1393,   43, 3712, 1084, 1666, 2052, 2366, 3535, 3494,  527,  336,\n",
              "       4160, 4182,  657,  838, 4147, 4909,  279, 3197, 3819,  199, 2462,\n",
              "       2927, 5493,  626, 4336, 1410, 4435, 3200,  952,  842,  181, 3407,\n",
              "       5178, 3402, 1564, 4845, 2835,  109, 3317, 4629, 4427, 2803,  944,\n",
              "        654, 4092, 3669, 4321,  177,  798, 2471, 1699,  642, 2760, 3552,\n",
              "       4951, 4161, 4665,  915, 2780,  787, 2488,  447, 4900, 3779, 4333,\n",
              "       1183, 4532, 5457, 5415, 1498, 5470, 2306, 2789, 3520, 3816, 3400,\n",
              "       1822, 4524, 5031, 4347, 2749, 2167, 2905,  107, 5270, 1049, 3858,\n",
              "       3227, 3405, 1361,  425, 3106, 2138, 1407,  586, 2877, 4046, 4585,\n",
              "       5240, 2669, 4288, 3632,  416, 2836, 2767,  478, 2770, 4085, 1879,\n",
              "       3411, 2087, 2067,  926,  393, 3256, 2357, 5474, 5344, 1425, 1962,\n",
              "        829, 1669, 1654, 1253, 2095, 5164, 1650, 1436, 1606, 3580,  681,\n",
              "       2589, 3586,  561,  219, 3366, 2721, 4578,   47, 1268, 2519, 3217,\n",
              "       3660,  812, 3827, 3450, 1126, 2561, 2417, 4684, 2486,  705, 1350,\n",
              "       2755, 2941, 2213, 3479,  183, 3722, 1720,   26, 1421, 4352,  809,\n",
              "        881, 2456,   80,   29, 2858, 5207, 4228, 3576, 4077, 3207, 2903,\n",
              "        401,  491, 3945, 4402, 3033,  373, 3262, 2263, 3247, 4457,  865,\n",
              "       4470,  599, 5141, 2341, 2100, 2347, 2317, 3706, 4368, 3185, 5181,\n",
              "       4081,  733,  426, 4315, 1319, 1877, 1483, 1281, 2029,  800, 5465,\n",
              "       1261, 4805, 5332, 3822, 3181, 4527, 4003, 1945, 1242,  259, 3454,\n",
              "       3904,   88, 1526, 1173, 4407, 4615, 1957,  291, 3793, 2585, 1432,\n",
              "       1837, 3142, 5307, 2746, 5177, 2329, 1485, 3873, 2351, 3872, 3163,\n",
              "       3467, 2110,  151, 5156,  582, 5371, 1543])"
            ]
          },
          "metadata": {},
          "execution_count": 187
        }
      ]
    },
    {
      "cell_type": "code",
      "source": [
        "(py_inputs, py_attn_masks,py_ids) = make_smart_batches_on_test(test_sentences,test_ids, 16,tokenizer,max_input_length)"
      ],
      "metadata": {
        "colab": {
          "base_uri": "https://localhost:8080/"
        },
        "id": "Le9QoujnNP4x",
        "outputId": "a29eb813-c11f-4c06-ba08-b2a83a14f47c"
      },
      "execution_count": 188,
      "outputs": [
        {
          "output_type": "stream",
          "name": "stdout",
          "text": [
            "Creating Smart Batches from 557 examples with batch size 16...\n",
            "\n",
            "Tokenizing 557 samples...\n",
            "  Tokenized 0 samples.\n",
            "  Tokenized 60 samples.\n",
            "  Tokenized 120 samples.\n",
            "  Tokenized 180 samples.\n",
            "  Tokenized 240 samples.\n",
            "  Tokenized 300 samples.\n",
            "  Tokenized 360 samples.\n",
            "  Tokenized 420 samples.\n",
            "  Tokenized 480 samples.\n",
            "  Tokenized 540 samples.\n",
            "DONE.\n",
            "       557 samples\n",
            "\n",
            "       557 samples after sorting\n",
            "\n",
            "Creating batches of size 16...\n",
            "\n",
            "  DONE - Selected 35 batches.\n",
            "\n",
            "Padding out sequences within each batch...\n",
            "  DONE.\n"
          ]
        }
      ]
    },
    {
      "cell_type": "code",
      "metadata": {
        "colab": {
          "base_uri": "https://localhost:8080/"
        },
        "id": "slovGuCRThW1",
        "outputId": "3510608b-95f5-4084-e649-03d86954015e"
      },
      "source": [
        "y_ids,y_preds  = get_predictions_test(py_inputs, py_attn_masks,py_ids)\n"
      ],
      "execution_count": 189,
      "outputs": [
        {
          "output_type": "stream",
          "name": "stdout",
          "text": [
            "Predicting labels for 35 test batches...\n",
            "  Batch       4  of       35.    Elapsed: 0:00:00.  Remaining: 0:00:01\n",
            "  Batch       8  of       35.    Elapsed: 0:00:00.  Remaining: 0:00:01\n",
            "  Batch      12  of       35.    Elapsed: 0:00:00.  Remaining: 0:00:01\n",
            "  Batch      16  of       35.    Elapsed: 0:00:00.  Remaining: 0:00:01\n",
            "  Batch      20  of       35.    Elapsed: 0:00:01.  Remaining: 0:00:00\n",
            "  Batch      24  of       35.    Elapsed: 0:00:01.  Remaining: 0:00:00\n",
            "  Batch      28  of       35.    Elapsed: 0:00:01.  Remaining: 0:00:00\n",
            "  Batch      32  of       35.    Elapsed: 0:00:01.  Remaining: 0:00:00\n"
          ]
        }
      ]
    },
    {
      "cell_type": "code",
      "metadata": {
        "colab": {
          "base_uri": "https://localhost:8080/"
        },
        "id": "gL7aCG2HTjv6",
        "outputId": "50d81b2e-7767-4569-e90f-2f7c4c623012"
      },
      "source": [
        "test_sentences"
      ],
      "execution_count": 190,
      "outputs": [
        {
          "output_type": "execute_result",
          "data": {
            "text/plain": [
              "array(['Please CALL 08712402578 immediately as there is an urgent message waiting for you',\n",
              "       'His bday real is in april .',\n",
              "       'Ok i will tell her to stay out. Yeah its been tough but we are optimistic things will improve this month.',\n",
              "       'Boooo you always work. Just quit.',\n",
              "       'U 447801259231 have a secret admirer who is looking 2 make contact with U-find out who they R*reveal who thinks UR so special-call on 09058094597',\n",
              "       \"No chikku nt yet.. Ya i'm free\",\n",
              "       'Wen ur lovable bcums angry wid u, dnt take it seriously.. Coz being angry is d most childish n true way of showing deep affection, care n luv!.. kettoda manda... Have nice day da.',\n",
              "       'Awesome, that gonna be soon or later tonight?',\n",
              "       'Smith waste da.i wanna gayle.',\n",
              "       'Here is your discount code RP176781. To stop further messages reply stop. www.regalportfolio.co.uk. Customer Services 08717205546',\n",
              "       'Auction round 4. The highest bid is now ï¿½54. Next maximum bid is ï¿½71. To bid, send BIDS e. g. 10 (to bid ï¿½10) to 83383. Good luck.',\n",
              "       'They released vday shirts and when u put it on it makes your bottom half naked instead of those white underwear.',\n",
              "       'When can ï¿½_ come out?',\n",
              "       \"Alex knows a guy who sells mids but he's down in south tampa and I don't think I could set it up before like 8\",\n",
              "       'Yup ok...',\n",
              "       'Buy Space Invaders 4 a chance 2 win orig Arcade Game console. Press 0 for Games Arcade (std WAP charge) See o2.co.uk/games 4 Terms + settings. No purchase',\n",
              "       'You have an important customer service announcement from PREMIER.',\n",
              "       \"Horrible u eat macs eat until u forgot abt me already rite... U take so long 2 reply. I thk it's more toot than b4 so b prepared. Now wat shall i eat?\",\n",
              "       'You have WON a guaranteed ï¿½1000 cash or a ï¿½2000 prize.To claim yr prize call our customer service representative on',\n",
              "       'ok....take care.umma to you too...',\n",
              "       'Wife.how she knew the time of murder exactly',\n",
              "       'Oi. Ami parchi na re. Kicchu kaaj korte iccha korche na. Phone ta tul na. Plz. Plz.',\n",
              "       \"No. She's currently in scotland for that.\",\n",
              "       'Give one miss from that number please',\n",
              "       'Yes we are chatting too.', 'Mm i had my food da from out',\n",
              "       \"New Theory: Argument wins d SITUATION, but loses the PERSON. So dont argue with ur friends just.. . . . kick them &amp; say, I'm always correct.!\",\n",
              "       'Have a nice day my dear.',\n",
              "       'Ya but it cant display internal subs so i gotta extract them',\n",
              "       'Where r e meeting tmr?',\n",
              "       'FreeMsg Hey U, i just got 1 of these video/pic fones, reply WILD to this txt & ill send U my pics, hurry up Im so bored at work xxx (18 150p/rcvd STOP2stop)',\n",
              "       'I know you are serving. I mean what are you doing now.',\n",
              "       'I av a new number,  . Wil u only use this one,ta.',\n",
              "       'THATï¿½ï¿½S ALRITE GIRL, U KNOW GAIL IS NEVA WRONG!!TAKE CARE SWEET AND DONï¿½ï¿½T WORRY.C U L8TR HUN!LOVE Yaxxx',\n",
              "       'Y de asking like this.',\n",
              "       'U can WIN ï¿½100 of Music Gift Vouchers every week starting NOW Txt the word DRAW to 87066 TsCs www.Idew.com SkillGame, 1Winaweek, age16. 150ppermessSubscription',\n",
              "       'Valentines Day Special! Win over ï¿½1000 in our quiz and take your partner on the trip of a lifetime! Send GO to 83600 now. 150p/msg rcvd. CustCare:08718720201.',\n",
              "       'Happy New Year Princess!',\n",
              "       'She.s fine. I have had difficulties with her phone. It works with mine. Can you pls send her another friend request.',\n",
              "       'Great. Hope you are using your connections from mode men also cos you can never know why old friends can lead you to today',\n",
              "       'That seems unnecessarily affectionate',\n",
              "       'K, can that happen tonight?', 'From 5 to 2 only my work timing.',\n",
              "       'Then we wait 4 u lor... No need 2 feel bad lar...',\n",
              "       'Free tones Hope you enjoyed your new content. text stop to 61610 to unsubscribe. help:08712400602450p Provided by tones2you.co.uk',\n",
              "       'great princess! I love giving and receiving oral. Doggy style is my fave position. How about you? I enjoy making love  &lt;#&gt;  times per night :)',\n",
              "       '645', 'I plane to give on this month end.',\n",
              "       'We tried to call you re your reply to our sms for a video mobile 750 mins UNLIMITED TEXT free camcorder Reply or call now 08000930705 Del Thurs',\n",
              "       'XXXMobileMovieClub: To use your credit, click the WAP link in the next txt message or click here>> http://wap. xxxmobilemovieclub.com?n=QJKGIGHJJGCBL',\n",
              "       'Den wat will e schedule b lk on sun?',\n",
              "       'Not directly behind... Abt 4 rows behind ï¿½_...',\n",
              "       'How are you. Just checking up on you',\n",
              "       'Nothing but we jus tot u would ask cos u ba gua... But we went mt faber yest... Yest jus went out already mah so today not going out... Jus call lor...',\n",
              "       'No. On the way home. So if not for the long dry spell the season would have been over',\n",
              "       \"Yes i have. So that's why u texted. Pshew...missing you so much\",\n",
              "       'I will see in half an hour',\n",
              "       'Great. So should i send you my account number.',\n",
              "       'Not heard from U4 a while. Call 4 rude chat private line 01223585334 to cum. Wan 2C pics of me gettin shagged then text PIX to 8552. 2End send STOP 8552 SAM xxx',\n",
              "       'Wishing you and your family Merry \\\\X\\\\\" mas and HAPPY NEW Year in advance..\"',\n",
              "       \"He didn't see his shadow. We get an early spring yay\",\n",
              "       \"What's up. Do you want me to come online?\",\n",
              "       \"Aight no rush, I'll ask jay\", 'My phone',\n",
              "       'Ya i knw u vl giv..its ok thanks kano..anyway enjoy wit ur family wit 1st salary..:-);-)',\n",
              "       '\\\\Hi darlin i cantdo anythingtomorrow as myparents aretaking me outfor a meal. when are u free? Katexxx\\\\\"\"',\n",
              "       'After my work ah... Den 6 plus lor... U workin oso rite... Den go orchard lor, no other place to go liao...',\n",
              "       'Yup next stop.', 'Shopping? Eh ger i toking abt syd leh...Haha',\n",
              "       'Do you want bold 2 or bb torch',\n",
              "       \"A bloo bloo bloo I'll miss the first bowl\",\n",
              "       \"I shall book chez jules for half eight, if that's ok with you?\",\n",
              "       \"Oh right, ok. I'll make sure that i do loads of work during the day!  got a really nasty cough today and is dry n shot so that should really help it!\",\n",
              "       'You have won a guaranteed ï¿½200 award or even ï¿½1000 cashto claim UR award call free on 08000407165 (18+) 2 stop getstop on 88222 PHP. RG21 4JX',\n",
              "       'Lul im gettin some juicy gossip at the hospital. Two nurses are talking about how fat they are gettin. And one thinks shes obese. Oyea.',\n",
              "       \"Piggy, r u awake? I bet u're still sleeping. I'm going 4 lunch now...\",\n",
              "       'Have you not finished work yet or something?',\n",
              "       'I will spoil you in bed as well :)',\n",
              "       'I see the letter B on my car',\n",
              "       \"Can you let me know details of fri when u find out cos I'm not in tom or fri. mentionned chinese. Thanks\",\n",
              "       \"You are right though. I can't give you the space you want and need. This is really starting to become an issue. I was going to suggest setting a definite move out--if i'm still there-- after greece. But maybe you are ready and should do it now.\",\n",
              "       \"Sure but since my parents will be working on Tuesday I don't really need a cover story\",\n",
              "       'Okie... Thanx...',\n",
              "       \"Hey they r not watching movie tonight so i'll prob b home early...\",\n",
              "       'Awesome question with a cute answer: Someone asked a boy \\\\how is ur life?\\\\\" . . He smiled &amp; answered: . . \\\\\"She is fine!\\\\\" Gudnite\"',\n",
              "       \"I have a sore throat. It's scratches when I talk\",\n",
              "       \"Hey! There's veggie pizza... :/\",\n",
              "       'U calling me right? Call my hand phone...',\n",
              "       'Ard 515 like dat. Y?', \"Sorry, I'll call later\",\n",
              "       'WINNER!! As a valued network customer you have been selected to receivea ï¿½900 prize reward! To claim call 09061701461. Claim code KL341. Valid 12 hours only.',\n",
              "       'CALL 09090900040 & LISTEN TO EXTREME DIRTY LIVE CHAT GOING ON IN THE OFFICE RIGHT NOW TOTAL PRIVACY NO ONE KNOWS YOUR [sic] LISTENING 60P MIN 24/7MP 0870753331018+',\n",
              "       'PRIVATE! Your 2004 Account Statement for 078498****7 shows 786 unredeemed Bonus Points. To claim call 08719180219 Identifier Code: 45239 Expires 06.05.05',\n",
              "       'Stupid.its not possible',\n",
              "       'Great escape. I fancy the bridge but needs her lager. See you tomo',\n",
              "       'MY NEW YEARS EVE WAS OK. I WENT TO A PARTY WITH MY BOYFRIEND. WHO IS THIS SI THEN HEY',\n",
              "       \"And I don't plan on staying the night but I prolly won't be back til late\",\n",
              "       'No one interested. May be some business plan.',\n",
              "       'Tyler (getting an 8th) has to leave not long after 9, can you get here in like an hour?',\n",
              "       \"Aight, I'll hit you up when I get some cash\",\n",
              "       'Sometimes we put walls around our hearts,not just to be safe from getting hurt.. But to find out who cares enough to break the walls &amp; get closer.. GOODNOON:)',\n",
              "       '100 dating service cal;l 09064012103 box334sk38ch',\n",
              "       'Olol i printed out a forum post by a guy with the exact same  prob which was fixed with a gpu replacement. Hopefully they dont ignore that.',\n",
              "       'How dare you stupid. I wont tell anything to you. Hear after i wont talk to you:-.',\n",
              "       'ï¿½ï¿½_ and donï¿½ï¿½ï¿½t worry weï¿½ï¿½ï¿½ll have finished by march ï¿½ï¿½_ ish!',\n",
              "       'Tunde, how are you doing. This is just wishing you a great day. Abiola.',\n",
              "       'Really good:)dhanush rocks once again:)',\n",
              "       'He is impossible to argue with and he always treats me like his sub, like he never released me ... Which he did and I will remind him of that if necessary',\n",
              "       \"Ok. Every night take a warm bath drink a cup of milk and you'll see a work of magic. You still need to loose weight. Just so that you know\",\n",
              "       'I wont touch you with out your permission.',\n",
              "       'Oh did you charge camera',\n",
              "       'Will purchase d stuff today and mail to you. Do you have a po box number?',\n",
              "       'Ok.. ï¿½ï¿½ finishing soon?',\n",
              "       'He also knows about lunch menu only da. . I know',\n",
              "       'I have lost 10 kilos as of today!',\n",
              "       'Life is more strict than teacher... Bcoz Teacher teaches lesson &amp; then conducts exam, But Life first conducts Exam &amp; then teaches Lessons. Happy morning. . .',\n",
              "       'Yes:)here tv is always available in work place..',\n",
              "       'Hi hope u get this txt~journey hasnt been gd,now about 50 mins late I think.',\n",
              "       'Yep. I do like the pink furniture tho.',\n",
              "       'You only hate me. You can call any but you didnt accept even a single call of mine. Or even you messaged',\n",
              "       \"The fact that you're cleaning shows you know why i'm upset. Your priority is constantly \\\\what i want to do\",\n",
              "       'Urgh, coach hot, smells of chip fat! Thanks again, especially for the duvet (not a predictive text word).',\n",
              "       'Your 2004 account for 07XXXXXXXXX shows 786 unredeemed points. To claim call 08719181259 Identifier code: XXXXX Expires 26.03.05',\n",
              "       \"that would be good ï¿½ï¿½_ I'll phone you tomo lunchtime, shall I, to organise something?\",\n",
              "       'Also north carolina and texas atm, you would just go to the gre site and pay for the test results to be sent.',\n",
              "       'Loans for any purpose even if you have Bad Credit! Tenants Welcome. Call NoWorriesLoans.com on 08717111821',\n",
              "       'Wat r u doing?', \"Arms fine, how's Cardiff and uni? \",\n",
              "       'Hurry home. Soup is DONE!',\n",
              "       \"INTERFLORA - ï¿½ï¿½It's not too late to order Interflora flowers for christmas call 0800 505060 to place your order before Midnight tomorrow.\",\n",
              "       'What type of stuff do you sing?',\n",
              "       \"Loan for any purpose ï¿½500 - ï¿½75,000. Homeowners + Tenants welcome. Have you been previously refused? We can still help. Call Free 0800 1956669 or text back 'help'\",\n",
              "       'Bloomberg -Message center +447797706009 Why wait? Apply for your future http://careers. bloomberg.com',\n",
              "       \"Yetunde i'm in class can you not run water on it to make it ok. Pls now.\",\n",
              "       \"You said to me before i went back to bed that you can't sleep for anything.\",\n",
              "       'I think u have the wrong number.',\n",
              "       'Still i have not checked it da. . .',\n",
              "       'Sunshine Quiz Wkly Q! Win a top Sony DVD player if u know which country Liverpool played in mid week? Txt ansr to 82277. ï¿½1.50 SP:Tyrone',\n",
              "       'Hope you are having a great day.',\n",
              "       'Good afternoon, babe. How goes that day ? Any job prospects yet ? I miss you, my love ... *sighs* ... :-(',\n",
              "       'Dude how do you like the buff wind.',\n",
              "       \"Hello my little party animal! I just thought I'd buzz you as you were with your friends ...*grins*... Reminding you were loved and send a naughty adoring kiss\",\n",
              "       'I know you are thinkin malaria. But relax, children cant handle malaria. She would have been worse and its gastroenteritis. If she takes enough to replace her loss her temp will reduce. And if you give her malaria meds now she will just vomit. Its a self limiting illness she has which means in a few days it will completely stop',\n",
              "       'No * am working on the ringing u thing but have whole houseful of screaming brats so * am pulling my hair out! Loving u',\n",
              "       \"Hey babe, sorry i didn't get sooner. Gary can come and fix it cause he thinks he knows what it is but he doesn't go as far a Ptbo and he says it will cost  &lt;#&gt;  bucks. I don't know if it might be cheaper to find someone there ? We don't have any second hand machines at all right now, let me know what you want to do babe\",\n",
              "       'I absolutely LOVE South Park! I only recently started watching the office.',\n",
              "       'Dont think you need yellow card for uk travel. Ask someone that has gone before. If you do its just  &lt;#&gt; bucks',\n",
              "       'HMV BONUS SPECIAL 500 pounds of genuine HMV vouchers to be won. Just answer 4 easy questions. Play Now! Send HMV to 86688 More info:www.100percent-real.com',\n",
              "       'Just taste fish curry :-P', 'I dunno lei... Like dun haf...',\n",
              "       \"Aight, you close by or still down around alex's place?\",\n",
              "       'Lol or I could just starve and lose a pound by the end of the day.',\n",
              "       'Love you aathi..love u lot..',\n",
              "       'K so am I, how much for an 8th? Fifty?',\n",
              "       'My drive can only be read. I need to write',\n",
              "       'Me too. Mark is taking forever to pick up my prescription and the pain is coming back.',\n",
              "       'K, if u bored up just come to my home..',\n",
              "       'Only once then after ill obey all yours.',\n",
              "       'Good afternoon on this glorious anniversary day, my sweet J !! I hope this finds you happy and content, my Prey. I think of you and send a teasing kiss from across the sea coaxing images of fond souveniers ... You Cougar-Pen',\n",
              "       'PRIVATE! Your 2003 Account Statement for shows 800 un-redeemed S. I. M. points. Call 08719899230 Identifier Code: 41685 Expires 07/11/04',\n",
              "       'Mm that time you dont like fun',\n",
              "       'Whatsup there. Dont u want to sleep',\n",
              "       'Just wait till end of march when el nino gets himself. Oh.',\n",
              "       'Goodmorning sleeping ga.',\n",
              "       \"Yes but I don't care cause I know its there!\",\n",
              "       'I know you mood off today', 'Wat time liao, where still got.',\n",
              "       'I am thinking of going down to reg for pract lessons.. Flung my advance.. Haha wat time u going?',\n",
              "       'Yeah probably, I still gotta check out with leo',\n",
              "       'Hey I am really horny want to chat or see me naked text hot to 69698 text charged at 150pm to unsubscribe text stop 69698',\n",
              "       \"Sorry, I'll call later\",\n",
              "       'Cheers for the card ... Is it that time of year already?',\n",
              "       'No i am not having not any movies in my laptop',\n",
              "       'As a registered optin subscriber ur draw 4 ï¿½100 gift voucher will be entered on receipt of a correct ans to 80062 Whats No1 in the BBC charts',\n",
              "       'Eh u remember how 2 spell his name... Yes i did. He v naughty make until i v wet.',\n",
              "       'Ok then no need to tell me anything i am going to sleep good night',\n",
              "       'All will come alive.better correct any good looking figure there itself..',\n",
              "       'Really do hope the work doesnt get stressful. Have a gr8 day.',\n",
              "       'GOD ASKED, \\\\What is forgiveness?\\\\\" A little child gave lovely reply',\n",
              "       'Do 1 thing! Change that sentence into: \\\\Because i want 2 concentrate in my educational career im leaving here..\\\\\"\"',\n",
              "       'Beautiful Truth against Gravity.. Read carefully: \\\\Our heart feels light when someone is in it.. But it feels very heavy when someone leaves it..\\\\\" GOOD NIGHT\"',\n",
              "       'When u love someone Dont make them to love u as much as u do. But Love them so much that they dont want to be loved by anyone except you... Gud nit.',\n",
              "       'URGENT! Your mobile was awarded a ï¿½1,500 Bonus Caller Prize on 27/6/03. Our final attempt 2 contact U! Call 08714714011',\n",
              "       \"Yo do you know anyone  &lt;#&gt;  or otherwise able to buy liquor? Our guy flaked and right now if we don't get a hold of somebody its just 4 loko all night\",\n",
              "       \"I've not called you in a while. This is hoping it was l8r malaria and that you know that we miss you guys. I miss Bani big, so pls give her my love especially. Have a great day.\",\n",
              "       'Wat r u doing?',\n",
              "       'Carlos took a while (again), we leave in a minute',\n",
              "       \"Thursday night? Yeah, sure thing, we'll work it out then\",\n",
              "       'PRIVATE! Your 2003 Account Statement for 07815296484 shows 800 un-redeemed S.I.M. points. Call 08718738001 Identifier Code 41782 Expires 18/11/04',\n",
              "       'Coffee cake, i guess...',\n",
              "       \"no, i *didn't* mean to post it. I wrote it, and like so many other times i've ritten stuff to you, i let it sit there. it WAS what i was feeling at the time. I was angry. Before i left, i hit send, then stop. It wasn't there. I checked on my phone when i got to my car. It wasn't there. You said you didn't sleep, you were bored. So why wouldn't THAT be the time to clean, fold laundry, etc.? At least make the bed?\",\n",
              "       'Oh k:)after that placement there ah?',\n",
              "       'HMV BONUS SPECIAL 500 pounds of genuine HMV vouchers to be won. Just answer 4 easy questions. Play Now! Send HMV to 86688 More info:www.100percent-real.com',\n",
              "       'K ill drink.pa then what doing. I need srs model pls send it to my mail id pa.',\n",
              "       \"I'm vivek:)i got call from your number.\",\n",
              "       'Hey you can pay. With salary de. Only  &lt;#&gt; .',\n",
              "       'Ha ha ha good joke. Girls are situation seekers.',\n",
              "       'Yeah go on then, bored and depressed sittin waitin for phone to ring... Hope the wind drops though, scary',\n",
              "       '4 tacos + 1 rajas burrito, right?',\n",
              "       'Missed call alert. These numbers called but left no message. 07008009200',\n",
              "       'Ya that one is slow as poo',\n",
              "       'Sorry, went to bed early, nightnight',\n",
              "       'have got * few things to do. may be in * pub later.',\n",
              "       \"Y cant u try new invention to fly..i'm not joking.,\",\n",
              "       'Frnd s not juz a word.....not merely a relationship.....its a silent promise which says ... \\\\ I will be with YOU \\\\\" Wherevr.. Whenevr.. Forevr... Gudnyt dear..\"',\n",
              "       'Motivate Behind every darkness, there is a shining light waiting for you to find it... Behind every best friend, there is always trust and love... BSLVYL',\n",
              "       'That day you asked about anand number. Why:-)',\n",
              "       \"Lol ok ill try to send. Be warned Sprint is dead slow. You'll prolly get it tomorrow\",\n",
              "       'Were somewhere on Fredericksburg',\n",
              "       \"Dunno cos i was v late n when i reach they inside already... But we ate spageddies lor... It's e gals who r laughing at me lor...\",\n",
              "       \"You'd like that wouldn't you? Jerk!\",\n",
              "       'Well. Balls. Time to make calls',\n",
              "       'HARD BUT TRUE: How much you show &amp;  express your love to someone....that much it will hurt when they leave you or you get seperated...!ï¿½ï¿½ï¿½ï¿½ï¿½_??ï¿½Û¬ud evening...',\n",
              "       \"Sorry, I'll call later\",\n",
              "       'Sorry my roommates took forever, it ok if I come by now?',\n",
              "       'In xam hall boy asked girl Tell me the starting term for dis answer I can den manage on my own After lot of hesitation n lookin around silently she said THE! intha ponnungale ipaditan;)',\n",
              "       'Oh. U must have taken your REAL Valentine out shopping first.',\n",
              "       'Cuz ibored. And don wanna study',\n",
              "       \"Oh god. I'm gonna Google nearby cliffs now.\",\n",
              "       'URGENT! You have won a 1 week FREE membership in our ï¿½100,000 Prize Jackpot! Txt the word: CLAIM to No: 81010 T&C www.dbuk.net LCCLTD POBOX 4403LDNW1A7RW18',\n",
              "       'ringtoneking 84484',\n",
              "       \"Its not the same here. Still looking for a job. How much do Ta's earn there.\",\n",
              "       'Santa calling! Would your little ones like a call from Santa Xmas Eve? Call 09077818151 to book you time. Calls1.50ppm last 3mins 30s T&C www.santacalling.com',\n",
              "       'cud u tell ppl im gona b a bit l8 cos 2 buses hav gon past cos they were full & im still waitin 4 1. Pete x',\n",
              "       'Edison has rightly said, \\\\A fool can ask more questions than a wise man can answer\\\\\" Now you know why all of us are speechless during ViVa.. GM',\n",
              "       'You are guaranteed the latest Nokia Phone, a 40GB iPod MP3 player or a ï¿½500 prize! Txt word: COLLECT to No: 83355! IBHltd LdnW15H 150p/Mtmsgrcvd18',\n",
              "       '08714712388 between 10am-7pm Cost 10p',\n",
              "       'Pls speak with me. I wont ask anything other then you friendship.',\n",
              "       'Hey mate. Spoke to the mag people. Weï¿½ï¿½ï¿½re on.  the is deliver by the end of the month. Deliver on the 24th sept. Talk later.',\n",
              "       'Hi its LUCY Hubby at meetins all day Fri & I will B alone at hotel U fancy cumin over? Pls leave msg 2day 09099726395 Lucy x Callsï¿½1/minMobsmoreLKPOBOX177HP51FL',\n",
              "       \"Jay wants to work out first, how's 4 sound?\",\n",
              "       '7 at esplanade.. Do ï¿½_ mind giving me a lift cos i got no car today..',\n",
              "       'Please sen :)my kind advice :-)please come here and try:-)',\n",
              "       'I sent them. Do you like?',\n",
              "       'My house here e sky quite dark liao... If raining then got excuse not 2 run already rite... Hee...',\n",
              "       \"Oh yeah clearly it's my fault\",\n",
              "       \"Hi I'm sue. I am 20 years old and work as a lapdancer. I love sex. Text me live - I'm i my bedroom now. text SUE to 89555. By TextOperator G2 1DA 150ppmsg 18+\",\n",
              "       \"Cool, I'll text you when I'm on the way\",\n",
              "       \"Free-message: Jamster!Get the crazy frog sound now! For poly text MAD1, for real text MAD2 to 88888. 6 crazy sounds for just 3 GBP/week! 16+only! T&C's apply\",\n",
              "       'Ok',\n",
              "       'Sorry sent blank msg again. Yup but trying 2 do some serious studying now.',\n",
              "       \"Don't fret. I'll buy the ovulation test strips and send them to you. You wont get them til like march. Can you send me your postal address.u'll be alright.Okay.\",\n",
              "       'Where is it. Is there any opening for mca.',\n",
              "       'Thankyou so much for the call. I appreciate your care.',\n",
              "       'WIN URGENT! Your mobile number has been awarded with a ï¿½2000 prize GUARANTEED call 09061790121 from land line. claim 3030 valid 12hrs only 150ppm',\n",
              "       'I donno its in your genes or something',\n",
              "       \"Hi! You just spoke to MANEESHA V. We'd like to know if you were satisfied with the experience. Reply Toll Free with Yes or No.\",\n",
              "       'Oh oh... Wasted... Den muz chiong on sat n sun liao...',\n",
              "       'Sac needs to carry on:)',\n",
              "       'You have WON a guaranteed ï¿½1000 cash or a ï¿½2000 prize. To claim yr prize call our customer service representative on 08714712394 between 10am-7pm',\n",
              "       'Lol I know! Hey someone did a great inpersonation of flea on the forums. I love it!',\n",
              "       'Leaving to qatar tonite in search of an opportunity.all went fast.pls add me in ur prayers dear.Rakhesh',\n",
              "       \"Get the door, I'm here\",\n",
              "       'Hi there. We have now moved in2 our pub . Would be great 2 c u if u cud come up.',\n",
              "       \"Daddy, shu shu is looking 4 u... U wan me 2 tell him u're not in singapore or wat?\",\n",
              "       'Except theres a chick with huge boobs.',\n",
              "       'A boy was late 2 home. His father: \\\\POWER OF FRNDSHIP\\\\\"\"',\n",
              "       'Well i will watch shrek in 3D!!B)',\n",
              "       'Ok. I.ll do you right later.',\n",
              "       \"No he didn't. Spring is coming early yay!\",\n",
              "       'Single line with a big meaning::::: \\\\Miss anything 4 ur \\\\\"Best Life\\\\\" but',\n",
              "       'Ok can...', 'R u in this continent?',\n",
              "       'What you doing?how are you?',\n",
              "       \"Lovely smell on this bus and it ain't tobacco...\",\n",
              "       \"Am on a train back from northampton so i'm afraid not! I'm staying skyving off today ho ho! Will be around wednesday though. Do you fancy the comedy club this week by the way?\",\n",
              "       'S...from the training manual it show there is no tech process:)its all about password reset and troubleshooting:)',\n",
              "       'I got like $ &lt;#&gt; , I can get some more later though. Get whatever you feel like',\n",
              "       \"If you're not in my car in an hour and a half I'm going apeshit\",\n",
              "       'Horrible bf... I now v hungry...',\n",
              "       'Haiyoh... Maybe your hamster was jealous of million',\n",
              "       'Sex up ur mobile with a FREE sexy pic of Jordan! Just text BABE to 88600. Then every wk get a sexy celeb! PocketBabe.co.uk 4 more pics. 16 ï¿½3/wk 087016248',\n",
              "       'Well its not like you actually called someone a punto. That woulda been worse.',\n",
              "       'We got a divorce. Lol. She.s here',\n",
              "       'This is the 2nd time we have tried 2 contact u. U have won the 750 Pound prize. 2 claim is easy, call 08712101358 NOW! Only 10p per min. BT-national-rate',\n",
              "       'Men always needs a beautiful, intelligent, caring, loving, adjustable, cooperative wife. But the law allows only one wife....',\n",
              "       'PRIVATE! Your 2003 Account Statement for 078',\n",
              "       'Get down in gandhipuram and walk to cross cut road. Right side &lt;#&gt; street road and turn at first right.',\n",
              "       \"When're you guys getting back? G said you were thinking about not staying for mcr\",\n",
              "       \"Yeah it's jus rite...\",\n",
              "       'Do you know why god created gap between your fingers..? So that, One who is made for you comes &amp; fills those gaps by holding your hand with LOVE..!',\n",
              "       'UR awarded a City Break and could WIN a ï¿½200 Summer Shopping spree every WK. Txt STORE to 88039 . SkilGme. TsCs087147403231Winawk!Age16 ï¿½1.50perWKsub',\n",
              "       'Dear are you angry i was busy dear',\n",
              "       'K, wait chikku..il send aftr  &lt;#&gt; mins',\n",
              "       'Da is good good player.why he is unsold.',\n",
              "       'I thk 50 shd be ok he said plus minus 10.. Did ï¿½_ leave a line in between paragraphs?',\n",
              "       \"No messages on her phone. I'm holding it now\",\n",
              "       '2marrow only. Wed at  &lt;#&gt;  to 2 aha.',\n",
              "       'Just glad to be talking to you.', 'Cold. Dont be sad dear',\n",
              "       'Just curious because my cuz asked what I was up to',\n",
              "       \"Is there a reason we've not spoken this year? Anyways have a great week and all the best in your exam\",\n",
              "       'Urgent! call 09066612661 from landline. Your complementary 4* Tenerife Holiday or ï¿½10,000 cash await collection SAE T&Cs PO Box 3 WA14 2PX 150ppm 18+ Sender: Hol Offer',\n",
              "       'You are a winner U have been specially selected 2 receive ï¿½1000 cash or a 4* holiday (flights inc) speak to a live operator 2 claim 0871277810810',\n",
              "       'Oops i thk i dun haf enuff... I go check then tell ï¿½_..',\n",
              "       'Will you come online today night',\n",
              "       \"Now? I'm going out 4 dinner soon..\",\n",
              "       'Warner Village 83118 C Colin Farrell in SWAT this wkend @Warner Village & get 1 free med. Popcorn!Just show msg+ticket@kiosk.Valid 4-7/12. C t&c @kiosk. Reply SONY 4 mre film offers',\n",
              "       'Todays Vodafone numbers ending with 4882 are selected to a receive a ï¿½350 award. If your number matches call 09064019014 to receive your ï¿½350 award.',\n",
              "       'Yes:)here tv is always available in work place..',\n",
              "       'I want to lick your pussy now...',\n",
              "       'I am going to film 2day da. At 6pm. Sorry da.',\n",
              "       'They can try! They can get lost, in fact. Tee hee',\n",
              "       'Ok... Sweet dreams...',\n",
              "       \"Anyway holla at me whenever you're around because I need an excuse to go creep on people in sarasota\",\n",
              "       \"Don't worry though, I understand how important it is that I be put in my place with a poorly thought out punishment in the face of the worst thing that has ever happened to me. Brb gonna go kill myself\",\n",
              "       'So lets make it saturday or monday as per convenience.',\n",
              "       \"ï¿½ï¿½ eatin later but i'm eatin wif my frens now lei... ï¿½ï¿½ going home first?\",\n",
              "       'Oh ok..', 'WHO ARE YOU SEEING?',\n",
              "       \"If i not meeting ï¿½_ all rite then i'll go home lor. If ï¿½_ dun feel like comin it's ok.\",\n",
              "       \"For me the love should start with attraction.i should feel that I need her every time around me.she should be the first thing which comes in my thoughts.I would start the day and end it with her.she should be there every time I dream.love will be then when my every breath has her name.my life should happen around her.my life will be named to her.I would cry for her.will give all my happiness and take all her sorrows.I will be ready to fight with anyone for her.I will be in love when I will be doing the craziest things for her.love will be when I don't have to proove anyone that my girl is the most beautiful lady on the whole planet.I will always be singing praises for her.love will be when I start up making chicken curry and end up makiing sambar.life will be the most beautiful then.will get every morning and thank god for the day because she is with me.I would like to say a lot..will tell later..\",\n",
              "       'Guess who spent all last night phasing in and out of the fourth dimension',\n",
              "       'Call 09094100151 to use ur mins! Calls cast 10p/min (mob vary). Service provided by AOM, just GBP5/month. AOM Box61,M60 1ER until u stop. Ages 18+ only!',\n",
              "       'Tone Club: Your subs has now expired 2 re-sub reply MONOC 4 monos or POLYC 4 polys 1 weekly @ 150p per week Txt STOP 2 stop This msg free Stream 0871212025016',\n",
              "       'Oic cos me n my sis got no lunch today my dad went out... So dunno whether 2 eat in sch or wat...',\n",
              "       'Wan2 win a Meet+Greet with Westlife 4 U or a m8? They are currently on what tour? 1)Unbreakable, 2)Untamed, 3)Unkempt. Text 1,2 or 3 to 83049. Cost 50p +std text',\n",
              "       'Yes! How is a pretty lady like you single?',\n",
              "       'Cool. So how come you havent been wined and dined before?',\n",
              "       'Had your mobile 11 months or more? U R entitled to Update to the latest colour mobiles with camera for Free! Call The Mobile Update Co FREE on 08002986030',\n",
              "       \"Sorry, I'll call later in meeting\",\n",
              "       'You will be in the place of that man',\n",
              "       'We tried to contact you re our offer of New Video Phone 750 anytime any network mins HALF PRICE Rental camcorder call 08000930705 or reply for delivery Wed',\n",
              "       \"Please call Amanda with regard to renewing or upgrading your current T-Mobile handset free of charge. Offer ends today. Tel 0845 021 3680 subject to T's and C's\",\n",
              "       'WE REGRET TO INFORM U THAT THE NHS HAS MADE A MISTAKE.U WERE NEVER ACTUALLY BORN.PLEASE REPORT 2 YOR LOCAL HOSPITAL 2B TERMINATED.WE R SORRY 4 THE INCONVENIENCE',\n",
              "       'All done? All handed in? Celebrations in full swing yet?',\n",
              "       '7 lor... Change 2 suntec... Wat time u coming?',\n",
              "       'I got arrested for possession at, I shit you not,  &lt;TIME&gt;  pm',\n",
              "       'Found it, ENC  &lt;#&gt; , where you at?',\n",
              "       'Rose needs water, season needs change, poet needs imagination..My phone needs ur sms and i need ur lovely frndship forever....',\n",
              "       'Anything...',\n",
              "       'I think if he rule tamilnadu..then its very tough for our people.',\n",
              "       'How many licks does it take to get to the center of a tootsie pop?',\n",
              "       'on a Tuesday night r u 4 real',\n",
              "       'Pls speak to that customer machan.',\n",
              "       'House-Maid is the murderer, coz the man was murdered on  &lt;#&gt; th January.. As public holiday all govt.instituitions are closed,including post office..understand?',\n",
              "       'Nice.nice.how is it working?',\n",
              "       'Beautiful Truth against Gravity.. Read carefully: \\\\Our heart feels light when someone is in it.. But it feels very heavy when someone leaves it..\\\\\" GOOD NIGHT\"',\n",
              "       \"Our Prashanthettan's mother passed away last night. pray for her and family.\",\n",
              "       'Lol no. U can trust me.',\n",
              "       'Do you want a New Nokia 3510i colour phone DeliveredTomorrow? With 300 free minutes to any mobile + 100 free texts + Free Camcorder reply or call 08000930705',\n",
              "       'SMS AUCTION - A BRAND NEW Nokia 7250 is up 4 auction today! Auction is FREE 2 join & take part! Txt NOKIA to 86021 now!',\n",
              "       'Good night my dear.. Sleepwell&amp;Take care',\n",
              "       'Tmrw. Im finishing 9 doors',\n",
              "       'Pls help me tell Ashley that i cant find her number oh',\n",
              "       'Nice.nice.how is it working?', \"Dont worry. I guess he's busy.\",\n",
              "       \"I'm freezing and craving ice. Fml\",\n",
              "       'Everybody had fun this evening. Miss you.',\n",
              "       'Aiyar dun disturb u liao... Thk u have lots 2 do aft ur cupboard come...',\n",
              "       'Lil fever:) now fine:)',\n",
              "       'I sent my scores to sophas and i had to do secondary application for a few schools. I think if you are thinking of applying, do a research on cost also. Contact joke ogunrinde, her school is one me the less expensive ones',\n",
              "       'Did u got that persons story',\n",
              "       '\\\\Life is nothing wen v get everything\\\\\". But \\\\\"life is everything wen v miss something \\\\\". Real value of people wil be realized only in their absence.... gud mrng\"',\n",
              "       'Ok thanx... Take care then...',\n",
              "       'Sorry . I will be able to get to you. See you in the morning.',\n",
              "       \"Turns out my friends are staying for the whole show and won't be back til ~ &lt;#&gt; , so feel free to go ahead and smoke that $ &lt;#&gt;  worth\",\n",
              "       'Ok i msg u b4 i leave my house.',\n",
              "       \"sry can't talk on phone, with parents\", 'Ok...',\n",
              "       'Probably gonna swing by in a wee bit',\n",
              "       'I dont thnk its a wrong calling between us',\n",
              "       'Din i tell u jus now 420',\n",
              "       'Welcome to Select, an O2 service with added benefits. You can now call our specially trained advisors FREE from your mobile by dialling 402.',\n",
              "       \"How's it going? Got any exciting karaoke type activities planned? I'm debating whether to play football this eve. Feeling lazy though.\",\n",
              "       'Not..tel software name..',\n",
              "       'I could ask carlos if we could get more if anybody else can chip in',\n",
              "       'Long after I quit. I get on only like 5 minutes a day as it is.',\n",
              "       'Ever thought about living a good life with a perfect partner? Just txt back NAME and AGE to join the mobile community. (100p/SMS)',\n",
              "       'Aiyah e rain like quite big leh. If drizzling i can at least run home.',\n",
              "       'I wont get concentration dear you know you are my mind and everything :-)',\n",
              "       'Taka lor. Wat time u wan 2 come n look 4 us?',\n",
              "       'Then ur physics get a-?',\n",
              "       'Boo what time u get out? U were supposed to take me shopping today. :(',\n",
              "       'Am i that much bad to avoid like this?',\n",
              "       'Gr8 new service - live sex video chat on your mob - see the sexiest dirtiest girls live on ur phone - 4 details text horny to 89070 to cancel send STOP to 89070',\n",
              "       'Arun can u transfr me d amt',\n",
              "       \"You should get more chicken broth if you want ramen unless there's some I don't know about\",\n",
              "       \"Time n Smile r the two crucial things in our life. Sometimes time makes us to forget smile, and sometimes someone's smile makes us to forget time gud noon\",\n",
              "       'I thought slide is enough.', \"Aight that'll work, thanks\",\n",
              "       'When you are big..| God will bring success.',\n",
              "       'Hey... are you going to quit soon? Xuhui and i working till end of the month',\n",
              "       'This is my number by vivek..', 'Thanks honey. Have a great day.',\n",
              "       \"If you're thinking of lifting me one then no.\",\n",
              "       'Cos i was out shopping wif darren jus now n i called him 2 ask wat present he wan lor. Then he started guessing who i was wif n he finally guessed darren lor.',\n",
              "       'Ok i vl..do u know i got adsense approved..',\n",
              "       'You give us back my id proof and  &lt;#&gt;  rs. We wont allow you to work. We will come to your home within days',\n",
              "       'You said not now. No problem. When you can. Let me know.',\n",
              "       'Yes.he have good crickiting mind',\n",
              "       'Helloooo... Wake up..! \\\\Sweet\\\\\" \\\\\"morning\\\\\" \\\\\"welcomes\\\\\" \\\\\"You\\\\\" \\\\\"Enjoy\\\\\" \\\\\"This Day\\\\\" \\\\\"with full of joy\\\\\".. \\\\\"GUD MRNG\\\\\".\"',\n",
              "       \"How would my ip address test that considering my computer isn't a minecraft server\",\n",
              "       'Did u fix the teeth?if not do it asap.ok take care.',\n",
              "       '18 days to Euro2004 kickoff! U will be kept informed of all the latest news and results daily. Unsubscribe send GET EURO STOP to 83222.',\n",
              "       'Win the newest ï¿½ï¿½Harry Potter and the Order of the Phoenix (Book 5) reply HARRY, answer 5 questions - chance to be the first among readers!',\n",
              "       'SIX chances to win CASH! From 100 to 20,000 pounds txt> CSH11 and send to 87575. Cost 150p/day, 6days, 16+ TsandCs apply Reply HL 4 info',\n",
              "       '\\\\HEY DAS COOL... IKNOW ALL 2 WELLDA PERIL OF STUDENTFINANCIAL CRISIS!SPK 2 U L8R.\\\\\"\"',\n",
              "       'Shuhui say change 2 suntec steamboat? U noe where? Where r u now?',\n",
              "       \"Ok. She'll be ok. I guess\",\n",
              "       'Hi. Happy New Year. I dont mean to intrude but can you pls let me know how much tuition you paid last semester and how much this semester is. Thanks',\n",
              "       'K still are you loving me.', 'Then we gotta do it after that',\n",
              "       \"I dun thk i'll quit yet... Hmmm, can go jazz ? Yogasana oso can... We can go meet em after our lessons den... \",\n",
              "       'Hey Boys. Want hot XXX pics sent direct 2 ur phone? Txt PORN to 69855, 24Hrs free and then just 50p per day. To stop text STOPBCM SF WC1N3XX',\n",
              "       'Thanks for your ringtone order, reference number X49.Your mobile will be charged 4.50. Should your tone not arrive please call customer services 09065989182',\n",
              "       'Mila, age23, blonde, new in UK. I look sex with UK guys. if u like fun with me. Text MTALK to 69866.18 . 30pp/txt 1st 5free. ï¿½1.50 increments. Help08718728876',\n",
              "       'Gud gud..k, chikku tke care.. sleep well gud nyt',\n",
              "       'we tried to contact you re your response to our offer of a new nokia fone and camcorder hit reply or call 08000930705 for delivery',\n",
              "       'Okay, good, no problem, and thanx!', 'Hui xin is in da lib.',\n",
              "       'Alright i have a new goal now', \"1's reach home call me.\",\n",
              "       'Wow v v impressed. Have funs shopping!',\n",
              "       \"K, can I pick up another 8th when you're done?\",\n",
              "       'No problem. Talk to you later', \"Lemme know when you're here\",\n",
              "       'U have a secret admirer who is looking 2 make contact with U-find out who they R*reveal who thinks UR so special-call on 09058094594',\n",
              "       'No she didnt. I will search online and let you know.',\n",
              "       '\\\\alright babe', \"Who's there say hi to our drugdealer\",\n",
              "       \"But I'm on a diet. And I ate 1 too many slices of pizza yesterday. Ugh I'm ALWAYS on a diet.\",\n",
              "       'Yes i think so. I am in office but my lap is in room i think thats on for the last few days. I didnt shut that down',\n",
              "       'No, but you told me you were going, before you got drunk!',\n",
              "       'Okay same with me. Well thanks for the clarification',\n",
              "       \"Where's mummy's boy ? Is he being good or bad ? Is he being positive or negative ? Why is mummy being made to wait? Hmmmm?\",\n",
              "       'When you guys planning on coming over?',\n",
              "       \"I'll be at mu in like  &lt;#&gt;  seconds\",\n",
              "       'it to 80488. Your 500 free text messages are valid until 31 December 2005.',\n",
              "       'Thanks for yesterday sir. You have been wonderful. Hope you enjoyed the burial. MojiBiola',\n",
              "       'Very hurting n meaningful lines ever: \\\\I compromised everything for my love',\n",
              "       'Wishing you and your family Merry \\\\X\\\\\" mas and HAPPY NEW Year in advance..\"',\n",
              "       'Mum say we wan to go then go... Then she can shun bian watch da glass exhibition...',\n",
              "       'Probably, want to pick up more?',\n",
              "       'Congrats 2 mobile 3G Videophones R yours. call 09063458130 now! videochat wid ur mates, play java games, Dload polypH music, noline rentl. bx420. ip4. 5we. 150p',\n",
              "       \"I dont have any of your file in my bag..i was in work when you called me.i 'll tell you if i find anything in my room.\",\n",
              "       \"I jus hope its true that  missin me cos i'm really missin him! You haven't done anything to feel guilty about, yet.\",\n",
              "       \"Ok no prob... I'll come after lunch then...\", 'Ard 4 lor...',\n",
              "       \"ï¿½ï¿½ log off 4 wat. It's sdryb8i\",\n",
              "       \"Join the UK's horniest Dogging service and u can have sex 2nite!. Just sign up and follow the instructions. Txt ENTRY to 69888 now! Nyt.EC2A.3LP.msg@150p\",\n",
              "       'Our ride equally uneventful - not too many of those pesky cyclists around at that time of night ;).',\n",
              "       \"Thanx 4 e brownie it's v nice...\",\n",
              "       \"Yeah you should. I think you can use your gt atm now to register. Not sure but if there's anyway i can help let me know. But when you do be sure you are ready.\",\n",
              "       'Hey what are you doing. Y no reply pa..',\n",
              "       \"I'm working technical support :)voice process.\",\n",
              "       'No plans yet. What are you doing ?',\n",
              "       'Fair enough, anything going on?',\n",
              "       'Can U get 2 phone NOW? I wanna chat 2 set up meet Call me NOW on 09096102316 U can cum here 2moro Luv JANE xx Callsï¿½1/minmoremobsEMSPOBox45PO139WA',\n",
              "       'Ok. I only ask abt e movie. U wan ktv oso?',\n",
              "       \"Don know:)this week i'm going to tirunelvai da.\",\n",
              "       'Well then you have a great weekend!',\n",
              "       'Congratulations ur awarded either ï¿½500 of CD gift vouchers & Free entry 2 our ï¿½100 weekly draw txt MUSIC to 87066 TnCs www.Ldew.com1win150ppmx3age16',\n",
              "       \"Where are you ? What are you doing ? Are yuou working on getting the pc to your mom's ? Did you find a spot that it would work ? I need you\",\n",
              "       'Yes we were outside for like 2 hours. And I called my whole family to wake them up cause it started at 1 am',\n",
              "       'Not tonight mate. Catching up on some sleep. This is my new number by the way.',\n",
              "       'And maybe some pressies',\n",
              "       'Oh... Lk tt den we take e one tt ends at cine lor... Dun wan yogasana oso can...',\n",
              "       \"Alright we'll bring it to you, see you in like  &lt;#&gt;  mins\",\n",
              "       'I dont thnk its a wrong calling between us',\n",
              "       \"I don't think I can get away for a trek that long with family in town, sorry\",\n",
              "       'Bugis oso near wat...', 'We r outside already.',\n",
              "       'Hello. No news on job, they are making me wait a fifth week! Yeah im up for some woozles and weasels... In exeter still, but be home about 3. ',\n",
              "       'Goodmorning, today i am late for 2hrs. Because of back pain.',\n",
              "       'What was she looking for?', 'He will, you guys close?',\n",
              "       'We left already we at orchard now.',\n",
              "       'Fighting with the world is easy, u either win or lose bt fightng with some1 who is close to u is dificult if u lose - u lose if u win - u still lose.',\n",
              "       'Lol your always so convincing.', 'Do you work all this week ?',\n",
              "       'Fun fact: although you would think armand would eventually build up a tolerance or some shit considering how much he smokes, he gets fucked up in like 2 hits',\n",
              "       \"Ugh I don't wanna get out of bed. It's so warm.\",\n",
              "       \"see, i knew giving you a break a few times woul lead to you always wanting to miss curfew. I was gonna gibe you 'til one, but a MIDNIGHT movie is not gonna get out til after 2. You need to come home. You need to getsleep and, if anything, you need to b studdying ear training.\",\n",
              "       'Onum ela pa. Normal than.', \"Sorry, I'll call later\",\n",
              "       'Ahhh. Work. I vaguely remember that! What does it feel like? Lol',\n",
              "       'Do you know why god created gap between your fingers..? So that, One who is made for you comes &amp; fills those gaps by holding your hand with LOVE..!',\n",
              "       \"Babe, I'm answering you, can't you see me ? Maybe you'd better reboot YM ... I got the photo ... It's great !\",\n",
              "       'Have you bookedthe hut? And also your time off? How are you by the way?',\n",
              "       'Yeah confirmed for you staying at  that weekend',\n",
              "       'Gam gone after outstanding innings.',\n",
              "       \"Oops my phone died and I didn't even know. Yeah I like it better.\",\n",
              "       'HI DARLIN I HOPE YOU HAD A NICE NIGHT I WISH I HAD COME CANT WAIT TO SEE YOU LOVE FRAN PS I WANT DIRTY ANAL SEX AND I WANT A 10 MAN GANG BANG',\n",
              "       'Dear how is chechi. Did you talk to her',\n",
              "       'Congrats! 1 year special cinema pass for 2 is yours. call 09061209465 now! C Suprman V, Matrix3, StarWars3, etc all 4 FREE! bx420-ip4-5we. 150pm. Dont miss out!',\n",
              "       'How u doin baby girl ?? hope u are okay every time I call ure phone is off! I miss u get in touch',\n",
              "       'Just getting back home',\n",
              "       'Get ready for  &lt;#&gt;  inches of pleasure...',\n",
              "       'I cant keep talking to people if am not sure i can pay them if they agree to price. So pls tell me what you want to really buy and how much you are willing to pay',\n",
              "       'So u gonna get deus ex?',\n",
              "       'Not heard from U4 a while. Call 4 rude chat private line 01223585334 to cum. Wan 2C pics of me gettin shagged then text PIX to 8552. 2End send STOP 8552 SAM xxx',\n",
              "       'Also track down any lighters you can find',\n",
              "       'Die... I accidentally deleted e msg i suppose 2 put in e sim archive. Haiz... I so sad...',\n",
              "       'Congratulations ur awarded either a yrs supply of CDs from Virgin Records or a Mystery Gift GUARANTEED Call 09061104283 Ts&Cs www.smsco.net ï¿½1.50pm approx 3mins',\n",
              "       'Wa... U so efficient... Gee... Thanx...',\n",
              "       \"I'm going out to buy mum's present ar.\",\n",
              "       'FREE for 1st week! No1 Nokia tone 4 ur mobile every week just txt NOKIA to 8077 Get txting and tell ur mates. www.getzed.co.uk POBox 36504 W45WQ 16+ norm150p/tone',\n",
              "       'Tell dear what happen to you. Why you talking to me like an alian',\n",
              "       'Oh Howda gud gud.. Mathe en samachara chikku:-)',\n",
              "       'But i dint slept in afternoon.',\n",
              "       'Waqt se pehle or naseeb se zyada kisi ko kuch nahi milta,Zindgi wo nahi he jo hum sochte hai Zindgi wo hai jo ham jeetey hai..........',\n",
              "       'Aight do you still want to get money', 'Anytime lor...',\n",
              "       'Happy birthday to you....dear.with lots of love.rakhesh NRI',\n",
              "       'K sure am in my relatives home. Sms me de. Pls:-)',\n",
              "       'No no. I will check all rooms befor activities',\n",
              "       'Even u dont get in trouble while convincing..just tel him once or twice and just tel neglect his msgs dont c and read it..just dont reply',\n",
              "       'aathi..where are you dear..',\n",
              "       \"I can't speak, bcaz mobile have problem. I can listen you but you cann't listen my voice. So i calls you later.\",\n",
              "       'Correct. So how was work today',\n",
              "       \"This pen thing is beyond a joke. Wont a Biro do? Don't do a masters as can't do this ever again!\",\n",
              "       'Purity of friendship between two is not about smiling after reading the forwarded message..Its about smiling just by seeing the name. Gud evng musthu',\n",
              "       \"Am I the only one who doesn't stalk profiles?\",\n",
              "       'Thanx but my birthday is over already.',\n",
              "       'Last Chance! Claim ur ï¿½150 worth of discount vouchers today! Text SHOP to 85023 now! SavaMob, offers mobile! T Cs SavaMob POBOX84, M263UZ. ï¿½3.00 Sub. 16',\n",
              "       'Shall I bring us a bottle of wine to keep us amused? Only joking! Iï¿½ï¿½ï¿½ll bring one anyway',\n",
              "       \"Thank you so much. When we skyped wit kz and sura, we didnt get the pleasure of your company. Hope you are good. We've given you ultimatum oh! We are countin down to aburo. Enjoy!\",\n",
              "       'Call me when u finish then i come n pick u.',\n",
              "       'I think steyn surely get one wicket:)',\n",
              "       'Please protect yourself from e-threats. SIB never asks for sensitive information like Passwords,ATM/SMS PIN thru email. Never share your password with anybody.',\n",
              "       \"My Parents, My Kidz, My Friends n My Colleagues. All screaming.. SURPRISE !! and I was waiting on the sofa.. ... ..... ' NAKED...!\",\n",
              "       'HOW ARE U? I HAVE MISSED U! I HAVENT BEEN UP 2 MUCH A BIT BORED WITH THE HOLIDAY WANT 2 GO BAK 2 COLLEGE! SAD ISNT IT?xx',\n",
              "       \"Well there's a pattern emerging of my friends telling me to drive up and come smoke with them and then telling me that I'm a weed fiend/make them smoke too much/impede their doing other things so you see how I'm hesitant\",\n",
              "       \"Can ï¿½_ call me at 10:10 to make sure dat i've woken up...\",\n",
              "       'Nobody can decide where to eat and dad wants Chinese',\n",
              "       'Iï¿½ï¿½ï¿½m parked next to a MINI!!!! When are you coming in today do you think?',\n",
              "       'No need lar. Jus testing e phone card. Dunno network not gd i thk. Me waiting 4 my sis 2 finish bathing so i can bathe. Dun disturb u liao u cleaning ur room.',\n",
              "       'Do you want a new video handset? 750 anytime any network mins? Half Price Line Rental? Camcorder? Reply or call 08000930705 for delivery tomorrow',\n",
              "       \"I'm really not up to it still tonight babe\",\n",
              "       'Wow ... I love you sooo much, you know ? I can barely stand it ! I wonder how your day goes and if you are well, my love ... I think of you and miss you',\n",
              "       'ï¿½ï¿½ dun need to pick ur gf?',\n",
              "       'Take care and sleep well.you need to learn to change in life.you only need to get CONVINCED on that.i will wait but no more conversations between us.GET CONVINCED by that time.Your family is over for you in many senses.respect them but not overemphasise.or u have no role in my life.',\n",
              "       'ï¿½ï¿½ called dad oredi...',\n",
              "       'Take something for pain. If it moves however to any side in the next 6hrs see a doctor.',\n",
              "       'Haf u found him? I feel so stupid da v cam was working.',\n",
              "       'Short But Cute: \\\\Be a good person',\n",
              "       'I will be outside office take all from there',\n",
              "       'Thanks for ve lovely wisheds. You rock',\n",
              "       \"And how's your husband.\",\n",
              "       'Boy; I love u Grl: Hogolo Boy: gold chain kodstini Grl: Agalla Boy: necklace madstini Grl: agalla Boy: Hogli 1 mutai eerulli kodthini! Grl: I love U kano;-)',\n",
              "       'What you did in  leave.', 'K da:)how many page you want?',\n",
              "       \"Very strange.  and  are watching the 2nd one now but i'm in bed. Sweet dreams, miss u \",\n",
              "       'Am surfing online store. For offers do you want to buy any thing.',\n",
              "       \"(I should add that I don't really care and if you can't I can at least get this dude to fuck off but hey, your money if you want it)\",\n",
              "       'No. Did you multimedia message them or e-mail?',\n",
              "       'Download as many ringtones as u like no restrictions, 1000s 2 choose. U can even send 2 yr buddys. Txt Sir to 80082 ï¿½3 ',\n",
              "       'Happy or sad , one thing about past is- \\\\Its no more\\\\\" GOOD MORNING :-):-).\"',\n",
              "       \"TODAY is Sorry day.! If ever i was angry with you, if ever i misbehaved or hurt you? plz plz JUST SLAP URSELF Bcoz, Its ur fault, I'm basically GOOD\",\n",
              "       'yay! finally lol. i missed our cinema trip last week :-(',\n",
              "       'Do we have any spare power supplies',\n",
              "       'Yup i thk cine is better cos no need 2 go down 2 plaza mah.',\n",
              "       \"Sir, I need Velusamy sir's date of birth and company bank facilities details.\",\n",
              "       'We tried to contact you re your reply to our offer of 750 mins 150 textand a new video phone call 08002988890 now or reply for free delivery tomorrow',\n",
              "       'Lol, oh you got a friend for the dog ?',\n",
              "       \"Hello from Orange. For 1 month's free access to games, news and sport, plus 10 free texts and 20 photo messages, reply YES. Terms apply: www.orange.co.uk/ow\"],\n",
              "      dtype=object)"
            ]
          },
          "metadata": {},
          "execution_count": 190
        }
      ]
    },
    {
      "cell_type": "code",
      "metadata": {
        "colab": {
          "base_uri": "https://localhost:8080/"
        },
        "id": "b9dgO1m3QcsU",
        "outputId": "8ecb4c54-36f6-47ba-890b-6d6acf701239"
      },
      "source": [
        "(py_inputs, py_attn_masks,py_ids) = make_smart_batches_on_test(test_sentences,test_ids, 16,tokenizer,max_input_length)\n",
        "y_pred , y_true = get_predictions(py_inputs, py_attn_masks, py_labels)"
      ],
      "execution_count": 191,
      "outputs": [
        {
          "output_type": "stream",
          "name": "stdout",
          "text": [
            "Creating Smart Batches from 557 examples with batch size 16...\n",
            "\n",
            "Tokenizing 557 samples...\n",
            "  Tokenized 0 samples.\n",
            "  Tokenized 60 samples.\n",
            "  Tokenized 120 samples.\n",
            "  Tokenized 180 samples.\n",
            "  Tokenized 240 samples.\n",
            "  Tokenized 300 samples.\n",
            "  Tokenized 360 samples.\n",
            "  Tokenized 420 samples.\n",
            "  Tokenized 480 samples.\n",
            "  Tokenized 540 samples.\n",
            "DONE.\n",
            "       557 samples\n",
            "\n",
            "       557 samples after sorting\n",
            "\n",
            "Creating batches of size 16...\n",
            "\n",
            "  DONE - Selected 35 batches.\n",
            "\n",
            "Padding out sequences within each batch...\n",
            "  DONE.\n",
            "Predicting labels for 35 test batches...\n",
            "  Batch       4  of       35.    Elapsed: 0:00:00.  Remaining: 0:00:01\n",
            "  Batch       8  of       35.    Elapsed: 0:00:00.  Remaining: 0:00:01\n",
            "  Batch      12  of       35.    Elapsed: 0:00:00.  Remaining: 0:00:01\n",
            "  Batch      16  of       35.    Elapsed: 0:00:01.  Remaining: 0:00:01\n",
            "  Batch      20  of       35.    Elapsed: 0:00:01.  Remaining: 0:00:00\n",
            "  Batch      24  of       35.    Elapsed: 0:00:01.  Remaining: 0:00:00\n",
            "  Batch      28  of       35.    Elapsed: 0:00:01.  Remaining: 0:00:00\n",
            "  Batch      32  of       35.    Elapsed: 0:00:01.  Remaining: 0:00:00\n"
          ]
        }
      ]
    },
    {
      "cell_type": "code",
      "source": [
        "y_pred"
      ],
      "metadata": {
        "colab": {
          "base_uri": "https://localhost:8080/"
        },
        "id": "8MLQfC5xKr1y",
        "outputId": "ce4897d7-f269-4df5-96eb-63b2dbc0eb56"
      },
      "execution_count": 215,
      "outputs": [
        {
          "output_type": "execute_result",
          "data": {
            "text/plain": [
              "array(['ham', 'ham', 'ham', 'ham', 'ham', 'ham', 'ham', 'ham', 'ham',\n",
              "       'ham', 'ham', 'ham', 'ham', 'spam', 'ham', 'ham', 'ham', 'ham',\n",
              "       'ham', 'ham', 'ham', 'ham', 'ham', 'ham', 'ham', 'ham', 'ham',\n",
              "       'ham', 'ham', 'ham', 'ham', 'ham', 'ham', 'ham', 'ham', 'ham',\n",
              "       'ham', 'ham', 'ham', 'ham', 'ham', 'ham', 'ham', 'ham', 'ham',\n",
              "       'ham', 'ham', 'ham', 'ham', 'ham', 'ham', 'ham', 'ham', 'spam',\n",
              "       'ham', 'ham', 'ham', 'ham', 'ham', 'ham', 'ham', 'ham', 'ham',\n",
              "       'ham', 'ham', 'ham', 'ham', 'ham', 'ham', 'ham', 'ham', 'ham',\n",
              "       'ham', 'ham', 'ham', 'ham', 'ham', 'ham', 'ham', 'ham', 'ham',\n",
              "       'spam', 'spam', 'spam', 'spam', 'ham', 'ham', 'ham', 'spam',\n",
              "       'spam', 'spam', 'spam', 'ham', 'spam', 'spam', 'spam', 'ham',\n",
              "       'ham', 'spam', 'ham', 'ham', 'ham', 'ham', 'ham', 'ham', 'ham',\n",
              "       'ham', 'ham', 'ham', 'ham', 'ham', 'ham', 'ham', 'spam', 'ham',\n",
              "       'ham', 'spam', 'spam', 'ham', 'spam', 'ham', 'ham', 'spam', 'ham',\n",
              "       'ham', 'ham', 'spam', 'ham', 'ham', 'ham', 'ham', 'ham', 'ham',\n",
              "       'ham', 'ham', 'ham', 'ham', 'ham', 'ham', 'ham', 'ham', 'ham',\n",
              "       'spam', 'ham', 'spam', 'ham', 'spam', 'spam', 'ham', 'spam', 'ham',\n",
              "       'ham', 'ham', 'ham', 'ham', 'ham', 'spam', 'spam', 'spam', 'ham',\n",
              "       'spam', 'spam', 'spam', 'spam', 'ham', 'ham', 'spam', 'ham', 'ham',\n",
              "       'spam', 'spam', 'ham', 'ham', 'ham', 'ham', 'spam', 'ham', 'ham',\n",
              "       'ham', 'ham', 'ham', 'ham', 'ham', 'ham', 'ham', 'ham', 'ham',\n",
              "       'ham', 'ham', 'ham', 'ham', 'spam', 'ham', 'ham', 'ham', 'ham',\n",
              "       'ham', 'ham', 'ham', 'ham', 'ham', 'ham', 'ham', 'ham', 'ham',\n",
              "       'ham', 'ham', 'ham', 'ham', 'spam', 'spam', 'spam', 'ham', 'spam',\n",
              "       'ham', 'spam', 'spam', 'spam', 'spam', 'ham', 'ham', 'spam',\n",
              "       'spam', 'spam', 'ham', 'ham', 'ham', 'ham', 'ham', 'ham', 'ham',\n",
              "       'ham', 'ham', 'ham', 'ham', 'ham', 'ham', 'ham', 'ham', 'ham',\n",
              "       'ham', 'ham', 'ham', 'ham', 'ham', 'ham', 'ham', 'ham', 'ham',\n",
              "       'ham', 'ham', 'ham', 'ham', 'ham', 'ham', 'ham', 'ham', 'ham',\n",
              "       'ham', 'ham', 'ham', 'ham', 'ham', 'ham', 'ham', 'ham', 'ham',\n",
              "       'ham', 'ham', 'ham', 'ham', 'ham', 'ham', 'ham', 'ham', 'ham',\n",
              "       'ham', 'ham', 'ham', 'ham', 'ham', 'ham', 'ham', 'ham', 'ham',\n",
              "       'ham', 'ham', 'ham', 'ham', 'ham', 'ham', 'ham', 'ham', 'ham',\n",
              "       'ham', 'ham', 'ham', 'ham', 'ham', 'ham', 'ham', 'ham', 'ham',\n",
              "       'ham', 'spam', 'spam', 'ham', 'ham', 'spam', 'ham', 'spam', 'spam',\n",
              "       'spam', 'ham', 'spam', 'ham', 'ham', 'spam', 'spam', 'ham', 'spam',\n",
              "       'ham', 'ham', 'ham', 'ham', 'spam', 'ham', 'ham', 'ham', 'ham',\n",
              "       'ham', 'ham', 'ham', 'ham', 'ham', 'ham', 'ham', 'ham', 'ham',\n",
              "       'spam', 'ham', 'ham', 'ham', 'ham', 'ham', 'ham', 'ham', 'ham',\n",
              "       'spam', 'ham', 'ham', 'spam', 'spam', 'ham', 'spam', 'spam',\n",
              "       'spam', 'spam', 'spam', 'spam', 'spam', 'ham', 'ham', 'spam',\n",
              "       'ham', 'ham', 'ham', 'ham', 'spam', 'ham', 'ham', 'spam', 'ham',\n",
              "       'ham', 'ham', 'ham', 'ham', 'ham', 'ham', 'ham', 'ham', 'ham',\n",
              "       'ham', 'spam', 'ham', 'ham', 'ham', 'ham', 'ham', 'spam', 'ham',\n",
              "       'ham', 'spam', 'ham', 'ham', 'ham', 'spam', 'ham', 'spam', 'ham',\n",
              "       'ham', 'ham', 'ham', 'ham', 'ham', 'ham', 'spam', 'ham', 'ham',\n",
              "       'ham', 'ham', 'ham', 'ham', 'ham', 'ham', 'spam', 'ham', 'ham',\n",
              "       'ham', 'ham', 'ham', 'ham', 'ham', 'ham', 'ham', 'ham', 'ham',\n",
              "       'ham', 'ham', 'ham', 'ham', 'ham', 'ham', 'ham', 'ham', 'ham',\n",
              "       'ham', 'ham', 'ham', 'ham', 'spam', 'ham', 'ham', 'ham', 'ham',\n",
              "       'ham', 'spam', 'ham', 'ham', 'ham', 'ham', 'ham', 'ham', 'ham',\n",
              "       'ham', 'ham', 'ham', 'ham', 'ham', 'ham', 'ham', 'ham', 'ham',\n",
              "       'ham', 'ham', 'ham', 'ham', 'ham', 'ham', 'ham', 'ham', 'ham',\n",
              "       'ham', 'ham', 'ham', 'ham', 'ham', 'ham', 'ham', 'ham', 'ham',\n",
              "       'ham', 'ham', 'ham', 'ham', 'ham', 'ham', 'ham', 'ham', 'ham',\n",
              "       'ham', 'ham', 'ham', 'ham', 'ham', 'ham', 'ham', 'ham', 'ham',\n",
              "       'ham', 'ham', 'ham', 'ham', 'ham', 'ham', 'ham', 'ham', 'ham',\n",
              "       'ham', 'ham', 'ham', 'ham', 'spam', 'ham', 'ham', 'ham', 'ham',\n",
              "       'ham', 'ham', 'ham', 'ham', 'ham', 'ham', 'ham', 'ham', 'spam',\n",
              "       'ham', 'ham', 'ham', 'ham', 'ham', 'ham', 'ham', 'ham', 'ham',\n",
              "       'ham', 'ham', 'ham', 'ham', 'ham', 'ham', 'spam', 'ham', 'ham',\n",
              "       'ham', 'ham', 'ham', 'ham', 'spam', 'ham', 'ham', 'ham', 'ham',\n",
              "       'spam', 'ham', 'ham', 'ham'], dtype=object)"
            ]
          },
          "metadata": {},
          "execution_count": 215
        }
      ]
    },
    {
      "cell_type": "markdown",
      "metadata": {
        "id": "vjsjqQpRQcsV"
      },
      "source": [
        "## Evaluating accuracy over test set"
      ]
    },
    {
      "cell_type": "code",
      "metadata": {
        "colab": {
          "base_uri": "https://localhost:8080/"
        },
        "id": "rwkx-30AQcsV",
        "outputId": "5a844724-13fd-4a04-f92b-52ef06f38f48"
      },
      "source": [
        "y_ids,y_preds  = get_predictions_test(py_inputs, py_attn_masks,py_ids)\n"
      ],
      "execution_count": 192,
      "outputs": [
        {
          "output_type": "stream",
          "name": "stdout",
          "text": [
            "Predicting labels for 35 test batches...\n",
            "  Batch       4  of       35.    Elapsed: 0:00:00.  Remaining: 0:00:01\n",
            "  Batch       8  of       35.    Elapsed: 0:00:00.  Remaining: 0:00:01\n",
            "  Batch      12  of       35.    Elapsed: 0:00:00.  Remaining: 0:00:01\n",
            "  Batch      16  of       35.    Elapsed: 0:00:00.  Remaining: 0:00:01\n",
            "  Batch      20  of       35.    Elapsed: 0:00:01.  Remaining: 0:00:00\n",
            "  Batch      24  of       35.    Elapsed: 0:00:01.  Remaining: 0:00:00\n",
            "  Batch      28  of       35.    Elapsed: 0:00:01.  Remaining: 0:00:00\n",
            "  Batch      32  of       35.    Elapsed: 0:00:01.  Remaining: 0:00:00\n"
          ]
        }
      ]
    },
    {
      "cell_type": "code",
      "metadata": {
        "colab": {
          "base_uri": "https://localhost:8080/"
        },
        "id": "pDM-cnDHQcsW",
        "outputId": "8777536a-1314-4bbd-9603-767a34591d10"
      },
      "source": [
        "print(y_preds)"
      ],
      "execution_count": 193,
      "outputs": [
        {
          "output_type": "stream",
          "name": "stdout",
          "text": [
            "[0 0 0 0 0 0 0 0 0 0 0 0 0 1 0 0 0 0 0 0 0 0 0 0 0 0 0 0 0 0 0 0 0 0 0 0 0\n",
            " 0 0 0 0 0 0 0 0 0 0 0 0 0 0 0 0 1 0 0 0 0 0 0 0 0 0 0 0 0 0 0 0 0 0 0 0 0\n",
            " 0 0 0 0 0 0 0 1 1 1 1 0 0 0 1 1 1 1 0 1 1 1 0 0 1 0 0 0 0 0 0 0 0 0 0 0 0\n",
            " 0 0 1 0 0 1 1 0 1 0 0 1 0 0 0 1 0 0 0 0 0 0 0 0 0 0 0 0 0 0 0 1 0 1 0 1 1\n",
            " 0 1 0 0 0 0 0 0 1 1 1 0 1 1 1 1 0 0 1 0 0 1 1 0 0 0 0 1 0 0 0 0 0 0 0 0 0\n",
            " 0 0 0 0 0 0 1 0 0 0 0 0 0 0 0 0 0 0 0 0 0 0 0 0 1 1 1 0 1 0 1 1 1 1 0 0 1\n",
            " 1 1 0 0 0 0 0 0 0 0 0 0 0 0 0 0 0 0 0 0 0 0 0 0 0 0 0 0 0 0 0 0 0 0 0 0 0\n",
            " 0 0 0 0 0 0 0 0 0 0 0 0 0 0 0 0 0 0 0 0 0 0 0 0 0 0 0 0 0 0 0 0 0 0 0 0 0\n",
            " 0 0 0 0 0 0 0 0 1 1 0 0 1 0 1 1 1 0 1 0 0 1 1 0 1 0 0 0 0 1 0 0 0 0 0 0 0\n",
            " 0 0 0 0 0 0 1 0 0 0 0 0 0 0 0 1 0 0 1 1 0 1 1 1 1 1 1 1 0 0 1 0 0 0 0 1 0\n",
            " 0 1 0 0 0 0 0 0 0 0 0 0 0 1 0 0 0 0 0 1 0 0 1 0 0 0 1 0 1 0 0 0 0 0 0 0 1\n",
            " 0 0 0 0 0 0 0 0 1 0 0 0 0 0 0 0 0 0 0 0 0 0 0 0 0 0 0 0 0 0 0 0 0 1 0 0 0\n",
            " 0 0 1 0 0 0 0 0 0 0 0 0 0 0 0 0 0 0 0 0 0 0 0 0 0 0 0 0 0 0 0 0 0 0 0 0 0\n",
            " 0 0 0 0 0 0 0 0 0 0 0 0 0 0 0 0 0 0 0 0 0 0 0 0 0 0 0 0 0 0 0 1 0 0 0 0 0\n",
            " 0 0 0 0 0 0 0 1 0 0 0 0 0 0 0 0 0 0 0 0 0 0 0 1 0 0 0 0 0 0 1 0 0 0 0 1 0\n",
            " 0 0]\n"
          ]
        }
      ]
    },
    {
      "cell_type": "code",
      "metadata": {
        "colab": {
          "base_uri": "https://localhost:8080/"
        },
        "id": "kWWWjz7eUPc7",
        "outputId": "9a263bc2-8856-4e7f-b9dd-909c98ff373c"
      },
      "source": [
        "print(y_ids)"
      ],
      "execution_count": 194,
      "outputs": [
        {
          "output_type": "stream",
          "name": "stdout",
          "text": [
            "[2402 3547 5415 1945  677 2732  438   17 2487  748 5022 3405 3586 4071\n",
            " 2714  734 1183 3816  425 2767  426 5332 1242 2746 1420 2252 4355 1881\n",
            " 1438 2276 4993 2726 1747 1934  387 2727  319 3752 4022 5127 5182 5275\n",
            " 4205  252 5406 4609 4336 1410 2561 2755 1813 4608 3599 3979 3994 2273\n",
            " 4905 1564  654 5470 3479   26 4077 4368 3669  798 2789 1822 2067 2357\n",
            " 3366 1281 4805 4615 3873 3725 1859 1025  106  233 1526  239 1779 1468\n",
            " 4916 1175 2121 4435  812  865  800 3153 1097 2366 2589 2263 3425 4428\n",
            "  414 3497 4816  479 2615  626 1126 4228 2100 3185 1397 5556  764  351\n",
            " 1485  582  465 2826 1448 2952  322 2641 4546 1786 1879 2858 5207 1335\n",
            "  877 1163 2029 2865  501 2348 2570   69 4378 1330 4588 2086 3410 3112\n",
            " 3946 5293 5120 5255  334  763  683 3494  944 5164 3142 1412 1020 3662\n",
            " 2317 4003 1193 4585  491 2905    8 4294 1593  272 5054 3163 1892 2932\n",
            " 1665   12  718 4808 4092  177 3454 1894 4427 4684 1957 5177  453 2995\n",
            " 3529 3295 3548 4713 1253 3450 4269 3360 1937 4853  151 1888 4602  996\n",
            "   79  925 2488 5240 5155 3543 3559 1101 5410 3872 4539 1215 1632 1090\n",
            " 4147 4532 4524 3227  219 1268   15 1224 4886 1720 3181 1543  803 4806\n",
            " 3463 2087   84  203 1344 1393 2927 1699 4402 4961 2972 3678 5167 3785\n",
            " 1557 3384  642 3552 4665 3400 2836 5344 2095 3660 1350 3722 2456 3576\n",
            " 3262 2347 3706 4182 4080 1703 5423 3592 5450 3779 2306 2138 1407  416\n",
            " 2770 4085 3580   47  183 1421  842 5031 2749 1425 2213   29 3033 2341\n",
            " 5181 4574 2422  168 5479 3616 2201 4321 3211 1115  527 2471 2760 4288\n",
            " 2721 2486  401 4081   88 5371  339 1755 1197 3733 2351 3997 2571  228\n",
            "  263 2124  765 4160  838  952 3407 3106  586 2877 4046 5125  751  889\n",
            "  371 5350 1467 1702 3859 3340 1599 4734 5453 3455 5541 4108  109   61\n",
            " 2131 4516 1323 4951  926 1877 3641  230 4457 2287 1075 3135 3753 4431\n",
            " 4161 1049 1992  534  530 2846 2480 4796 2052 3562 5141 1261 5400 4904\n",
            " 3820 4407 5209  881  367 3434 1073 3903 2463 1694 4347 1436 4527 3864\n",
            " 4709 4050 3712 4909 1498 3858 3945 5465  259 5198 2742 1873  179 2462\n",
            "  787 1483 3822 3094 2819 3535 5178  393 4483 1580 2723  693 4047  978\n",
            " 4211 4479 2550 4999 3197 5493 2780 4333 1361 1962  807 1615 4651 1684\n",
            "   37 2598 1057 5089  181 2803  657 3200 2835 3317 4629 5457 1654  705\n",
            " 1046  428 5474 2417 4352 4315 2669 5124  553 1038 1650 2903 2118 3827\n",
            " 3443 2135 1471 5239  731 1844 3755  279 4845  561  599 1173 4410 3311\n",
            " 1158 5261 3361 3199 1244 3402 1297 3337 5063  696 1255 2458  903 2642\n",
            "  478 3411 1669 2059 2585 1432 4841 2080 2328 5339 2187 2191 1817 1533\n",
            " 4274 3164 2364 1188  898 4956 3002 2384   80 1319 1837 2110 1209 2167\n",
            " 3632 4578 3247 3793 1231   63 5263  915 1611   43 5307 1752 3958 1732\n",
            " 4900 3256  291 2329 3887 3195 3758  712 1630 1666  447  107 5270  829\n",
            " 1606 2519  809 3467 5156  681 3217 3207 4470 4295 3819 3520 1924  336\n",
            "  199  733 3904 3050 1509 2941  373 4733 2944 4903 1084]\n"
          ]
        }
      ]
    },
    {
      "cell_type": "code",
      "metadata": {
        "colab": {
          "base_uri": "https://localhost:8080/"
        },
        "id": "u2ybbsAoQcsY",
        "outputId": "df00f331-0bdc-4e58-a765-5519077312fe"
      },
      "source": [
        "le.inverse_transform(y_preds)"
      ],
      "execution_count": 195,
      "outputs": [
        {
          "output_type": "execute_result",
          "data": {
            "text/plain": [
              "array(['ham', 'ham', 'ham', 'ham', 'ham', 'ham', 'ham', 'ham', 'ham',\n",
              "       'ham', 'ham', 'ham', 'ham', 'spam', 'ham', 'ham', 'ham', 'ham',\n",
              "       'ham', 'ham', 'ham', 'ham', 'ham', 'ham', 'ham', 'ham', 'ham',\n",
              "       'ham', 'ham', 'ham', 'ham', 'ham', 'ham', 'ham', 'ham', 'ham',\n",
              "       'ham', 'ham', 'ham', 'ham', 'ham', 'ham', 'ham', 'ham', 'ham',\n",
              "       'ham', 'ham', 'ham', 'ham', 'ham', 'ham', 'ham', 'ham', 'spam',\n",
              "       'ham', 'ham', 'ham', 'ham', 'ham', 'ham', 'ham', 'ham', 'ham',\n",
              "       'ham', 'ham', 'ham', 'ham', 'ham', 'ham', 'ham', 'ham', 'ham',\n",
              "       'ham', 'ham', 'ham', 'ham', 'ham', 'ham', 'ham', 'ham', 'ham',\n",
              "       'spam', 'spam', 'spam', 'spam', 'ham', 'ham', 'ham', 'spam',\n",
              "       'spam', 'spam', 'spam', 'ham', 'spam', 'spam', 'spam', 'ham',\n",
              "       'ham', 'spam', 'ham', 'ham', 'ham', 'ham', 'ham', 'ham', 'ham',\n",
              "       'ham', 'ham', 'ham', 'ham', 'ham', 'ham', 'ham', 'spam', 'ham',\n",
              "       'ham', 'spam', 'spam', 'ham', 'spam', 'ham', 'ham', 'spam', 'ham',\n",
              "       'ham', 'ham', 'spam', 'ham', 'ham', 'ham', 'ham', 'ham', 'ham',\n",
              "       'ham', 'ham', 'ham', 'ham', 'ham', 'ham', 'ham', 'ham', 'ham',\n",
              "       'spam', 'ham', 'spam', 'ham', 'spam', 'spam', 'ham', 'spam', 'ham',\n",
              "       'ham', 'ham', 'ham', 'ham', 'ham', 'spam', 'spam', 'spam', 'ham',\n",
              "       'spam', 'spam', 'spam', 'spam', 'ham', 'ham', 'spam', 'ham', 'ham',\n",
              "       'spam', 'spam', 'ham', 'ham', 'ham', 'ham', 'spam', 'ham', 'ham',\n",
              "       'ham', 'ham', 'ham', 'ham', 'ham', 'ham', 'ham', 'ham', 'ham',\n",
              "       'ham', 'ham', 'ham', 'ham', 'spam', 'ham', 'ham', 'ham', 'ham',\n",
              "       'ham', 'ham', 'ham', 'ham', 'ham', 'ham', 'ham', 'ham', 'ham',\n",
              "       'ham', 'ham', 'ham', 'ham', 'spam', 'spam', 'spam', 'ham', 'spam',\n",
              "       'ham', 'spam', 'spam', 'spam', 'spam', 'ham', 'ham', 'spam',\n",
              "       'spam', 'spam', 'ham', 'ham', 'ham', 'ham', 'ham', 'ham', 'ham',\n",
              "       'ham', 'ham', 'ham', 'ham', 'ham', 'ham', 'ham', 'ham', 'ham',\n",
              "       'ham', 'ham', 'ham', 'ham', 'ham', 'ham', 'ham', 'ham', 'ham',\n",
              "       'ham', 'ham', 'ham', 'ham', 'ham', 'ham', 'ham', 'ham', 'ham',\n",
              "       'ham', 'ham', 'ham', 'ham', 'ham', 'ham', 'ham', 'ham', 'ham',\n",
              "       'ham', 'ham', 'ham', 'ham', 'ham', 'ham', 'ham', 'ham', 'ham',\n",
              "       'ham', 'ham', 'ham', 'ham', 'ham', 'ham', 'ham', 'ham', 'ham',\n",
              "       'ham', 'ham', 'ham', 'ham', 'ham', 'ham', 'ham', 'ham', 'ham',\n",
              "       'ham', 'ham', 'ham', 'ham', 'ham', 'ham', 'ham', 'ham', 'ham',\n",
              "       'ham', 'spam', 'spam', 'ham', 'ham', 'spam', 'ham', 'spam', 'spam',\n",
              "       'spam', 'ham', 'spam', 'ham', 'ham', 'spam', 'spam', 'ham', 'spam',\n",
              "       'ham', 'ham', 'ham', 'ham', 'spam', 'ham', 'ham', 'ham', 'ham',\n",
              "       'ham', 'ham', 'ham', 'ham', 'ham', 'ham', 'ham', 'ham', 'ham',\n",
              "       'spam', 'ham', 'ham', 'ham', 'ham', 'ham', 'ham', 'ham', 'ham',\n",
              "       'spam', 'ham', 'ham', 'spam', 'spam', 'ham', 'spam', 'spam',\n",
              "       'spam', 'spam', 'spam', 'spam', 'spam', 'ham', 'ham', 'spam',\n",
              "       'ham', 'ham', 'ham', 'ham', 'spam', 'ham', 'ham', 'spam', 'ham',\n",
              "       'ham', 'ham', 'ham', 'ham', 'ham', 'ham', 'ham', 'ham', 'ham',\n",
              "       'ham', 'spam', 'ham', 'ham', 'ham', 'ham', 'ham', 'spam', 'ham',\n",
              "       'ham', 'spam', 'ham', 'ham', 'ham', 'spam', 'ham', 'spam', 'ham',\n",
              "       'ham', 'ham', 'ham', 'ham', 'ham', 'ham', 'spam', 'ham', 'ham',\n",
              "       'ham', 'ham', 'ham', 'ham', 'ham', 'ham', 'spam', 'ham', 'ham',\n",
              "       'ham', 'ham', 'ham', 'ham', 'ham', 'ham', 'ham', 'ham', 'ham',\n",
              "       'ham', 'ham', 'ham', 'ham', 'ham', 'ham', 'ham', 'ham', 'ham',\n",
              "       'ham', 'ham', 'ham', 'ham', 'spam', 'ham', 'ham', 'ham', 'ham',\n",
              "       'ham', 'spam', 'ham', 'ham', 'ham', 'ham', 'ham', 'ham', 'ham',\n",
              "       'ham', 'ham', 'ham', 'ham', 'ham', 'ham', 'ham', 'ham', 'ham',\n",
              "       'ham', 'ham', 'ham', 'ham', 'ham', 'ham', 'ham', 'ham', 'ham',\n",
              "       'ham', 'ham', 'ham', 'ham', 'ham', 'ham', 'ham', 'ham', 'ham',\n",
              "       'ham', 'ham', 'ham', 'ham', 'ham', 'ham', 'ham', 'ham', 'ham',\n",
              "       'ham', 'ham', 'ham', 'ham', 'ham', 'ham', 'ham', 'ham', 'ham',\n",
              "       'ham', 'ham', 'ham', 'ham', 'ham', 'ham', 'ham', 'ham', 'ham',\n",
              "       'ham', 'ham', 'ham', 'ham', 'spam', 'ham', 'ham', 'ham', 'ham',\n",
              "       'ham', 'ham', 'ham', 'ham', 'ham', 'ham', 'ham', 'ham', 'spam',\n",
              "       'ham', 'ham', 'ham', 'ham', 'ham', 'ham', 'ham', 'ham', 'ham',\n",
              "       'ham', 'ham', 'ham', 'ham', 'ham', 'ham', 'spam', 'ham', 'ham',\n",
              "       'ham', 'ham', 'ham', 'ham', 'spam', 'ham', 'ham', 'ham', 'ham',\n",
              "       'spam', 'ham', 'ham', 'ham'], dtype=object)"
            ]
          },
          "metadata": {},
          "execution_count": 195
        }
      ]
    },
    {
      "cell_type": "code",
      "metadata": {
        "colab": {
          "base_uri": "https://localhost:8080/",
          "height": 583
        },
        "id": "kSMb6sCLQcsZ",
        "outputId": "8fe70596-1a72-45d0-ee09-8fc699ea8f98"
      },
      "source": [
        "sns.countplot(y =le.inverse_transform(y_preds))"
      ],
      "execution_count": 196,
      "outputs": [
        {
          "output_type": "execute_result",
          "data": {
            "text/plain": [
              "<Axes: xlabel='count'>"
            ]
          },
          "metadata": {},
          "execution_count": 196
        },
        {
          "output_type": "display_data",
          "data": {
            "text/plain": [
              "<Figure size 1200x600 with 1 Axes>"
            ],
            "image/png": "[encoded data removed]"
          },
          "metadata": {}
        }
      ]
    },
    {
      "cell_type": "code",
      "metadata": {
        "colab": {
          "base_uri": "https://localhost:8080/"
        },
        "id": "4KXOXwH9U2MT",
        "outputId": "f5046909-f021-4d6b-b961-ca9db530ef0e"
      },
      "source": [
        "len(y_ids)"
      ],
      "execution_count": 197,
      "outputs": [
        {
          "output_type": "execute_result",
          "data": {
            "text/plain": [
              "557"
            ]
          },
          "metadata": {},
          "execution_count": 197
        }
      ]
    },
    {
      "cell_type": "code",
      "metadata": {
        "colab": {
          "base_uri": "https://localhost:8080/"
        },
        "id": "9-fkBgOxU4bX",
        "outputId": "1dfd8850-e3ee-4def-cbf9-705ccc3f3a93"
      },
      "source": [
        "y_pred=le.inverse_transform(y_preds)\n",
        "y_pred"
      ],
      "execution_count": 198,
      "outputs": [
        {
          "output_type": "execute_result",
          "data": {
            "text/plain": [
              "array(['ham', 'ham', 'ham', 'ham', 'ham', 'ham', 'ham', 'ham', 'ham',\n",
              "       'ham', 'ham', 'ham', 'ham', 'spam', 'ham', 'ham', 'ham', 'ham',\n",
              "       'ham', 'ham', 'ham', 'ham', 'ham', 'ham', 'ham', 'ham', 'ham',\n",
              "       'ham', 'ham', 'ham', 'ham', 'ham', 'ham', 'ham', 'ham', 'ham',\n",
              "       'ham', 'ham', 'ham', 'ham', 'ham', 'ham', 'ham', 'ham', 'ham',\n",
              "       'ham', 'ham', 'ham', 'ham', 'ham', 'ham', 'ham', 'ham', 'spam',\n",
              "       'ham', 'ham', 'ham', 'ham', 'ham', 'ham', 'ham', 'ham', 'ham',\n",
              "       'ham', 'ham', 'ham', 'ham', 'ham', 'ham', 'ham', 'ham', 'ham',\n",
              "       'ham', 'ham', 'ham', 'ham', 'ham', 'ham', 'ham', 'ham', 'ham',\n",
              "       'spam', 'spam', 'spam', 'spam', 'ham', 'ham', 'ham', 'spam',\n",
              "       'spam', 'spam', 'spam', 'ham', 'spam', 'spam', 'spam', 'ham',\n",
              "       'ham', 'spam', 'ham', 'ham', 'ham', 'ham', 'ham', 'ham', 'ham',\n",
              "       'ham', 'ham', 'ham', 'ham', 'ham', 'ham', 'ham', 'spam', 'ham',\n",
              "       'ham', 'spam', 'spam', 'ham', 'spam', 'ham', 'ham', 'spam', 'ham',\n",
              "       'ham', 'ham', 'spam', 'ham', 'ham', 'ham', 'ham', 'ham', 'ham',\n",
              "       'ham', 'ham', 'ham', 'ham', 'ham', 'ham', 'ham', 'ham', 'ham',\n",
              "       'spam', 'ham', 'spam', 'ham', 'spam', 'spam', 'ham', 'spam', 'ham',\n",
              "       'ham', 'ham', 'ham', 'ham', 'ham', 'spam', 'spam', 'spam', 'ham',\n",
              "       'spam', 'spam', 'spam', 'spam', 'ham', 'ham', 'spam', 'ham', 'ham',\n",
              "       'spam', 'spam', 'ham', 'ham', 'ham', 'ham', 'spam', 'ham', 'ham',\n",
              "       'ham', 'ham', 'ham', 'ham', 'ham', 'ham', 'ham', 'ham', 'ham',\n",
              "       'ham', 'ham', 'ham', 'ham', 'spam', 'ham', 'ham', 'ham', 'ham',\n",
              "       'ham', 'ham', 'ham', 'ham', 'ham', 'ham', 'ham', 'ham', 'ham',\n",
              "       'ham', 'ham', 'ham', 'ham', 'spam', 'spam', 'spam', 'ham', 'spam',\n",
              "       'ham', 'spam', 'spam', 'spam', 'spam', 'ham', 'ham', 'spam',\n",
              "       'spam', 'spam', 'ham', 'ham', 'ham', 'ham', 'ham', 'ham', 'ham',\n",
              "       'ham', 'ham', 'ham', 'ham', 'ham', 'ham', 'ham', 'ham', 'ham',\n",
              "       'ham', 'ham', 'ham', 'ham', 'ham', 'ham', 'ham', 'ham', 'ham',\n",
              "       'ham', 'ham', 'ham', 'ham', 'ham', 'ham', 'ham', 'ham', 'ham',\n",
              "       'ham', 'ham', 'ham', 'ham', 'ham', 'ham', 'ham', 'ham', 'ham',\n",
              "       'ham', 'ham', 'ham', 'ham', 'ham', 'ham', 'ham', 'ham', 'ham',\n",
              "       'ham', 'ham', 'ham', 'ham', 'ham', 'ham', 'ham', 'ham', 'ham',\n",
              "       'ham', 'ham', 'ham', 'ham', 'ham', 'ham', 'ham', 'ham', 'ham',\n",
              "       'ham', 'ham', 'ham', 'ham', 'ham', 'ham', 'ham', 'ham', 'ham',\n",
              "       'ham', 'spam', 'spam', 'ham', 'ham', 'spam', 'ham', 'spam', 'spam',\n",
              "       'spam', 'ham', 'spam', 'ham', 'ham', 'spam', 'spam', 'ham', 'spam',\n",
              "       'ham', 'ham', 'ham', 'ham', 'spam', 'ham', 'ham', 'ham', 'ham',\n",
              "       'ham', 'ham', 'ham', 'ham', 'ham', 'ham', 'ham', 'ham', 'ham',\n",
              "       'spam', 'ham', 'ham', 'ham', 'ham', 'ham', 'ham', 'ham', 'ham',\n",
              "       'spam', 'ham', 'ham', 'spam', 'spam', 'ham', 'spam', 'spam',\n",
              "       'spam', 'spam', 'spam', 'spam', 'spam', 'ham', 'ham', 'spam',\n",
              "       'ham', 'ham', 'ham', 'ham', 'spam', 'ham', 'ham', 'spam', 'ham',\n",
              "       'ham', 'ham', 'ham', 'ham', 'ham', 'ham', 'ham', 'ham', 'ham',\n",
              "       'ham', 'spam', 'ham', 'ham', 'ham', 'ham', 'ham', 'spam', 'ham',\n",
              "       'ham', 'spam', 'ham', 'ham', 'ham', 'spam', 'ham', 'spam', 'ham',\n",
              "       'ham', 'ham', 'ham', 'ham', 'ham', 'ham', 'spam', 'ham', 'ham',\n",
              "       'ham', 'ham', 'ham', 'ham', 'ham', 'ham', 'spam', 'ham', 'ham',\n",
              "       'ham', 'ham', 'ham', 'ham', 'ham', 'ham', 'ham', 'ham', 'ham',\n",
              "       'ham', 'ham', 'ham', 'ham', 'ham', 'ham', 'ham', 'ham', 'ham',\n",
              "       'ham', 'ham', 'ham', 'ham', 'spam', 'ham', 'ham', 'ham', 'ham',\n",
              "       'ham', 'spam', 'ham', 'ham', 'ham', 'ham', 'ham', 'ham', 'ham',\n",
              "       'ham', 'ham', 'ham', 'ham', 'ham', 'ham', 'ham', 'ham', 'ham',\n",
              "       'ham', 'ham', 'ham', 'ham', 'ham', 'ham', 'ham', 'ham', 'ham',\n",
              "       'ham', 'ham', 'ham', 'ham', 'ham', 'ham', 'ham', 'ham', 'ham',\n",
              "       'ham', 'ham', 'ham', 'ham', 'ham', 'ham', 'ham', 'ham', 'ham',\n",
              "       'ham', 'ham', 'ham', 'ham', 'ham', 'ham', 'ham', 'ham', 'ham',\n",
              "       'ham', 'ham', 'ham', 'ham', 'ham', 'ham', 'ham', 'ham', 'ham',\n",
              "       'ham', 'ham', 'ham', 'ham', 'spam', 'ham', 'ham', 'ham', 'ham',\n",
              "       'ham', 'ham', 'ham', 'ham', 'ham', 'ham', 'ham', 'ham', 'spam',\n",
              "       'ham', 'ham', 'ham', 'ham', 'ham', 'ham', 'ham', 'ham', 'ham',\n",
              "       'ham', 'ham', 'ham', 'ham', 'ham', 'ham', 'spam', 'ham', 'ham',\n",
              "       'ham', 'ham', 'ham', 'ham', 'spam', 'ham', 'ham', 'ham', 'ham',\n",
              "       'spam', 'ham', 'ham', 'ham'], dtype=object)"
            ]
          },
          "metadata": {},
          "execution_count": 198
        }
      ]
    },
    {
      "cell_type": "code",
      "source": [
        "cm = confusion_matrix(y_pred, test_labels)\n",
        "show_confusion_matrix(cm, class_names)"
      ],
      "metadata": {
        "colab": {
          "base_uri": "https://localhost:8080/",
          "height": 593
        },
        "id": "vmLjgJMLLOHJ",
        "outputId": "2b681997-a103-4292-d115-65c384286549"
      },
      "execution_count": 217,
      "outputs": [
        {
          "output_type": "display_data",
          "data": {
            "text/plain": [
              "<Figure size 1200x600 with 2 Axes>"
            ],
            "image/png": "[encoded data removed]"
          },
          "metadata": {}
        }
      ]
    },
    {
      "cell_type": "code",
      "source": [
        "import numpy as np\n",
        "import pandas as pd\n",
        "import matplotlib.pyplot as plt\n",
        "from sklearn.metrics import classification_report, confusion_matrix\n",
        "\n",
        "# Assuming y_pred and test_labels are defined\n",
        "# Convert predictions to class labels if they are probabilities (if needed)\n",
        "# y_pred_classes = np.argmax(y_pred, axis=1)\n",
        "\n",
        "# Generate the classification report\n",
        "print(\"Classification Report:\")\n",
        "print(classification_report(test_labels, y_pred, target_names=class_names, zero_division=0, digits=4))\n",
        "\n",
        "# Create the confusion matrix\n",
        "cm = confusion_matrix(test_labels, y_pred)\n",
        "\n",
        "# Function to display the confusion matrix\n",
        "def show_confusion_matrix(cm, classes):\n",
        "    plt.figure(figsize=(10, 7))\n",
        "    plt.imshow(cm, interpolation='nearest', cmap='Blues')\n",
        "    plt.title('Confusion Matrix')\n",
        "    plt.colorbar()\n",
        "    tick_marks = np.arange(len(classes))\n",
        "    plt.xticks(tick_marks, classes, rotation=45)\n",
        "    plt.yticks(tick_marks, classes)\n",
        "\n",
        "    # Normalize the confusion matrix by row (i.e., by the number of samples in each class)\n",
        "    cm_normalized = cm.astype('float') / cm.sum(axis=1)[:, np.newaxis]\n",
        "\n",
        "    thresh = cm_normalized.max() / 2.\n",
        "    for i, j in np.ndindex(cm_normalized.shape):\n",
        "        plt.text(j, i, format(cm_normalized[i, j], '.2f'),\n",
        "                 horizontalalignment=\"center\",\n",
        "                 color=\"white\" if cm_normalized[i, j] > thresh else \"black\")\n",
        "\n",
        "    plt.ylabel('True label')\n",
        "    plt.xlabel('Predicted label')\n",
        "    plt.tight_layout()\n",
        "    plt.show()\n",
        "\n",
        "# Display the confusion matrix\n",
        "show_confusion_matrix(cm, class_names)\n"
      ],
      "metadata": {
        "colab": {
          "base_uri": "https://localhost:8080/",
          "height": 871
        },
        "id": "62-IVe5XL5MS",
        "outputId": "c2709916-7cda-43a2-fa04-9c7bae955218"
      },
      "execution_count": 218,
      "outputs": [
        {
          "output_type": "stream",
          "name": "stdout",
          "text": [
            "Classification Report:\n",
            "              precision    recall  f1-score   support\n",
            "\n",
            "         ham     0.8468    0.8414    0.8441       473\n",
            "        spam     0.1379    0.1429    0.1404        84\n",
            "\n",
            "    accuracy                         0.7361       557\n",
            "   macro avg     0.4924    0.4921    0.4922       557\n",
            "weighted avg     0.7399    0.7361    0.7380       557\n",
            "\n"
          ]
        },
        {
          "output_type": "display_data",
          "data": {
            "text/plain": [
              "<Figure size 1000x700 with 2 Axes>"
            ],
            "image/png": "[encoded data removed]"
          },
          "metadata": {}
        }
      ]
    }
  ]
}